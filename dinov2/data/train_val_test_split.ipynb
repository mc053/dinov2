{
 "cells": [
  {
   "cell_type": "markdown",
   "metadata": {},
   "source": [
    "# Splitting the Datasets Into Training, Validation and Testing Partitions"
   ]
  },
  {
   "cell_type": "markdown",
   "metadata": {},
   "source": [
    "## CelebA"
   ]
  },
  {
   "cell_type": "code",
   "execution_count": 2,
   "metadata": {},
   "outputs": [],
   "source": [
    "import os\n",
    "import shutil\n",
    "import pandas as pd\n",
    "from pathlib import Path\n",
    "from tqdm import tqdm"
   ]
  },
  {
   "cell_type": "code",
   "execution_count": 3,
   "metadata": {},
   "outputs": [],
   "source": [
    "CELEB_A_PARTITIONS_PATH = \"./datasets/CelebA/list_eval_partition.csv\"\n",
    "CELEB_A_ORIGINAL_PATH = \"./datasets/CelebA/CelebA_original/\"\n",
    "CELEB_A_MASKED_PATH = \"./datasets/CelebA/CelebA_masked/\"\n",
    "CELEB_A_PIXELATED_PATH = \"./datasets/CelebA/CelebA_pixelated/\""
   ]
  },
  {
   "cell_type": "code",
   "execution_count": 4,
   "metadata": {},
   "outputs": [],
   "source": [
    "for base_path in [CELEB_A_ORIGINAL_PATH, CELEB_A_MASKED_PATH, CELEB_A_PIXELATED_PATH]:\n",
    "    os.makedirs(os.path.join(base_path, \"train\"), exist_ok=True)\n",
    "    os.makedirs(os.path.join(base_path, \"val\"), exist_ok=True)\n",
    "    os.makedirs(os.path.join(base_path, \"test\"), exist_ok=True)"
   ]
  },
  {
   "cell_type": "code",
   "execution_count": 5,
   "metadata": {},
   "outputs": [],
   "source": [
    "partitions = pd.read_csv(CELEB_A_PARTITIONS_PATH)"
   ]
  },
  {
   "cell_type": "code",
   "execution_count": 6,
   "metadata": {},
   "outputs": [
    {
     "name": "stderr",
     "output_type": "stream",
     "text": [
      "Sorting images:   0%|          | 148/202599 [00:00<11:23, 296.26it/s]"
     ]
    },
    {
     "name": "stdout",
     "output_type": "stream",
     "text": [
      "File not found: ./datasets/CelebA/CelebA_original/000120.jpg\n",
      "File not found: ./datasets/CelebA/CelebA_masked/000120.jpg\n",
      "File not found: ./datasets/CelebA/CelebA_pixelated/000120.jpg\n",
      "File not found: ./datasets/CelebA/CelebA_original/000149.jpg\n",
      "File not found: ./datasets/CelebA/CelebA_masked/000149.jpg\n",
      "File not found: ./datasets/CelebA/CelebA_pixelated/000149.jpg\n"
     ]
    },
    {
     "name": "stderr",
     "output_type": "stream",
     "text": [
      "Sorting images:   0%|          | 244/202599 [00:00<11:03, 304.90it/s]"
     ]
    },
    {
     "name": "stdout",
     "output_type": "stream",
     "text": [
      "File not found: ./datasets/CelebA/CelebA_original/000199.jpg\n",
      "File not found: ./datasets/CelebA/CelebA_masked/000199.jpg\n",
      "File not found: ./datasets/CelebA/CelebA_pixelated/000199.jpg\n"
     ]
    },
    {
     "name": "stderr",
     "output_type": "stream",
     "text": [
      "Sorting images:   0%|          | 663/202599 [00:02<09:42, 346.59it/s]"
     ]
    },
    {
     "name": "stdout",
     "output_type": "stream",
     "text": [
      "File not found: ./datasets/CelebA/CelebA_original/000627.jpg\n",
      "File not found: ./datasets/CelebA/CelebA_masked/000627.jpg\n",
      "File not found: ./datasets/CelebA/CelebA_pixelated/000627.jpg\n"
     ]
    },
    {
     "name": "stderr",
     "output_type": "stream",
     "text": [
      "Sorting images:   0%|          | 983/202599 [00:02<06:58, 481.36it/s]"
     ]
    },
    {
     "name": "stdout",
     "output_type": "stream",
     "text": [
      "File not found: ./datasets/CelebA/CelebA_original/000901.jpg\n",
      "File not found: ./datasets/CelebA/CelebA_masked/000901.jpg\n",
      "File not found: ./datasets/CelebA/CelebA_pixelated/000901.jpg\n"
     ]
    },
    {
     "name": "stderr",
     "output_type": "stream",
     "text": [
      "Sorting images:   1%|          | 1469/202599 [00:03<06:01, 556.29it/s]"
     ]
    },
    {
     "name": "stdout",
     "output_type": "stream",
     "text": [
      "File not found: ./datasets/CelebA/CelebA_original/001401.jpg\n",
      "File not found: ./datasets/CelebA/CelebA_masked/001401.jpg\n",
      "File not found: ./datasets/CelebA/CelebA_pixelated/001401.jpg\n"
     ]
    },
    {
     "name": "stderr",
     "output_type": "stream",
     "text": [
      "Sorting images:   1%|          | 2506/202599 [00:05<06:32, 509.59it/s]"
     ]
    },
    {
     "name": "stdout",
     "output_type": "stream",
     "text": [
      "File not found: ./datasets/CelebA/CelebA_original/002432.jpg\n",
      "File not found: ./datasets/CelebA/CelebA_masked/002432.jpg\n",
      "File not found: ./datasets/CelebA/CelebA_pixelated/002432.jpg\n"
     ]
    },
    {
     "name": "stderr",
     "output_type": "stream",
     "text": [
      "Sorting images:   1%|▏         | 2662/202599 [00:06<06:32, 508.86it/s]"
     ]
    },
    {
     "name": "stdout",
     "output_type": "stream",
     "text": [
      "File not found: ./datasets/CelebA/CelebA_original/002583.jpg\n",
      "File not found: ./datasets/CelebA/CelebA_masked/002583.jpg\n",
      "File not found: ./datasets/CelebA/CelebA_pixelated/002583.jpg\n"
     ]
    },
    {
     "name": "stderr",
     "output_type": "stream",
     "text": [
      "Sorting images:   1%|▏         | 2881/202599 [00:06<06:07, 542.97it/s]"
     ]
    },
    {
     "name": "stdout",
     "output_type": "stream",
     "text": [
      "File not found: ./datasets/CelebA/CelebA_original/002779.jpg\n",
      "File not found: ./datasets/CelebA/CelebA_masked/002779.jpg\n",
      "File not found: ./datasets/CelebA/CelebA_pixelated/002779.jpg\n"
     ]
    },
    {
     "name": "stderr",
     "output_type": "stream",
     "text": [
      "Sorting images:   1%|▏         | 2999/202599 [00:06<05:54, 563.73it/s]"
     ]
    },
    {
     "name": "stdout",
     "output_type": "stream",
     "text": [
      "File not found: ./datasets/CelebA/CelebA_original/002920.jpg\n",
      "File not found: ./datasets/CelebA/CelebA_masked/002920.jpg\n",
      "File not found: ./datasets/CelebA/CelebA_pixelated/002920.jpg\n"
     ]
    },
    {
     "name": "stderr",
     "output_type": "stream",
     "text": [
      "Sorting images:   2%|▏         | 3470/202599 [00:07<05:41, 582.80it/s]"
     ]
    },
    {
     "name": "stdout",
     "output_type": "stream",
     "text": [
      "File not found: ./datasets/CelebA/CelebA_original/003400.jpg\n",
      "File not found: ./datasets/CelebA/CelebA_masked/003400.jpg\n",
      "File not found: ./datasets/CelebA/CelebA_pixelated/003400.jpg\n"
     ]
    },
    {
     "name": "stderr",
     "output_type": "stream",
     "text": [
      "Sorting images:   2%|▏         | 3710/202599 [00:07<05:36, 591.46it/s]"
     ]
    },
    {
     "name": "stdout",
     "output_type": "stream",
     "text": [
      "File not found: ./datasets/CelebA/CelebA_original/003626.jpg\n",
      "File not found: ./datasets/CelebA/CelebA_masked/003626.jpg\n",
      "File not found: ./datasets/CelebA/CelebA_pixelated/003626.jpg\n",
      "File not found: ./datasets/CelebA/CelebA_original/003723.jpg\n",
      "File not found: ./datasets/CelebA/CelebA_masked/003723.jpg\n",
      "File not found: ./datasets/CelebA/CelebA_pixelated/003723.jpg\n"
     ]
    },
    {
     "name": "stderr",
     "output_type": "stream",
     "text": [
      "Sorting images:   2%|▏         | 3977/202599 [00:08<05:07, 645.08it/s]"
     ]
    },
    {
     "name": "stdout",
     "output_type": "stream",
     "text": [
      "File not found: ./datasets/CelebA/CelebA_original/003854.jpg\n",
      "File not found: ./datasets/CelebA/CelebA_masked/003854.jpg\n",
      "File not found: ./datasets/CelebA/CelebA_pixelated/003854.jpg\n",
      "File not found: ./datasets/CelebA/CelebA_original/003928.jpg\n",
      "File not found: ./datasets/CelebA/CelebA_masked/003928.jpg\n",
      "File not found: ./datasets/CelebA/CelebA_pixelated/003928.jpg\n",
      "File not found: ./datasets/CelebA/CelebA_original/003946.jpg\n",
      "File not found: ./datasets/CelebA/CelebA_masked/003946.jpg\n",
      "File not found: ./datasets/CelebA/CelebA_pixelated/003946.jpg\n"
     ]
    },
    {
     "name": "stderr",
     "output_type": "stream",
     "text": [
      "Sorting images:   2%|▏         | 4276/202599 [00:08<04:30, 732.33it/s]"
     ]
    },
    {
     "name": "stdout",
     "output_type": "stream",
     "text": [
      "File not found: ./datasets/CelebA/CelebA_original/004118.jpg\n",
      "File not found: ./datasets/CelebA/CelebA_masked/004118.jpg\n",
      "File not found: ./datasets/CelebA/CelebA_pixelated/004118.jpg\n"
     ]
    },
    {
     "name": "stderr",
     "output_type": "stream",
     "text": [
      "Sorting images:   2%|▏         | 4727/202599 [00:09<04:44, 696.66it/s]"
     ]
    },
    {
     "name": "stdout",
     "output_type": "stream",
     "text": [
      "File not found: ./datasets/CelebA/CelebA_original/004602.jpg\n",
      "File not found: ./datasets/CelebA/CelebA_masked/004602.jpg\n",
      "File not found: ./datasets/CelebA/CelebA_pixelated/004602.jpg\n",
      "File not found: ./datasets/CelebA/CelebA_original/004700.jpg\n",
      "File not found: ./datasets/CelebA/CelebA_masked/004700.jpg\n",
      "File not found: ./datasets/CelebA/CelebA_pixelated/004700.jpg\n",
      "File not found: ./datasets/CelebA/CelebA_original/004732.jpg\n",
      "File not found: ./datasets/CelebA/CelebA_masked/004732.jpg\n",
      "File not found: ./datasets/CelebA/CelebA_pixelated/004732.jpg\n"
     ]
    },
    {
     "name": "stderr",
     "output_type": "stream",
     "text": [
      "Sorting images:   2%|▏         | 5005/202599 [00:09<04:54, 670.57it/s]"
     ]
    },
    {
     "name": "stdout",
     "output_type": "stream",
     "text": [
      "File not found: ./datasets/CelebA/CelebA_original/004889.jpg\n",
      "File not found: ./datasets/CelebA/CelebA_masked/004889.jpg\n",
      "File not found: ./datasets/CelebA/CelebA_pixelated/004889.jpg\n",
      "File not found: ./datasets/CelebA/CelebA_original/004932.jpg\n",
      "File not found: ./datasets/CelebA/CelebA_masked/004932.jpg\n",
      "File not found: ./datasets/CelebA/CelebA_pixelated/004932.jpg\n"
     ]
    },
    {
     "name": "stderr",
     "output_type": "stream",
     "text": [
      "Sorting images:   3%|▎         | 5139/202599 [00:10<05:06, 644.09it/s]"
     ]
    },
    {
     "name": "stdout",
     "output_type": "stream",
     "text": [
      "File not found: ./datasets/CelebA/CelebA_original/005057.jpg\n",
      "File not found: ./datasets/CelebA/CelebA_masked/005057.jpg\n",
      "File not found: ./datasets/CelebA/CelebA_pixelated/005057.jpg\n"
     ]
    },
    {
     "name": "stderr",
     "output_type": "stream",
     "text": [
      "Sorting images:   3%|▎         | 5268/202599 [00:10<05:17, 621.81it/s]"
     ]
    },
    {
     "name": "stdout",
     "output_type": "stream",
     "text": [
      "File not found: ./datasets/CelebA/CelebA_original/005198.jpg\n",
      "File not found: ./datasets/CelebA/CelebA_masked/005198.jpg\n",
      "File not found: ./datasets/CelebA/CelebA_pixelated/005198.jpg\n"
     ]
    },
    {
     "name": "stderr",
     "output_type": "stream",
     "text": [
      "Sorting images:   3%|▎         | 5455/202599 [00:10<05:23, 609.79it/s]"
     ]
    },
    {
     "name": "stdout",
     "output_type": "stream",
     "text": [
      "File not found: ./datasets/CelebA/CelebA_original/005338.jpg\n",
      "File not found: ./datasets/CelebA/CelebA_masked/005338.jpg\n",
      "File not found: ./datasets/CelebA/CelebA_pixelated/005338.jpg\n"
     ]
    },
    {
     "name": "stderr",
     "output_type": "stream",
     "text": [
      "Sorting images:   3%|▎         | 6087/202599 [00:11<05:53, 555.68it/s]"
     ]
    },
    {
     "name": "stdout",
     "output_type": "stream",
     "text": [
      "File not found: ./datasets/CelebA/CelebA_original/006010.jpg\n",
      "File not found: ./datasets/CelebA/CelebA_masked/006010.jpg\n",
      "File not found: ./datasets/CelebA/CelebA_pixelated/006010.jpg\n"
     ]
    },
    {
     "name": "stderr",
     "output_type": "stream",
     "text": [
      "Sorting images:   3%|▎         | 6616/202599 [00:12<05:24, 603.10it/s]"
     ]
    },
    {
     "name": "stdout",
     "output_type": "stream",
     "text": [
      "File not found: ./datasets/CelebA/CelebA_original/006531.jpg\n",
      "File not found: ./datasets/CelebA/CelebA_masked/006531.jpg\n",
      "File not found: ./datasets/CelebA/CelebA_pixelated/006531.jpg\n"
     ]
    },
    {
     "name": "stderr",
     "output_type": "stream",
     "text": [
      "Sorting images:   3%|▎         | 6829/202599 [00:12<04:54, 664.80it/s]"
     ]
    },
    {
     "name": "stdout",
     "output_type": "stream",
     "text": [
      "File not found: ./datasets/CelebA/CelebA_original/006721.jpg\n",
      "File not found: ./datasets/CelebA/CelebA_masked/006721.jpg\n",
      "File not found: ./datasets/CelebA/CelebA_pixelated/006721.jpg\n"
     ]
    },
    {
     "name": "stderr",
     "output_type": "stream",
     "text": [
      "Sorting images:   4%|▎         | 7155/202599 [00:13<05:07, 635.58it/s]"
     ]
    },
    {
     "name": "stdout",
     "output_type": "stream",
     "text": [
      "File not found: ./datasets/CelebA/CelebA_original/007037.jpg\n",
      "File not found: ./datasets/CelebA/CelebA_masked/007037.jpg\n",
      "File not found: ./datasets/CelebA/CelebA_pixelated/007037.jpg\n",
      "File not found: ./datasets/CelebA/CelebA_original/007087.jpg\n",
      "File not found: ./datasets/CelebA/CelebA_masked/007087.jpg\n",
      "File not found: ./datasets/CelebA/CelebA_pixelated/007087.jpg\n"
     ]
    },
    {
     "name": "stderr",
     "output_type": "stream",
     "text": [
      "Sorting images:   4%|▍         | 7671/202599 [00:14<05:06, 636.66it/s]"
     ]
    },
    {
     "name": "stdout",
     "output_type": "stream",
     "text": [
      "File not found: ./datasets/CelebA/CelebA_original/007581.jpg\n",
      "File not found: ./datasets/CelebA/CelebA_masked/007581.jpg\n",
      "File not found: ./datasets/CelebA/CelebA_pixelated/007581.jpg\n"
     ]
    },
    {
     "name": "stderr",
     "output_type": "stream",
     "text": [
      "Sorting images:   4%|▍         | 7800/202599 [00:14<05:06, 634.65it/s]"
     ]
    },
    {
     "name": "stdout",
     "output_type": "stream",
     "text": [
      "File not found: ./datasets/CelebA/CelebA_original/007726.jpg\n",
      "File not found: ./datasets/CelebA/CelebA_masked/007726.jpg\n",
      "File not found: ./datasets/CelebA/CelebA_pixelated/007726.jpg\n"
     ]
    },
    {
     "name": "stderr",
     "output_type": "stream",
     "text": [
      "Sorting images:   4%|▍         | 7994/202599 [00:14<05:06, 634.29it/s]"
     ]
    },
    {
     "name": "stdout",
     "output_type": "stream",
     "text": [
      "File not found: ./datasets/CelebA/CelebA_original/007917.jpg\n",
      "File not found: ./datasets/CelebA/CelebA_masked/007917.jpg\n",
      "File not found: ./datasets/CelebA/CelebA_pixelated/007917.jpg\n",
      "File not found: ./datasets/CelebA/CelebA_original/007959.jpg\n",
      "File not found: ./datasets/CelebA/CelebA_masked/007959.jpg\n",
      "File not found: ./datasets/CelebA/CelebA_pixelated/007959.jpg\n",
      "File not found: ./datasets/CelebA/CelebA_original/007996.jpg\n",
      "File not found: ./datasets/CelebA/CelebA_masked/007996.jpg\n",
      "File not found: ./datasets/CelebA/CelebA_pixelated/007996.jpg\n"
     ]
    },
    {
     "name": "stderr",
     "output_type": "stream",
     "text": [
      "Sorting images:   4%|▍         | 8249/202599 [00:15<05:10, 625.89it/s]"
     ]
    },
    {
     "name": "stdout",
     "output_type": "stream",
     "text": [
      "File not found: ./datasets/CelebA/CelebA_original/008181.jpg\n",
      "File not found: ./datasets/CelebA/CelebA_masked/008181.jpg\n",
      "File not found: ./datasets/CelebA/CelebA_pixelated/008181.jpg\n"
     ]
    },
    {
     "name": "stderr",
     "output_type": "stream",
     "text": [
      "Sorting images:   4%|▍         | 8688/202599 [00:15<05:11, 622.92it/s]"
     ]
    },
    {
     "name": "stdout",
     "output_type": "stream",
     "text": [
      "File not found: ./datasets/CelebA/CelebA_original/008574.jpg\n",
      "File not found: ./datasets/CelebA/CelebA_masked/008574.jpg\n",
      "File not found: ./datasets/CelebA/CelebA_pixelated/008574.jpg\n"
     ]
    },
    {
     "name": "stderr",
     "output_type": "stream",
     "text": [
      "Sorting images:   5%|▍         | 9181/202599 [00:16<05:38, 571.62it/s]"
     ]
    },
    {
     "name": "stdout",
     "output_type": "stream",
     "text": [
      "File not found: ./datasets/CelebA/CelebA_original/009119.jpg\n",
      "File not found: ./datasets/CelebA/CelebA_masked/009119.jpg\n",
      "File not found: ./datasets/CelebA/CelebA_pixelated/009119.jpg\n"
     ]
    },
    {
     "name": "stderr",
     "output_type": "stream",
     "text": [
      "Sorting images:   5%|▍         | 9366/202599 [00:17<05:23, 597.57it/s]"
     ]
    },
    {
     "name": "stdout",
     "output_type": "stream",
     "text": [
      "File not found: ./datasets/CelebA/CelebA_original/009259.jpg\n",
      "File not found: ./datasets/CelebA/CelebA_masked/009259.jpg\n",
      "File not found: ./datasets/CelebA/CelebA_pixelated/009259.jpg\n"
     ]
    },
    {
     "name": "stderr",
     "output_type": "stream",
     "text": [
      "Sorting images:   5%|▌         | 10168/202599 [00:18<05:01, 638.96it/s]"
     ]
    },
    {
     "name": "stdout",
     "output_type": "stream",
     "text": [
      "File not found: ./datasets/CelebA/CelebA_original/010091.jpg\n",
      "File not found: ./datasets/CelebA/CelebA_masked/010091.jpg\n",
      "File not found: ./datasets/CelebA/CelebA_pixelated/010091.jpg\n"
     ]
    },
    {
     "name": "stderr",
     "output_type": "stream",
     "text": [
      "Sorting images:   6%|▌         | 11170/202599 [00:19<05:09, 619.28it/s]"
     ]
    },
    {
     "name": "stdout",
     "output_type": "stream",
     "text": [
      "File not found: ./datasets/CelebA/CelebA_original/011060.jpg\n",
      "File not found: ./datasets/CelebA/CelebA_masked/011060.jpg\n",
      "File not found: ./datasets/CelebA/CelebA_pixelated/011060.jpg\n"
     ]
    },
    {
     "name": "stderr",
     "output_type": "stream",
     "text": [
      "Sorting images:   6%|▌         | 11735/202599 [00:20<05:12, 610.02it/s]"
     ]
    },
    {
     "name": "stdout",
     "output_type": "stream",
     "text": [
      "File not found: ./datasets/CelebA/CelebA_original/011646.jpg\n",
      "File not found: ./datasets/CelebA/CelebA_masked/011646.jpg\n",
      "File not found: ./datasets/CelebA/CelebA_pixelated/011646.jpg\n"
     ]
    },
    {
     "name": "stderr",
     "output_type": "stream",
     "text": [
      "Sorting images:   6%|▌         | 11860/202599 [00:21<05:10, 614.19it/s]"
     ]
    },
    {
     "name": "stdout",
     "output_type": "stream",
     "text": [
      "File not found: ./datasets/CelebA/CelebA_original/011793.jpg\n",
      "File not found: ./datasets/CelebA/CelebA_masked/011793.jpg\n",
      "File not found: ./datasets/CelebA/CelebA_pixelated/011793.jpg\n"
     ]
    },
    {
     "name": "stderr",
     "output_type": "stream",
     "text": [
      "Sorting images:   6%|▌         | 12423/202599 [00:21<05:06, 620.12it/s]"
     ]
    },
    {
     "name": "stdout",
     "output_type": "stream",
     "text": [
      "File not found: ./datasets/CelebA/CelebA_original/012306.jpg\n",
      "File not found: ./datasets/CelebA/CelebA_masked/012306.jpg\n",
      "File not found: ./datasets/CelebA/CelebA_pixelated/012306.jpg\n"
     ]
    },
    {
     "name": "stderr",
     "output_type": "stream",
     "text": [
      "Sorting images:   6%|▋         | 12734/202599 [00:22<05:09, 613.06it/s]"
     ]
    },
    {
     "name": "stdout",
     "output_type": "stream",
     "text": [
      "File not found: ./datasets/CelebA/CelebA_original/012629.jpg\n",
      "File not found: ./datasets/CelebA/CelebA_masked/012629.jpg\n",
      "File not found: ./datasets/CelebA/CelebA_pixelated/012629.jpg\n"
     ]
    },
    {
     "name": "stderr",
     "output_type": "stream",
     "text": [
      "Sorting images:   6%|▋         | 12854/202599 [00:22<05:34, 566.43it/s]"
     ]
    },
    {
     "name": "stdout",
     "output_type": "stream",
     "text": [
      "File not found: ./datasets/CelebA/CelebA_original/012772.jpg\n",
      "File not found: ./datasets/CelebA/CelebA_masked/012772.jpg\n",
      "File not found: ./datasets/CelebA/CelebA_pixelated/012772.jpg\n"
     ]
    },
    {
     "name": "stderr",
     "output_type": "stream",
     "text": [
      "Sorting images:   7%|▋         | 13497/202599 [00:23<04:58, 634.04it/s]"
     ]
    },
    {
     "name": "stdout",
     "output_type": "stream",
     "text": [
      "File not found: ./datasets/CelebA/CelebA_original/013374.jpg\n",
      "File not found: ./datasets/CelebA/CelebA_masked/013374.jpg\n",
      "File not found: ./datasets/CelebA/CelebA_pixelated/013374.jpg\n"
     ]
    },
    {
     "name": "stderr",
     "output_type": "stream",
     "text": [
      "Sorting images:   7%|▋         | 13752/202599 [00:24<05:00, 629.16it/s]"
     ]
    },
    {
     "name": "stdout",
     "output_type": "stream",
     "text": [
      "File not found: ./datasets/CelebA/CelebA_original/013654.jpg\n",
      "File not found: ./datasets/CelebA/CelebA_masked/013654.jpg\n",
      "File not found: ./datasets/CelebA/CelebA_pixelated/013654.jpg\n"
     ]
    },
    {
     "name": "stderr",
     "output_type": "stream",
     "text": [
      "Sorting images:   7%|▋         | 14695/202599 [00:25<05:03, 618.92it/s]"
     ]
    },
    {
     "name": "stdout",
     "output_type": "stream",
     "text": [
      "File not found: ./datasets/CelebA/CelebA_original/014577.jpg\n",
      "File not found: ./datasets/CelebA/CelebA_masked/014577.jpg\n",
      "File not found: ./datasets/CelebA/CelebA_pixelated/014577.jpg\n"
     ]
    },
    {
     "name": "stderr",
     "output_type": "stream",
     "text": [
      "Sorting images:   7%|▋         | 14883/202599 [00:25<05:02, 621.20it/s]"
     ]
    },
    {
     "name": "stdout",
     "output_type": "stream",
     "text": [
      "File not found: ./datasets/CelebA/CelebA_original/014769.jpg\n",
      "File not found: ./datasets/CelebA/CelebA_masked/014769.jpg\n",
      "File not found: ./datasets/CelebA/CelebA_pixelated/014769.jpg\n",
      "File not found: ./datasets/CelebA/CelebA_original/014823.jpg\n",
      "File not found: ./datasets/CelebA/CelebA_masked/014823.jpg\n",
      "File not found: ./datasets/CelebA/CelebA_pixelated/014823.jpg\n"
     ]
    },
    {
     "name": "stderr",
     "output_type": "stream",
     "text": [
      "Sorting images:   7%|▋         | 15073/202599 [00:26<05:03, 617.73it/s]"
     ]
    },
    {
     "name": "stdout",
     "output_type": "stream",
     "text": [
      "File not found: ./datasets/CelebA/CelebA_original/014999.jpg\n",
      "File not found: ./datasets/CelebA/CelebA_masked/014999.jpg\n",
      "File not found: ./datasets/CelebA/CelebA_pixelated/014999.jpg\n",
      "File not found: ./datasets/CelebA/CelebA_original/015026.jpg\n",
      "File not found: ./datasets/CelebA/CelebA_masked/015026.jpg\n",
      "File not found: ./datasets/CelebA/CelebA_pixelated/015026.jpg\n"
     ]
    },
    {
     "name": "stderr",
     "output_type": "stream",
     "text": [
      "Sorting images:   8%|▊         | 15622/202599 [00:27<05:10, 603.05it/s]"
     ]
    },
    {
     "name": "stdout",
     "output_type": "stream",
     "text": [
      "File not found: ./datasets/CelebA/CelebA_original/015549.jpg\n",
      "File not found: ./datasets/CelebA/CelebA_masked/015549.jpg\n",
      "File not found: ./datasets/CelebA/CelebA_pixelated/015549.jpg\n"
     ]
    },
    {
     "name": "stderr",
     "output_type": "stream",
     "text": [
      "Sorting images:   8%|▊         | 15929/202599 [00:27<05:07, 606.22it/s]"
     ]
    },
    {
     "name": "stdout",
     "output_type": "stream",
     "text": [
      "File not found: ./datasets/CelebA/CelebA_original/015821.jpg\n",
      "File not found: ./datasets/CelebA/CelebA_masked/015821.jpg\n",
      "File not found: ./datasets/CelebA/CelebA_pixelated/015821.jpg\n"
     ]
    },
    {
     "name": "stderr",
     "output_type": "stream",
     "text": [
      "Sorting images:   8%|▊         | 16389/202599 [00:28<05:46, 536.87it/s]"
     ]
    },
    {
     "name": "stdout",
     "output_type": "stream",
     "text": [
      "File not found: ./datasets/CelebA/CelebA_original/016293.jpg\n",
      "File not found: ./datasets/CelebA/CelebA_masked/016293.jpg\n",
      "File not found: ./datasets/CelebA/CelebA_pixelated/016293.jpg\n",
      "File not found: ./datasets/CelebA/CelebA_original/016303.jpg\n",
      "File not found: ./datasets/CelebA/CelebA_masked/016303.jpg\n",
      "File not found: ./datasets/CelebA/CelebA_pixelated/016303.jpg\n"
     ]
    },
    {
     "name": "stderr",
     "output_type": "stream",
     "text": [
      "Sorting images:   8%|▊         | 16622/202599 [00:29<05:26, 569.88it/s]"
     ]
    },
    {
     "name": "stdout",
     "output_type": "stream",
     "text": [
      "File not found: ./datasets/CelebA/CelebA_original/016530.jpg\n",
      "File not found: ./datasets/CelebA/CelebA_masked/016530.jpg\n",
      "File not found: ./datasets/CelebA/CelebA_pixelated/016530.jpg\n"
     ]
    },
    {
     "name": "stderr",
     "output_type": "stream",
     "text": [
      "Sorting images:   8%|▊         | 17102/202599 [00:29<05:12, 593.63it/s]"
     ]
    },
    {
     "name": "stdout",
     "output_type": "stream",
     "text": [
      "File not found: ./datasets/CelebA/CelebA_original/017009.jpg\n",
      "File not found: ./datasets/CelebA/CelebA_masked/017009.jpg\n",
      "File not found: ./datasets/CelebA/CelebA_pixelated/017009.jpg\n"
     ]
    },
    {
     "name": "stderr",
     "output_type": "stream",
     "text": [
      "Sorting images:   9%|▊         | 17286/202599 [00:30<05:07, 602.73it/s]"
     ]
    },
    {
     "name": "stdout",
     "output_type": "stream",
     "text": [
      "File not found: ./datasets/CelebA/CelebA_original/017171.jpg\n",
      "File not found: ./datasets/CelebA/CelebA_masked/017171.jpg\n",
      "File not found: ./datasets/CelebA/CelebA_pixelated/017171.jpg\n",
      "File not found: ./datasets/CelebA/CelebA_original/017282.jpg\n",
      "File not found: ./datasets/CelebA/CelebA_masked/017282.jpg\n",
      "File not found: ./datasets/CelebA/CelebA_pixelated/017282.jpg\n"
     ]
    },
    {
     "name": "stderr",
     "output_type": "stream",
     "text": [
      "Sorting images:   9%|▉         | 18299/202599 [00:31<05:23, 569.42it/s]"
     ]
    },
    {
     "name": "stdout",
     "output_type": "stream",
     "text": [
      "File not found: ./datasets/CelebA/CelebA_original/018205.jpg\n",
      "File not found: ./datasets/CelebA/CelebA_masked/018205.jpg\n",
      "File not found: ./datasets/CelebA/CelebA_pixelated/018205.jpg\n",
      "File not found: ./datasets/CelebA/CelebA_original/018309.jpg\n",
      "File not found: ./datasets/CelebA/CelebA_masked/018309.jpg\n",
      "File not found: ./datasets/CelebA/CelebA_pixelated/018309.jpg\n"
     ]
    },
    {
     "name": "stderr",
     "output_type": "stream",
     "text": [
      "Sorting images:   9%|▉         | 18710/202599 [00:32<05:19, 574.97it/s]"
     ]
    },
    {
     "name": "stdout",
     "output_type": "stream",
     "text": [
      "File not found: ./datasets/CelebA/CelebA_original/018599.jpg\n",
      "File not found: ./datasets/CelebA/CelebA_masked/018599.jpg\n",
      "File not found: ./datasets/CelebA/CelebA_pixelated/018599.jpg\n",
      "File not found: ./datasets/CelebA/CelebA_original/018654.jpg\n",
      "File not found: ./datasets/CelebA/CelebA_masked/018654.jpg\n",
      "File not found: ./datasets/CelebA/CelebA_pixelated/018654.jpg\n"
     ]
    },
    {
     "name": "stderr",
     "output_type": "stream",
     "text": [
      "Sorting images:   9%|▉         | 19036/202599 [00:33<04:38, 658.21it/s]"
     ]
    },
    {
     "name": "stdout",
     "output_type": "stream",
     "text": [
      "File not found: ./datasets/CelebA/CelebA_original/018946.jpg\n",
      "File not found: ./datasets/CelebA/CelebA_masked/018946.jpg\n",
      "File not found: ./datasets/CelebA/CelebA_pixelated/018946.jpg\n",
      "File not found: ./datasets/CelebA/CelebA_original/018991.jpg\n",
      "File not found: ./datasets/CelebA/CelebA_masked/018991.jpg\n",
      "File not found: ./datasets/CelebA/CelebA_pixelated/018991.jpg\n"
     ]
    },
    {
     "name": "stderr",
     "output_type": "stream",
     "text": [
      "Sorting images:  10%|▉         | 19315/202599 [00:33<04:41, 650.08it/s]"
     ]
    },
    {
     "name": "stdout",
     "output_type": "stream",
     "text": [
      "File not found: ./datasets/CelebA/CelebA_original/019205.jpg\n",
      "File not found: ./datasets/CelebA/CelebA_masked/019205.jpg\n",
      "File not found: ./datasets/CelebA/CelebA_pixelated/019205.jpg\n"
     ]
    },
    {
     "name": "stderr",
     "output_type": "stream",
     "text": [
      "Sorting images:  10%|▉         | 19461/202599 [00:33<04:23, 694.14it/s]"
     ]
    },
    {
     "name": "stdout",
     "output_type": "stream",
     "text": [
      "File not found: ./datasets/CelebA/CelebA_original/019377.jpg\n",
      "File not found: ./datasets/CelebA/CelebA_masked/019377.jpg\n",
      "File not found: ./datasets/CelebA/CelebA_pixelated/019377.jpg\n",
      "File not found: ./datasets/CelebA/CelebA_original/019408.jpg\n",
      "File not found: ./datasets/CelebA/CelebA_masked/019408.jpg\n",
      "File not found: ./datasets/CelebA/CelebA_pixelated/019408.jpg\n"
     ]
    },
    {
     "name": "stderr",
     "output_type": "stream",
     "text": [
      "Sorting images:  10%|▉         | 19865/202599 [00:34<03:52, 784.58it/s]"
     ]
    },
    {
     "name": "stdout",
     "output_type": "stream",
     "text": [
      "File not found: ./datasets/CelebA/CelebA_original/019782.jpg\n",
      "File not found: ./datasets/CelebA/CelebA_masked/019782.jpg\n",
      "File not found: ./datasets/CelebA/CelebA_pixelated/019782.jpg\n"
     ]
    },
    {
     "name": "stderr",
     "output_type": "stream",
     "text": [
      "Sorting images:  10%|█         | 20489/202599 [00:35<04:00, 755.73it/s]"
     ]
    },
    {
     "name": "stdout",
     "output_type": "stream",
     "text": [
      "File not found: ./datasets/CelebA/CelebA_original/020344.jpg\n",
      "File not found: ./datasets/CelebA/CelebA_masked/020344.jpg\n",
      "File not found: ./datasets/CelebA/CelebA_pixelated/020344.jpg\n"
     ]
    },
    {
     "name": "stderr",
     "output_type": "stream",
     "text": [
      "Sorting images:  11%|█         | 21438/202599 [00:36<03:51, 783.34it/s]"
     ]
    },
    {
     "name": "stdout",
     "output_type": "stream",
     "text": [
      "File not found: ./datasets/CelebA/CelebA_original/021287.jpg\n",
      "File not found: ./datasets/CelebA/CelebA_masked/021287.jpg\n",
      "File not found: ./datasets/CelebA/CelebA_pixelated/021287.jpg\n",
      "File not found: ./datasets/CelebA/CelebA_original/021322.jpg\n",
      "File not found: ./datasets/CelebA/CelebA_masked/021322.jpg\n",
      "File not found: ./datasets/CelebA/CelebA_pixelated/021322.jpg\n"
     ]
    },
    {
     "name": "stderr",
     "output_type": "stream",
     "text": [
      "Sorting images:  11%|█         | 21595/202599 [00:36<03:58, 759.46it/s]"
     ]
    },
    {
     "name": "stdout",
     "output_type": "stream",
     "text": [
      "File not found: ./datasets/CelebA/CelebA_original/021470.jpg\n",
      "File not found: ./datasets/CelebA/CelebA_masked/021470.jpg\n",
      "File not found: ./datasets/CelebA/CelebA_pixelated/021470.jpg\n"
     ]
    },
    {
     "name": "stderr",
     "output_type": "stream",
     "text": [
      "Sorting images:  11%|█         | 21909/202599 [00:36<03:52, 776.99it/s]"
     ]
    },
    {
     "name": "stdout",
     "output_type": "stream",
     "text": [
      "File not found: ./datasets/CelebA/CelebA_original/021774.jpg\n",
      "File not found: ./datasets/CelebA/CelebA_masked/021774.jpg\n",
      "File not found: ./datasets/CelebA/CelebA_pixelated/021774.jpg\n",
      "File not found: ./datasets/CelebA/CelebA_original/021852.jpg\n",
      "File not found: ./datasets/CelebA/CelebA_masked/021852.jpg\n",
      "File not found: ./datasets/CelebA/CelebA_pixelated/021852.jpg\n",
      "File not found: ./datasets/CelebA/CelebA_original/021888.jpg\n",
      "File not found: ./datasets/CelebA/CelebA_masked/021888.jpg\n",
      "File not found: ./datasets/CelebA/CelebA_pixelated/021888.jpg\n"
     ]
    },
    {
     "name": "stderr",
     "output_type": "stream",
     "text": [
      "Sorting images:  11%|█         | 22708/202599 [00:37<03:48, 788.97it/s]"
     ]
    },
    {
     "name": "stdout",
     "output_type": "stream",
     "text": [
      "File not found: ./datasets/CelebA/CelebA_original/022629.jpg\n",
      "File not found: ./datasets/CelebA/CelebA_masked/022629.jpg\n",
      "File not found: ./datasets/CelebA/CelebA_pixelated/022629.jpg\n",
      "File not found: ./datasets/CelebA/CelebA_original/022728.jpg\n",
      "File not found: ./datasets/CelebA/CelebA_masked/022728.jpg\n",
      "File not found: ./datasets/CelebA/CelebA_pixelated/022728.jpg\n"
     ]
    },
    {
     "name": "stderr",
     "output_type": "stream",
     "text": [
      "Sorting images:  11%|█▏        | 22949/202599 [00:38<03:48, 787.44it/s]"
     ]
    },
    {
     "name": "stdout",
     "output_type": "stream",
     "text": [
      "File not found: ./datasets/CelebA/CelebA_original/022803.jpg\n",
      "File not found: ./datasets/CelebA/CelebA_masked/022803.jpg\n",
      "File not found: ./datasets/CelebA/CelebA_pixelated/022803.jpg\n"
     ]
    },
    {
     "name": "stderr",
     "output_type": "stream",
     "text": [
      "Sorting images:  11%|█▏        | 23184/202599 [00:38<03:53, 769.60it/s]"
     ]
    },
    {
     "name": "stdout",
     "output_type": "stream",
     "text": [
      "File not found: ./datasets/CelebA/CelebA_original/023040.jpg\n",
      "File not found: ./datasets/CelebA/CelebA_masked/023040.jpg\n",
      "File not found: ./datasets/CelebA/CelebA_pixelated/023040.jpg\n"
     ]
    },
    {
     "name": "stderr",
     "output_type": "stream",
     "text": [
      "Sorting images:  12%|█▏        | 23733/202599 [00:39<03:49, 780.63it/s]"
     ]
    },
    {
     "name": "stdout",
     "output_type": "stream",
     "text": [
      "File not found: ./datasets/CelebA/CelebA_original/023608.jpg\n",
      "File not found: ./datasets/CelebA/CelebA_masked/023608.jpg\n",
      "File not found: ./datasets/CelebA/CelebA_pixelated/023608.jpg\n"
     ]
    },
    {
     "name": "stderr",
     "output_type": "stream",
     "text": [
      "Sorting images:  12%|█▏        | 24287/202599 [00:39<03:48, 781.72it/s]"
     ]
    },
    {
     "name": "stdout",
     "output_type": "stream",
     "text": [
      "File not found: ./datasets/CelebA/CelebA_original/024184.jpg\n",
      "File not found: ./datasets/CelebA/CelebA_masked/024184.jpg\n",
      "File not found: ./datasets/CelebA/CelebA_pixelated/024184.jpg\n",
      "File not found: ./datasets/CelebA/CelebA_original/024222.jpg\n",
      "File not found: ./datasets/CelebA/CelebA_masked/024222.jpg\n",
      "File not found: ./datasets/CelebA/CelebA_pixelated/024222.jpg\n"
     ]
    },
    {
     "name": "stderr",
     "output_type": "stream",
     "text": [
      "Sorting images:  12%|█▏        | 24678/202599 [00:40<03:49, 776.43it/s]"
     ]
    },
    {
     "name": "stdout",
     "output_type": "stream",
     "text": [
      "File not found: ./datasets/CelebA/CelebA_original/024609.jpg\n",
      "File not found: ./datasets/CelebA/CelebA_masked/024609.jpg\n",
      "File not found: ./datasets/CelebA/CelebA_pixelated/024609.jpg\n"
     ]
    },
    {
     "name": "stderr",
     "output_type": "stream",
     "text": [
      "Sorting images:  12%|█▏        | 24903/202599 [00:40<04:07, 717.85it/s]"
     ]
    },
    {
     "name": "stdout",
     "output_type": "stream",
     "text": [
      "File not found: ./datasets/CelebA/CelebA_original/024822.jpg\n",
      "File not found: ./datasets/CelebA/CelebA_masked/024822.jpg\n",
      "File not found: ./datasets/CelebA/CelebA_pixelated/024822.jpg\n",
      "File not found: ./datasets/CelebA/CelebA_original/024850.jpg\n",
      "File not found: ./datasets/CelebA/CelebA_masked/024850.jpg\n",
      "File not found: ./datasets/CelebA/CelebA_pixelated/024850.jpg\n"
     ]
    },
    {
     "name": "stderr",
     "output_type": "stream",
     "text": [
      "Sorting images:  12%|█▏        | 25138/202599 [00:41<03:53, 758.84it/s]"
     ]
    },
    {
     "name": "stdout",
     "output_type": "stream",
     "text": [
      "File not found: ./datasets/CelebA/CelebA_original/025035.jpg\n",
      "File not found: ./datasets/CelebA/CelebA_masked/025035.jpg\n",
      "File not found: ./datasets/CelebA/CelebA_pixelated/025035.jpg\n"
     ]
    },
    {
     "name": "stderr",
     "output_type": "stream",
     "text": [
      "Sorting images:  13%|█▎        | 25449/202599 [00:41<03:51, 763.86it/s]"
     ]
    },
    {
     "name": "stdout",
     "output_type": "stream",
     "text": [
      "File not found: ./datasets/CelebA/CelebA_original/025316.jpg\n",
      "File not found: ./datasets/CelebA/CelebA_masked/025316.jpg\n",
      "File not found: ./datasets/CelebA/CelebA_pixelated/025316.jpg\n"
     ]
    },
    {
     "name": "stderr",
     "output_type": "stream",
     "text": [
      "Sorting images:  13%|█▎        | 25992/202599 [00:42<03:53, 757.68it/s]"
     ]
    },
    {
     "name": "stdout",
     "output_type": "stream",
     "text": [
      "File not found: ./datasets/CelebA/CelebA_original/025887.jpg\n",
      "File not found: ./datasets/CelebA/CelebA_masked/025887.jpg\n",
      "File not found: ./datasets/CelebA/CelebA_pixelated/025887.jpg\n",
      "File not found: ./datasets/CelebA/CelebA_original/025932.jpg\n",
      "File not found: ./datasets/CelebA/CelebA_masked/025932.jpg\n",
      "File not found: ./datasets/CelebA/CelebA_pixelated/025932.jpg\n"
     ]
    },
    {
     "name": "stderr",
     "output_type": "stream",
     "text": [
      "Sorting images:  13%|█▎        | 26229/202599 [00:42<03:48, 772.57it/s]"
     ]
    },
    {
     "name": "stdout",
     "output_type": "stream",
     "text": [
      "File not found: ./datasets/CelebA/CelebA_original/026135.jpg\n",
      "File not found: ./datasets/CelebA/CelebA_masked/026135.jpg\n",
      "File not found: ./datasets/CelebA/CelebA_pixelated/026135.jpg\n"
     ]
    },
    {
     "name": "stderr",
     "output_type": "stream",
     "text": [
      "Sorting images:  13%|█▎        | 26464/202599 [00:42<03:47, 774.63it/s]"
     ]
    },
    {
     "name": "stdout",
     "output_type": "stream",
     "text": [
      "File not found: ./datasets/CelebA/CelebA_original/026330.jpg\n",
      "File not found: ./datasets/CelebA/CelebA_masked/026330.jpg\n",
      "File not found: ./datasets/CelebA/CelebA_pixelated/026330.jpg\n"
     ]
    },
    {
     "name": "stderr",
     "output_type": "stream",
     "text": [
      "Sorting images:  13%|█▎        | 26623/202599 [00:43<03:45, 779.86it/s]"
     ]
    },
    {
     "name": "stdout",
     "output_type": "stream",
     "text": [
      "File not found: ./datasets/CelebA/CelebA_original/026541.jpg\n",
      "File not found: ./datasets/CelebA/CelebA_masked/026541.jpg\n",
      "File not found: ./datasets/CelebA/CelebA_pixelated/026541.jpg\n"
     ]
    },
    {
     "name": "stderr",
     "output_type": "stream",
     "text": [
      "Sorting images:  13%|█▎        | 27029/202599 [00:43<03:37, 805.70it/s]"
     ]
    },
    {
     "name": "stdout",
     "output_type": "stream",
     "text": [
      "File not found: ./datasets/CelebA/CelebA_original/026928.jpg\n",
      "File not found: ./datasets/CelebA/CelebA_masked/026928.jpg\n",
      "File not found: ./datasets/CelebA/CelebA_pixelated/026928.jpg\n",
      "File not found: ./datasets/CelebA/CelebA_original/026998.jpg\n",
      "File not found: ./datasets/CelebA/CelebA_masked/026998.jpg\n",
      "File not found: ./datasets/CelebA/CelebA_pixelated/026998.jpg\n"
     ]
    },
    {
     "name": "stderr",
     "output_type": "stream",
     "text": [
      "Sorting images:  13%|█▎        | 27271/202599 [00:43<03:45, 777.10it/s]"
     ]
    },
    {
     "name": "stdout",
     "output_type": "stream",
     "text": [
      "File not found: ./datasets/CelebA/CelebA_original/027149.jpg\n",
      "File not found: ./datasets/CelebA/CelebA_masked/027149.jpg\n",
      "File not found: ./datasets/CelebA/CelebA_pixelated/027149.jpg\n",
      "File not found: ./datasets/CelebA/CelebA_original/027185.jpg\n",
      "File not found: ./datasets/CelebA/CelebA_masked/027185.jpg\n",
      "File not found: ./datasets/CelebA/CelebA_pixelated/027185.jpg\n",
      "File not found: ./datasets/CelebA/CelebA_original/027212.jpg\n",
      "File not found: ./datasets/CelebA/CelebA_masked/027212.jpg\n",
      "File not found: ./datasets/CelebA/CelebA_pixelated/027212.jpg\n",
      "File not found: ./datasets/CelebA/CelebA_original/027245.jpg\n",
      "File not found: ./datasets/CelebA/CelebA_masked/027245.jpg\n",
      "File not found: ./datasets/CelebA/CelebA_pixelated/027245.jpg\n"
     ]
    },
    {
     "name": "stderr",
     "output_type": "stream",
     "text": [
      "Sorting images:  14%|█▎        | 27584/202599 [00:44<03:47, 768.69it/s]"
     ]
    },
    {
     "name": "stdout",
     "output_type": "stream",
     "text": [
      "File not found: ./datasets/CelebA/CelebA_original/027468.jpg\n",
      "File not found: ./datasets/CelebA/CelebA_masked/027468.jpg\n",
      "File not found: ./datasets/CelebA/CelebA_pixelated/027468.jpg\n",
      "File not found: ./datasets/CelebA/CelebA_original/027556.jpg\n",
      "File not found: ./datasets/CelebA/CelebA_masked/027556.jpg\n",
      "File not found: ./datasets/CelebA/CelebA_pixelated/027556.jpg\n"
     ]
    },
    {
     "name": "stderr",
     "output_type": "stream",
     "text": [
      "Sorting images:  14%|█▍        | 28342/202599 [00:45<03:56, 737.11it/s]"
     ]
    },
    {
     "name": "stdout",
     "output_type": "stream",
     "text": [
      "File not found: ./datasets/CelebA/CelebA_original/028209.jpg\n",
      "File not found: ./datasets/CelebA/CelebA_masked/028209.jpg\n",
      "File not found: ./datasets/CelebA/CelebA_pixelated/028209.jpg\n"
     ]
    },
    {
     "name": "stderr",
     "output_type": "stream",
     "text": [
      "Sorting images:  14%|█▍        | 28567/202599 [00:45<03:54, 740.62it/s]"
     ]
    },
    {
     "name": "stdout",
     "output_type": "stream",
     "text": [
      "File not found: ./datasets/CelebA/CelebA_original/028434.jpg\n",
      "File not found: ./datasets/CelebA/CelebA_masked/028434.jpg\n",
      "File not found: ./datasets/CelebA/CelebA_pixelated/028434.jpg\n",
      "File not found: ./datasets/CelebA/CelebA_original/028580.jpg\n",
      "File not found: ./datasets/CelebA/CelebA_masked/028580.jpg\n",
      "File not found: ./datasets/CelebA/CelebA_pixelated/028580.jpg\n"
     ]
    },
    {
     "name": "stderr",
     "output_type": "stream",
     "text": [
      "Sorting images:  14%|█▍        | 29165/202599 [00:46<03:57, 730.81it/s]"
     ]
    },
    {
     "name": "stdout",
     "output_type": "stream",
     "text": [
      "File not found: ./datasets/CelebA/CelebA_original/029101.jpg\n",
      "File not found: ./datasets/CelebA/CelebA_masked/029101.jpg\n",
      "File not found: ./datasets/CelebA/CelebA_pixelated/029101.jpg\n"
     ]
    },
    {
     "name": "stderr",
     "output_type": "stream",
     "text": [
      "Sorting images:  15%|█▍        | 29564/202599 [00:47<04:54, 586.82it/s]"
     ]
    },
    {
     "name": "stdout",
     "output_type": "stream",
     "text": [
      "File not found: ./datasets/CelebA/CelebA_original/029483.jpg\n",
      "File not found: ./datasets/CelebA/CelebA_masked/029483.jpg\n",
      "File not found: ./datasets/CelebA/CelebA_pixelated/029483.jpg\n"
     ]
    },
    {
     "name": "stderr",
     "output_type": "stream",
     "text": [
      "Sorting images:  15%|█▍        | 29920/202599 [00:47<04:12, 684.64it/s]"
     ]
    },
    {
     "name": "stdout",
     "output_type": "stream",
     "text": [
      "File not found: ./datasets/CelebA/CelebA_original/029837.jpg\n",
      "File not found: ./datasets/CelebA/CelebA_masked/029837.jpg\n",
      "File not found: ./datasets/CelebA/CelebA_pixelated/029837.jpg\n"
     ]
    },
    {
     "name": "stderr",
     "output_type": "stream",
     "text": [
      "Sorting images:  15%|█▍        | 30287/202599 [00:48<03:57, 724.07it/s]"
     ]
    },
    {
     "name": "stdout",
     "output_type": "stream",
     "text": [
      "File not found: ./datasets/CelebA/CelebA_original/030191.jpg\n",
      "File not found: ./datasets/CelebA/CelebA_masked/030191.jpg\n",
      "File not found: ./datasets/CelebA/CelebA_pixelated/030191.jpg\n"
     ]
    },
    {
     "name": "stderr",
     "output_type": "stream",
     "text": [
      "Sorting images:  15%|█▌        | 30506/202599 [00:48<04:00, 715.26it/s]"
     ]
    },
    {
     "name": "stdout",
     "output_type": "stream",
     "text": [
      "File not found: ./datasets/CelebA/CelebA_original/030384.jpg\n",
      "File not found: ./datasets/CelebA/CelebA_masked/030384.jpg\n",
      "File not found: ./datasets/CelebA/CelebA_pixelated/030384.jpg\n"
     ]
    },
    {
     "name": "stderr",
     "output_type": "stream",
     "text": [
      "Sorting images:  15%|█▌        | 30879/202599 [00:48<03:52, 739.08it/s]"
     ]
    },
    {
     "name": "stdout",
     "output_type": "stream",
     "text": [
      "File not found: ./datasets/CelebA/CelebA_original/030782.jpg\n",
      "File not found: ./datasets/CelebA/CelebA_masked/030782.jpg\n",
      "File not found: ./datasets/CelebA/CelebA_pixelated/030782.jpg\n",
      "File not found: ./datasets/CelebA/CelebA_original/030912.jpg\n",
      "File not found: ./datasets/CelebA/CelebA_masked/030912.jpg\n",
      "File not found: ./datasets/CelebA/CelebA_pixelated/030912.jpg\n"
     ]
    },
    {
     "name": "stderr",
     "output_type": "stream",
     "text": [
      "Sorting images:  15%|█▌        | 31184/202599 [00:49<03:48, 748.55it/s]"
     ]
    },
    {
     "name": "stdout",
     "output_type": "stream",
     "text": [
      "File not found: ./datasets/CelebA/CelebA_original/031076.jpg\n",
      "File not found: ./datasets/CelebA/CelebA_masked/031076.jpg\n",
      "File not found: ./datasets/CelebA/CelebA_pixelated/031076.jpg\n",
      "File not found: ./datasets/CelebA/CelebA_original/031125.jpg\n",
      "File not found: ./datasets/CelebA/CelebA_masked/031125.jpg\n",
      "File not found: ./datasets/CelebA/CelebA_pixelated/031125.jpg\n",
      "File not found: ./datasets/CelebA/CelebA_original/031162.jpg\n",
      "File not found: ./datasets/CelebA/CelebA_masked/031162.jpg\n",
      "File not found: ./datasets/CelebA/CelebA_pixelated/031162.jpg\n",
      "File not found: ./datasets/CelebA/CelebA_original/031177.jpg\n",
      "File not found: ./datasets/CelebA/CelebA_masked/031177.jpg\n",
      "File not found: ./datasets/CelebA/CelebA_pixelated/031177.jpg\n"
     ]
    },
    {
     "name": "stderr",
     "output_type": "stream",
     "text": [
      "Sorting images:  16%|█▌        | 31499/202599 [00:49<03:40, 776.15it/s]"
     ]
    },
    {
     "name": "stdout",
     "output_type": "stream",
     "text": [
      "File not found: ./datasets/CelebA/CelebA_original/031346.jpg\n",
      "File not found: ./datasets/CelebA/CelebA_masked/031346.jpg\n",
      "File not found: ./datasets/CelebA/CelebA_pixelated/031346.jpg\n"
     ]
    },
    {
     "name": "stderr",
     "output_type": "stream",
     "text": [
      "Sorting images:  16%|█▌        | 31659/202599 [00:49<03:45, 756.60it/s]"
     ]
    },
    {
     "name": "stdout",
     "output_type": "stream",
     "text": [
      "File not found: ./datasets/CelebA/CelebA_original/031524.jpg\n",
      "File not found: ./datasets/CelebA/CelebA_masked/031524.jpg\n",
      "File not found: ./datasets/CelebA/CelebA_pixelated/031524.jpg\n",
      "File not found: ./datasets/CelebA/CelebA_original/031532.jpg\n",
      "File not found: ./datasets/CelebA/CelebA_masked/031532.jpg\n",
      "File not found: ./datasets/CelebA/CelebA_pixelated/031532.jpg\n",
      "File not found: ./datasets/CelebA/CelebA_original/031556.jpg\n",
      "File not found: ./datasets/CelebA/CelebA_masked/031556.jpg\n",
      "File not found: ./datasets/CelebA/CelebA_pixelated/031556.jpg\n"
     ]
    },
    {
     "name": "stderr",
     "output_type": "stream",
     "text": [
      "Sorting images:  16%|█▌        | 31879/202599 [00:50<04:07, 690.21it/s]"
     ]
    },
    {
     "name": "stdout",
     "output_type": "stream",
     "text": [
      "File not found: ./datasets/CelebA/CelebA_original/031798.jpg\n",
      "File not found: ./datasets/CelebA/CelebA_masked/031798.jpg\n",
      "File not found: ./datasets/CelebA/CelebA_pixelated/031798.jpg\n"
     ]
    },
    {
     "name": "stderr",
     "output_type": "stream",
     "text": [
      "Sorting images:  16%|█▌        | 32086/202599 [00:50<04:13, 673.22it/s]"
     ]
    },
    {
     "name": "stdout",
     "output_type": "stream",
     "text": [
      "File not found: ./datasets/CelebA/CelebA_original/031958.jpg\n",
      "File not found: ./datasets/CelebA/CelebA_masked/031958.jpg\n",
      "File not found: ./datasets/CelebA/CelebA_pixelated/031958.jpg\n"
     ]
    },
    {
     "name": "stderr",
     "output_type": "stream",
     "text": [
      "Sorting images:  16%|█▌        | 32221/202599 [00:50<04:18, 658.82it/s]"
     ]
    },
    {
     "name": "stdout",
     "output_type": "stream",
     "text": [
      "File not found: ./datasets/CelebA/CelebA_original/032108.jpg\n",
      "File not found: ./datasets/CelebA/CelebA_masked/032108.jpg\n",
      "File not found: ./datasets/CelebA/CelebA_pixelated/032108.jpg\n"
     ]
    },
    {
     "name": "stderr",
     "output_type": "stream",
     "text": [
      "Sorting images:  16%|█▌        | 32553/202599 [00:51<04:23, 646.21it/s]"
     ]
    },
    {
     "name": "stdout",
     "output_type": "stream",
     "text": [
      "File not found: ./datasets/CelebA/CelebA_original/032464.jpg\n",
      "File not found: ./datasets/CelebA/CelebA_masked/032464.jpg\n",
      "File not found: ./datasets/CelebA/CelebA_pixelated/032464.jpg\n"
     ]
    },
    {
     "name": "stderr",
     "output_type": "stream",
     "text": [
      "Sorting images:  16%|█▋        | 32937/202599 [00:51<04:29, 629.64it/s]"
     ]
    },
    {
     "name": "stdout",
     "output_type": "stream",
     "text": [
      "File not found: ./datasets/CelebA/CelebA_original/032821.jpg\n",
      "File not found: ./datasets/CelebA/CelebA_masked/032821.jpg\n",
      "File not found: ./datasets/CelebA/CelebA_pixelated/032821.jpg\n"
     ]
    },
    {
     "name": "stderr",
     "output_type": "stream",
     "text": [
      "Sorting images:  16%|█▋        | 33190/202599 [00:52<04:33, 620.02it/s]"
     ]
    },
    {
     "name": "stdout",
     "output_type": "stream",
     "text": [
      "File not found: ./datasets/CelebA/CelebA_original/033107.jpg\n",
      "File not found: ./datasets/CelebA/CelebA_masked/033107.jpg\n",
      "File not found: ./datasets/CelebA/CelebA_pixelated/033107.jpg\n",
      "File not found: ./datasets/CelebA/CelebA_original/033216.jpg\n",
      "File not found: ./datasets/CelebA/CelebA_masked/033216.jpg\n",
      "File not found: ./datasets/CelebA/CelebA_pixelated/033216.jpg\n"
     ]
    },
    {
     "name": "stderr",
     "output_type": "stream",
     "text": [
      "Sorting images:  17%|█▋        | 33712/202599 [00:53<04:24, 639.34it/s]"
     ]
    },
    {
     "name": "stdout",
     "output_type": "stream",
     "text": [
      "File not found: ./datasets/CelebA/CelebA_original/033638.jpg\n",
      "File not found: ./datasets/CelebA/CelebA_masked/033638.jpg\n",
      "File not found: ./datasets/CelebA/CelebA_pixelated/033638.jpg\n",
      "File not found: ./datasets/CelebA/CelebA_original/033692.jpg\n",
      "File not found: ./datasets/CelebA/CelebA_masked/033692.jpg\n",
      "File not found: ./datasets/CelebA/CelebA_pixelated/033692.jpg\n"
     ]
    },
    {
     "name": "stderr",
     "output_type": "stream",
     "text": [
      "Sorting images:  17%|█▋        | 33908/202599 [00:53<04:23, 640.38it/s]"
     ]
    },
    {
     "name": "stdout",
     "output_type": "stream",
     "text": [
      "File not found: ./datasets/CelebA/CelebA_original/033781.jpg\n",
      "File not found: ./datasets/CelebA/CelebA_masked/033781.jpg\n",
      "File not found: ./datasets/CelebA/CelebA_pixelated/033781.jpg\n"
     ]
    },
    {
     "name": "stderr",
     "output_type": "stream",
     "text": [
      "Sorting images:  17%|█▋        | 34063/202599 [00:53<03:58, 708.02it/s]"
     ]
    },
    {
     "name": "stdout",
     "output_type": "stream",
     "text": [
      "File not found: ./datasets/CelebA/CelebA_original/033929.jpg\n",
      "File not found: ./datasets/CelebA/CelebA_masked/033929.jpg\n",
      "File not found: ./datasets/CelebA/CelebA_pixelated/033929.jpg\n",
      "File not found: ./datasets/CelebA/CelebA_original/033995.jpg\n",
      "File not found: ./datasets/CelebA/CelebA_masked/033995.jpg\n",
      "File not found: ./datasets/CelebA/CelebA_pixelated/033995.jpg\n"
     ]
    },
    {
     "name": "stderr",
     "output_type": "stream",
     "text": [
      "Sorting images:  17%|█▋        | 34852/202599 [00:54<03:33, 783.90it/s]"
     ]
    },
    {
     "name": "stdout",
     "output_type": "stream",
     "text": [
      "File not found: ./datasets/CelebA/CelebA_original/034715.jpg\n",
      "File not found: ./datasets/CelebA/CelebA_masked/034715.jpg\n",
      "File not found: ./datasets/CelebA/CelebA_pixelated/034715.jpg\n"
     ]
    },
    {
     "name": "stderr",
     "output_type": "stream",
     "text": [
      "Sorting images:  17%|█▋        | 35013/202599 [00:54<03:31, 791.96it/s]"
     ]
    },
    {
     "name": "stdout",
     "output_type": "stream",
     "text": [
      "File not found: ./datasets/CelebA/CelebA_original/034875.jpg\n",
      "File not found: ./datasets/CelebA/CelebA_masked/034875.jpg\n",
      "File not found: ./datasets/CelebA/CelebA_pixelated/034875.jpg\n",
      "File not found: ./datasets/CelebA/CelebA_original/034933.jpg\n",
      "File not found: ./datasets/CelebA/CelebA_masked/034933.jpg\n",
      "File not found: ./datasets/CelebA/CelebA_pixelated/034933.jpg\n"
     ]
    },
    {
     "name": "stderr",
     "output_type": "stream",
     "text": [
      "Sorting images:  17%|█▋        | 35408/202599 [00:55<03:51, 721.46it/s]"
     ]
    },
    {
     "name": "stdout",
     "output_type": "stream",
     "text": [
      "File not found: ./datasets/CelebA/CelebA_original/035325.jpg\n",
      "File not found: ./datasets/CelebA/CelebA_masked/035325.jpg\n",
      "File not found: ./datasets/CelebA/CelebA_pixelated/035325.jpg\n"
     ]
    },
    {
     "name": "stderr",
     "output_type": "stream",
     "text": [
      "Sorting images:  18%|█▊        | 35942/202599 [00:56<03:40, 756.52it/s]"
     ]
    },
    {
     "name": "stdout",
     "output_type": "stream",
     "text": [
      "File not found: ./datasets/CelebA/CelebA_original/035849.jpg\n",
      "File not found: ./datasets/CelebA/CelebA_masked/035849.jpg\n",
      "File not found: ./datasets/CelebA/CelebA_pixelated/035849.jpg\n"
     ]
    },
    {
     "name": "stderr",
     "output_type": "stream",
     "text": [
      "Sorting images:  18%|█▊        | 37066/202599 [00:57<04:24, 625.60it/s]"
     ]
    },
    {
     "name": "stdout",
     "output_type": "stream",
     "text": [
      "File not found: ./datasets/CelebA/CelebA_original/036951.jpg\n",
      "File not found: ./datasets/CelebA/CelebA_masked/036951.jpg\n",
      "File not found: ./datasets/CelebA/CelebA_pixelated/036951.jpg\n"
     ]
    },
    {
     "name": "stderr",
     "output_type": "stream",
     "text": [
      "Sorting images:  18%|█▊        | 37193/202599 [00:58<04:24, 624.66it/s]"
     ]
    },
    {
     "name": "stdout",
     "output_type": "stream",
     "text": [
      "File not found: ./datasets/CelebA/CelebA_original/037125.jpg\n",
      "File not found: ./datasets/CelebA/CelebA_masked/037125.jpg\n",
      "File not found: ./datasets/CelebA/CelebA_pixelated/037125.jpg\n",
      "File not found: ./datasets/CelebA/CelebA_original/037143.jpg\n",
      "File not found: ./datasets/CelebA/CelebA_masked/037143.jpg\n",
      "File not found: ./datasets/CelebA/CelebA_pixelated/037143.jpg\n",
      "File not found: ./datasets/CelebA/CelebA_original/037162.jpg\n",
      "File not found: ./datasets/CelebA/CelebA_masked/037162.jpg\n",
      "File not found: ./datasets/CelebA/CelebA_pixelated/037162.jpg\n"
     ]
    },
    {
     "name": "stderr",
     "output_type": "stream",
     "text": [
      "Sorting images:  18%|█▊        | 37426/202599 [00:58<05:30, 500.51it/s]"
     ]
    },
    {
     "name": "stdout",
     "output_type": "stream",
     "text": [
      "File not found: ./datasets/CelebA/CelebA_original/037368.jpg\n",
      "File not found: ./datasets/CelebA/CelebA_masked/037368.jpg\n",
      "File not found: ./datasets/CelebA/CelebA_pixelated/037368.jpg\n",
      "File not found: ./datasets/CelebA/CelebA_original/037439.jpg\n",
      "File not found: ./datasets/CelebA/CelebA_masked/037439.jpg\n",
      "File not found: ./datasets/CelebA/CelebA_pixelated/037439.jpg\n"
     ]
    },
    {
     "name": "stderr",
     "output_type": "stream",
     "text": [
      "Sorting images:  19%|█▉        | 38084/202599 [00:59<04:31, 606.89it/s]"
     ]
    },
    {
     "name": "stdout",
     "output_type": "stream",
     "text": [
      "File not found: ./datasets/CelebA/CelebA_original/038008.jpg\n",
      "File not found: ./datasets/CelebA/CelebA_masked/038008.jpg\n",
      "File not found: ./datasets/CelebA/CelebA_pixelated/038008.jpg\n"
     ]
    },
    {
     "name": "stderr",
     "output_type": "stream",
     "text": [
      "Sorting images:  19%|█▉        | 38753/202599 [01:00<04:33, 599.56it/s]"
     ]
    },
    {
     "name": "stdout",
     "output_type": "stream",
     "text": [
      "File not found: ./datasets/CelebA/CelebA_original/038652.jpg\n",
      "File not found: ./datasets/CelebA/CelebA_masked/038652.jpg\n",
      "File not found: ./datasets/CelebA/CelebA_pixelated/038652.jpg\n",
      "File not found: ./datasets/CelebA/CelebA_original/038667.jpg\n",
      "File not found: ./datasets/CelebA/CelebA_masked/038667.jpg\n",
      "File not found: ./datasets/CelebA/CelebA_pixelated/038667.jpg\n",
      "File not found: ./datasets/CelebA/CelebA_original/038676.jpg\n",
      "File not found: ./datasets/CelebA/CelebA_masked/038676.jpg\n",
      "File not found: ./datasets/CelebA/CelebA_pixelated/038676.jpg\n"
     ]
    },
    {
     "name": "stderr",
     "output_type": "stream",
     "text": [
      "Sorting images:  19%|█▉        | 38931/202599 [01:01<05:02, 541.31it/s]"
     ]
    },
    {
     "name": "stdout",
     "output_type": "stream",
     "text": [
      "File not found: ./datasets/CelebA/CelebA_original/038902.jpg\n",
      "File not found: ./datasets/CelebA/CelebA_masked/038902.jpg\n",
      "File not found: ./datasets/CelebA/CelebA_pixelated/038902.jpg\n"
     ]
    },
    {
     "name": "stderr",
     "output_type": "stream",
     "text": [
      "Sorting images:  19%|█▉        | 39204/202599 [01:01<05:10, 525.86it/s]"
     ]
    },
    {
     "name": "stdout",
     "output_type": "stream",
     "text": [
      "File not found: ./datasets/CelebA/CelebA_original/039143.jpg\n",
      "File not found: ./datasets/CelebA/CelebA_masked/039143.jpg\n",
      "File not found: ./datasets/CelebA/CelebA_pixelated/039143.jpg\n",
      "File not found: ./datasets/CelebA/CelebA_original/039250.jpg\n",
      "File not found: ./datasets/CelebA/CelebA_masked/039250.jpg\n",
      "File not found: ./datasets/CelebA/CelebA_pixelated/039250.jpg\n"
     ]
    },
    {
     "name": "stderr",
     "output_type": "stream",
     "text": [
      "Sorting images:  20%|█▉        | 39568/202599 [01:02<04:33, 596.82it/s]"
     ]
    },
    {
     "name": "stdout",
     "output_type": "stream",
     "text": [
      "File not found: ./datasets/CelebA/CelebA_original/039459.jpg\n",
      "File not found: ./datasets/CelebA/CelebA_masked/039459.jpg\n",
      "File not found: ./datasets/CelebA/CelebA_pixelated/039459.jpg\n",
      "File not found: ./datasets/CelebA/CelebA_original/039546.jpg\n",
      "File not found: ./datasets/CelebA/CelebA_masked/039546.jpg\n",
      "File not found: ./datasets/CelebA/CelebA_pixelated/039546.jpg\n"
     ]
    },
    {
     "name": "stderr",
     "output_type": "stream",
     "text": [
      "Sorting images:  20%|█▉        | 39870/202599 [01:02<04:33, 594.20it/s]"
     ]
    },
    {
     "name": "stdout",
     "output_type": "stream",
     "text": [
      "File not found: ./datasets/CelebA/CelebA_original/039812.jpg\n",
      "File not found: ./datasets/CelebA/CelebA_masked/039812.jpg\n",
      "File not found: ./datasets/CelebA/CelebA_pixelated/039812.jpg\n",
      "File not found: ./datasets/CelebA/CelebA_original/039816.jpg\n",
      "File not found: ./datasets/CelebA/CelebA_masked/039816.jpg\n",
      "File not found: ./datasets/CelebA/CelebA_pixelated/039816.jpg\n"
     ]
    },
    {
     "name": "stderr",
     "output_type": "stream",
     "text": [
      "Sorting images:  20%|█▉        | 40217/202599 [01:03<04:51, 556.61it/s]"
     ]
    },
    {
     "name": "stdout",
     "output_type": "stream",
     "text": [
      "File not found: ./datasets/CelebA/CelebA_original/040113.jpg\n",
      "File not found: ./datasets/CelebA/CelebA_masked/040113.jpg\n",
      "File not found: ./datasets/CelebA/CelebA_pixelated/040113.jpg\n"
     ]
    },
    {
     "name": "stderr",
     "output_type": "stream",
     "text": [
      "Sorting images:  20%|█▉        | 40395/202599 [01:03<04:44, 569.91it/s]"
     ]
    },
    {
     "name": "stdout",
     "output_type": "stream",
     "text": [
      "File not found: ./datasets/CelebA/CelebA_original/040320.jpg\n",
      "File not found: ./datasets/CelebA/CelebA_masked/040320.jpg\n",
      "File not found: ./datasets/CelebA/CelebA_pixelated/040320.jpg\n"
     ]
    },
    {
     "name": "stderr",
     "output_type": "stream",
     "text": [
      "Sorting images:  20%|██        | 41315/202599 [01:05<04:24, 609.87it/s]"
     ]
    },
    {
     "name": "stdout",
     "output_type": "stream",
     "text": [
      "File not found: ./datasets/CelebA/CelebA_original/041222.jpg\n",
      "File not found: ./datasets/CelebA/CelebA_masked/041222.jpg\n",
      "File not found: ./datasets/CelebA/CelebA_pixelated/041222.jpg\n"
     ]
    },
    {
     "name": "stderr",
     "output_type": "stream",
     "text": [
      "Sorting images:  21%|██        | 42003/202599 [01:06<04:19, 618.11it/s]"
     ]
    },
    {
     "name": "stdout",
     "output_type": "stream",
     "text": [
      "File not found: ./datasets/CelebA/CelebA_original/041897.jpg\n",
      "File not found: ./datasets/CelebA/CelebA_masked/041897.jpg\n",
      "File not found: ./datasets/CelebA/CelebA_pixelated/041897.jpg\n",
      "File not found: ./datasets/CelebA/CelebA_original/041929.jpg\n",
      "File not found: ./datasets/CelebA/CelebA_masked/041929.jpg\n",
      "File not found: ./datasets/CelebA/CelebA_pixelated/041929.jpg\n"
     ]
    },
    {
     "name": "stderr",
     "output_type": "stream",
     "text": [
      "Sorting images:  21%|██        | 42196/202599 [01:06<04:12, 634.27it/s]"
     ]
    },
    {
     "name": "stdout",
     "output_type": "stream",
     "text": [
      "File not found: ./datasets/CelebA/CelebA_original/042133.jpg\n",
      "File not found: ./datasets/CelebA/CelebA_masked/042133.jpg\n",
      "File not found: ./datasets/CelebA/CelebA_pixelated/042133.jpg\n",
      "File not found: ./datasets/CelebA/CelebA_original/042170.jpg\n",
      "File not found: ./datasets/CelebA/CelebA_masked/042170.jpg\n",
      "File not found: ./datasets/CelebA/CelebA_pixelated/042170.jpg\n",
      "File not found: ./datasets/CelebA/CelebA_original/042179.jpg\n",
      "File not found: ./datasets/CelebA/CelebA_masked/042179.jpg\n",
      "File not found: ./datasets/CelebA/CelebA_pixelated/042179.jpg\n"
     ]
    },
    {
     "name": "stderr",
     "output_type": "stream",
     "text": [
      "Sorting images:  21%|██        | 42385/202599 [01:07<04:21, 612.02it/s]"
     ]
    },
    {
     "name": "stdout",
     "output_type": "stream",
     "text": [
      "File not found: ./datasets/CelebA/CelebA_original/042279.jpg\n",
      "File not found: ./datasets/CelebA/CelebA_masked/042279.jpg\n",
      "File not found: ./datasets/CelebA/CelebA_pixelated/042279.jpg\n",
      "File not found: ./datasets/CelebA/CelebA_original/042291.jpg\n",
      "File not found: ./datasets/CelebA/CelebA_masked/042291.jpg\n",
      "File not found: ./datasets/CelebA/CelebA_pixelated/042291.jpg\n",
      "File not found: ./datasets/CelebA/CelebA_original/042360.jpg\n",
      "File not found: ./datasets/CelebA/CelebA_masked/042360.jpg\n",
      "File not found: ./datasets/CelebA/CelebA_pixelated/042360.jpg\n"
     ]
    },
    {
     "name": "stderr",
     "output_type": "stream",
     "text": [
      "Sorting images:  22%|██▏       | 43574/202599 [01:09<04:16, 618.95it/s]"
     ]
    },
    {
     "name": "stdout",
     "output_type": "stream",
     "text": [
      "File not found: ./datasets/CelebA/CelebA_original/043458.jpg\n",
      "File not found: ./datasets/CelebA/CelebA_masked/043458.jpg\n",
      "File not found: ./datasets/CelebA/CelebA_pixelated/043458.jpg\n",
      "File not found: ./datasets/CelebA/CelebA_original/043571.jpg\n",
      "File not found: ./datasets/CelebA/CelebA_masked/043571.jpg\n",
      "File not found: ./datasets/CelebA/CelebA_pixelated/043571.jpg\n"
     ]
    },
    {
     "name": "stderr",
     "output_type": "stream",
     "text": [
      "Sorting images:  22%|██▏       | 44261/202599 [01:10<04:15, 620.62it/s]"
     ]
    },
    {
     "name": "stdout",
     "output_type": "stream",
     "text": [
      "File not found: ./datasets/CelebA/CelebA_original/044200.jpg\n",
      "File not found: ./datasets/CelebA/CelebA_masked/044200.jpg\n",
      "File not found: ./datasets/CelebA/CelebA_pixelated/044200.jpg\n"
     ]
    },
    {
     "name": "stderr",
     "output_type": "stream",
     "text": [
      "Sorting images:  22%|██▏       | 44569/202599 [01:10<04:21, 604.05it/s]"
     ]
    },
    {
     "name": "stdout",
     "output_type": "stream",
     "text": [
      "File not found: ./datasets/CelebA/CelebA_original/044503.jpg\n",
      "File not found: ./datasets/CelebA/CelebA_masked/044503.jpg\n",
      "File not found: ./datasets/CelebA/CelebA_pixelated/044503.jpg\n"
     ]
    },
    {
     "name": "stderr",
     "output_type": "stream",
     "text": [
      "Sorting images:  22%|██▏       | 44742/202599 [01:11<04:55, 534.57it/s]"
     ]
    },
    {
     "name": "stdout",
     "output_type": "stream",
     "text": [
      "File not found: ./datasets/CelebA/CelebA_original/044681.jpg\n",
      "File not found: ./datasets/CelebA/CelebA_masked/044681.jpg\n",
      "File not found: ./datasets/CelebA/CelebA_pixelated/044681.jpg\n"
     ]
    },
    {
     "name": "stderr",
     "output_type": "stream",
     "text": [
      "Sorting images:  22%|██▏       | 45160/202599 [01:11<04:25, 592.48it/s]"
     ]
    },
    {
     "name": "stdout",
     "output_type": "stream",
     "text": [
      "File not found: ./datasets/CelebA/CelebA_original/045060.jpg\n",
      "File not found: ./datasets/CelebA/CelebA_masked/045060.jpg\n",
      "File not found: ./datasets/CelebA/CelebA_pixelated/045060.jpg\n"
     ]
    },
    {
     "name": "stderr",
     "output_type": "stream",
     "text": [
      "Sorting images:  23%|██▎       | 45669/202599 [01:12<04:08, 632.29it/s]"
     ]
    },
    {
     "name": "stdout",
     "output_type": "stream",
     "text": [
      "File not found: ./datasets/CelebA/CelebA_original/045540.jpg\n",
      "File not found: ./datasets/CelebA/CelebA_masked/045540.jpg\n",
      "File not found: ./datasets/CelebA/CelebA_pixelated/045540.jpg\n",
      "File not found: ./datasets/CelebA/CelebA_original/045554.jpg\n",
      "File not found: ./datasets/CelebA/CelebA_masked/045554.jpg\n",
      "File not found: ./datasets/CelebA/CelebA_pixelated/045554.jpg\n",
      "File not found: ./datasets/CelebA/CelebA_original/045643.jpg\n",
      "File not found: ./datasets/CelebA/CelebA_masked/045643.jpg\n",
      "File not found: ./datasets/CelebA/CelebA_pixelated/045643.jpg\n"
     ]
    },
    {
     "name": "stderr",
     "output_type": "stream",
     "text": [
      "Sorting images:  23%|██▎       | 46116/202599 [01:13<04:07, 631.39it/s]"
     ]
    },
    {
     "name": "stdout",
     "output_type": "stream",
     "text": [
      "File not found: ./datasets/CelebA/CelebA_original/045991.jpg\n",
      "File not found: ./datasets/CelebA/CelebA_masked/045991.jpg\n",
      "File not found: ./datasets/CelebA/CelebA_pixelated/045991.jpg\n"
     ]
    },
    {
     "name": "stderr",
     "output_type": "stream",
     "text": [
      "Sorting images:  23%|██▎       | 46305/202599 [01:13<04:15, 610.57it/s]"
     ]
    },
    {
     "name": "stdout",
     "output_type": "stream",
     "text": [
      "File not found: ./datasets/CelebA/CelebA_original/046252.jpg\n",
      "File not found: ./datasets/CelebA/CelebA_masked/046252.jpg\n",
      "File not found: ./datasets/CelebA/CelebA_pixelated/046252.jpg\n"
     ]
    },
    {
     "name": "stderr",
     "output_type": "stream",
     "text": [
      "Sorting images:  23%|██▎       | 46936/202599 [01:14<04:07, 628.64it/s]"
     ]
    },
    {
     "name": "stdout",
     "output_type": "stream",
     "text": [
      "File not found: ./datasets/CelebA/CelebA_original/046851.jpg\n",
      "File not found: ./datasets/CelebA/CelebA_masked/046851.jpg\n",
      "File not found: ./datasets/CelebA/CelebA_pixelated/046851.jpg\n"
     ]
    },
    {
     "name": "stderr",
     "output_type": "stream",
     "text": [
      "Sorting images:  23%|██▎       | 47127/202599 [01:14<04:08, 624.61it/s]"
     ]
    },
    {
     "name": "stdout",
     "output_type": "stream",
     "text": [
      "File not found: ./datasets/CelebA/CelebA_original/047010.jpg\n",
      "File not found: ./datasets/CelebA/CelebA_masked/047010.jpg\n",
      "File not found: ./datasets/CelebA/CelebA_pixelated/047010.jpg\n",
      "File not found: ./datasets/CelebA/CelebA_original/047054.jpg\n",
      "File not found: ./datasets/CelebA/CelebA_masked/047054.jpg\n",
      "File not found: ./datasets/CelebA/CelebA_pixelated/047054.jpg\n"
     ]
    },
    {
     "name": "stderr",
     "output_type": "stream",
     "text": [
      "Sorting images:  23%|██▎       | 47315/202599 [01:15<04:15, 607.52it/s]"
     ]
    },
    {
     "name": "stdout",
     "output_type": "stream",
     "text": [
      "File not found: ./datasets/CelebA/CelebA_original/047248.jpg\n",
      "File not found: ./datasets/CelebA/CelebA_masked/047248.jpg\n",
      "File not found: ./datasets/CelebA/CelebA_pixelated/047248.jpg\n"
     ]
    },
    {
     "name": "stderr",
     "output_type": "stream",
     "text": [
      "Sorting images:  23%|██▎       | 47496/202599 [01:15<04:47, 539.11it/s]"
     ]
    },
    {
     "name": "stdout",
     "output_type": "stream",
     "text": [
      "File not found: ./datasets/CelebA/CelebA_original/047427.jpg\n",
      "File not found: ./datasets/CelebA/CelebA_masked/047427.jpg\n",
      "File not found: ./datasets/CelebA/CelebA_pixelated/047427.jpg\n"
     ]
    },
    {
     "name": "stderr",
     "output_type": "stream",
     "text": [
      "Sorting images:  24%|██▎       | 47838/202599 [01:16<04:32, 567.09it/s]"
     ]
    },
    {
     "name": "stdout",
     "output_type": "stream",
     "text": [
      "File not found: ./datasets/CelebA/CelebA_original/047720.jpg\n",
      "File not found: ./datasets/CelebA/CelebA_masked/047720.jpg\n",
      "File not found: ./datasets/CelebA/CelebA_pixelated/047720.jpg\n",
      "File not found: ./datasets/CelebA/CelebA_original/047801.jpg\n",
      "File not found: ./datasets/CelebA/CelebA_masked/047801.jpg\n",
      "File not found: ./datasets/CelebA/CelebA_pixelated/047801.jpg\n",
      "File not found: ./datasets/CelebA/CelebA_original/047835.jpg\n",
      "File not found: ./datasets/CelebA/CelebA_masked/047835.jpg\n",
      "File not found: ./datasets/CelebA/CelebA_pixelated/047835.jpg\n"
     ]
    },
    {
     "name": "stderr",
     "output_type": "stream",
     "text": [
      "Sorting images:  24%|██▍       | 48205/202599 [01:16<04:28, 575.41it/s]"
     ]
    },
    {
     "name": "stdout",
     "output_type": "stream",
     "text": [
      "File not found: ./datasets/CelebA/CelebA_original/048116.jpg\n",
      "File not found: ./datasets/CelebA/CelebA_masked/048116.jpg\n",
      "File not found: ./datasets/CelebA/CelebA_pixelated/048116.jpg\n"
     ]
    },
    {
     "name": "stderr",
     "output_type": "stream",
     "text": [
      "Sorting images:  24%|██▍       | 48376/202599 [01:17<04:38, 553.16it/s]"
     ]
    },
    {
     "name": "stdout",
     "output_type": "stream",
     "text": [
      "File not found: ./datasets/CelebA/CelebA_original/048286.jpg\n",
      "File not found: ./datasets/CelebA/CelebA_masked/048286.jpg\n",
      "File not found: ./datasets/CelebA/CelebA_pixelated/048286.jpg\n",
      "File not found: ./datasets/CelebA/CelebA_original/048333.jpg\n",
      "File not found: ./datasets/CelebA/CelebA_masked/048333.jpg\n",
      "File not found: ./datasets/CelebA/CelebA_pixelated/048333.jpg\n",
      "File not found: ./datasets/CelebA/CelebA_original/048375.jpg\n",
      "File not found: ./datasets/CelebA/CelebA_masked/048375.jpg\n",
      "File not found: ./datasets/CelebA/CelebA_pixelated/048375.jpg\n"
     ]
    },
    {
     "name": "stderr",
     "output_type": "stream",
     "text": [
      "Sorting images:  24%|██▍       | 48552/202599 [01:17<04:28, 574.30it/s]"
     ]
    },
    {
     "name": "stdout",
     "output_type": "stream",
     "text": [
      "File not found: ./datasets/CelebA/CelebA_original/048459.jpg\n",
      "File not found: ./datasets/CelebA/CelebA_masked/048459.jpg\n",
      "File not found: ./datasets/CelebA/CelebA_pixelated/048459.jpg\n"
     ]
    },
    {
     "name": "stderr",
     "output_type": "stream",
     "text": [
      "Sorting images:  24%|██▍       | 48729/202599 [01:17<04:25, 579.03it/s]"
     ]
    },
    {
     "name": "stdout",
     "output_type": "stream",
     "text": [
      "File not found: ./datasets/CelebA/CelebA_original/048619.jpg\n",
      "File not found: ./datasets/CelebA/CelebA_masked/048619.jpg\n",
      "File not found: ./datasets/CelebA/CelebA_pixelated/048619.jpg\n"
     ]
    },
    {
     "name": "stderr",
     "output_type": "stream",
     "text": [
      "Sorting images:  24%|██▍       | 48907/202599 [01:18<04:25, 579.69it/s]"
     ]
    },
    {
     "name": "stdout",
     "output_type": "stream",
     "text": [
      "File not found: ./datasets/CelebA/CelebA_original/048799.jpg\n",
      "File not found: ./datasets/CelebA/CelebA_masked/048799.jpg\n",
      "File not found: ./datasets/CelebA/CelebA_pixelated/048799.jpg\n"
     ]
    },
    {
     "name": "stderr",
     "output_type": "stream",
     "text": [
      "Sorting images:  24%|██▍       | 49203/202599 [01:18<04:24, 579.03it/s]"
     ]
    },
    {
     "name": "stdout",
     "output_type": "stream",
     "text": [
      "File not found: ./datasets/CelebA/CelebA_original/049114.jpg\n",
      "File not found: ./datasets/CelebA/CelebA_masked/049114.jpg\n",
      "File not found: ./datasets/CelebA/CelebA_pixelated/049114.jpg\n",
      "File not found: ./datasets/CelebA/CelebA_original/049124.jpg\n",
      "File not found: ./datasets/CelebA/CelebA_masked/049124.jpg\n",
      "File not found: ./datasets/CelebA/CelebA_pixelated/049124.jpg\n",
      "File not found: ./datasets/CelebA/CelebA_original/049197.jpg\n",
      "File not found: ./datasets/CelebA/CelebA_masked/049197.jpg\n",
      "File not found: ./datasets/CelebA/CelebA_pixelated/049197.jpg\n"
     ]
    },
    {
     "name": "stderr",
     "output_type": "stream",
     "text": [
      "Sorting images:  24%|██▍       | 49384/202599 [01:18<04:18, 591.81it/s]"
     ]
    },
    {
     "name": "stdout",
     "output_type": "stream",
     "text": [
      "File not found: ./datasets/CelebA/CelebA_original/049277.jpg\n",
      "File not found: ./datasets/CelebA/CelebA_masked/049277.jpg\n",
      "File not found: ./datasets/CelebA/CelebA_pixelated/049277.jpg\n"
     ]
    },
    {
     "name": "stderr",
     "output_type": "stream",
     "text": [
      "Sorting images:  25%|██▍       | 49830/202599 [01:19<04:04, 624.66it/s]"
     ]
    },
    {
     "name": "stdout",
     "output_type": "stream",
     "text": [
      "File not found: ./datasets/CelebA/CelebA_original/049737.jpg\n",
      "File not found: ./datasets/CelebA/CelebA_masked/049737.jpg\n",
      "File not found: ./datasets/CelebA/CelebA_pixelated/049737.jpg\n",
      "File not found: ./datasets/CelebA/CelebA_original/049778.jpg\n",
      "File not found: ./datasets/CelebA/CelebA_masked/049778.jpg\n",
      "File not found: ./datasets/CelebA/CelebA_pixelated/049778.jpg\n"
     ]
    },
    {
     "name": "stderr",
     "output_type": "stream",
     "text": [
      "Sorting images:  25%|██▍       | 50270/202599 [01:20<04:08, 612.25it/s]"
     ]
    },
    {
     "name": "stdout",
     "output_type": "stream",
     "text": [
      "File not found: ./datasets/CelebA/CelebA_original/050192.jpg\n",
      "File not found: ./datasets/CelebA/CelebA_masked/050192.jpg\n",
      "File not found: ./datasets/CelebA/CelebA_pixelated/050192.jpg\n",
      "File not found: ./datasets/CelebA/CelebA_original/050199.jpg\n",
      "File not found: ./datasets/CelebA/CelebA_masked/050199.jpg\n",
      "File not found: ./datasets/CelebA/CelebA_pixelated/050199.jpg\n"
     ]
    },
    {
     "name": "stderr",
     "output_type": "stream",
     "text": [
      "Sorting images:  25%|██▌       | 50706/202599 [01:21<04:04, 620.08it/s]"
     ]
    },
    {
     "name": "stdout",
     "output_type": "stream",
     "text": [
      "File not found: ./datasets/CelebA/CelebA_original/050594.jpg\n",
      "File not found: ./datasets/CelebA/CelebA_masked/050594.jpg\n",
      "File not found: ./datasets/CelebA/CelebA_pixelated/050594.jpg\n",
      "File not found: ./datasets/CelebA/CelebA_original/050614.jpg\n",
      "File not found: ./datasets/CelebA/CelebA_masked/050614.jpg\n",
      "File not found: ./datasets/CelebA/CelebA_pixelated/050614.jpg\n"
     ]
    },
    {
     "name": "stderr",
     "output_type": "stream",
     "text": [
      "Sorting images:  25%|██▌       | 50959/202599 [01:21<04:05, 618.53it/s]"
     ]
    },
    {
     "name": "stdout",
     "output_type": "stream",
     "text": [
      "File not found: ./datasets/CelebA/CelebA_original/050841.jpg\n",
      "File not found: ./datasets/CelebA/CelebA_masked/050841.jpg\n",
      "File not found: ./datasets/CelebA/CelebA_pixelated/050841.jpg\n",
      "File not found: ./datasets/CelebA/CelebA_original/050875.jpg\n",
      "File not found: ./datasets/CelebA/CelebA_masked/050875.jpg\n",
      "File not found: ./datasets/CelebA/CelebA_pixelated/050875.jpg\n"
     ]
    },
    {
     "name": "stderr",
     "output_type": "stream",
     "text": [
      "Sorting images:  25%|██▌       | 51473/202599 [01:22<03:56, 638.70it/s]"
     ]
    },
    {
     "name": "stdout",
     "output_type": "stream",
     "text": [
      "File not found: ./datasets/CelebA/CelebA_original/051387.jpg\n",
      "File not found: ./datasets/CelebA/CelebA_masked/051387.jpg\n",
      "File not found: ./datasets/CelebA/CelebA_pixelated/051387.jpg\n",
      "File not found: ./datasets/CelebA/CelebA_original/051406.jpg\n",
      "File not found: ./datasets/CelebA/CelebA_masked/051406.jpg\n",
      "File not found: ./datasets/CelebA/CelebA_pixelated/051406.jpg\n",
      "File not found: ./datasets/CelebA/CelebA_original/051408.jpg\n",
      "File not found: ./datasets/CelebA/CelebA_masked/051408.jpg\n",
      "File not found: ./datasets/CelebA/CelebA_pixelated/051408.jpg\n"
     ]
    },
    {
     "name": "stderr",
     "output_type": "stream",
     "text": [
      "Sorting images:  26%|██▌       | 51974/202599 [01:23<04:18, 583.55it/s]"
     ]
    },
    {
     "name": "stdout",
     "output_type": "stream",
     "text": [
      "File not found: ./datasets/CelebA/CelebA_original/051885.jpg\n",
      "File not found: ./datasets/CelebA/CelebA_masked/051885.jpg\n",
      "File not found: ./datasets/CelebA/CelebA_pixelated/051885.jpg\n"
     ]
    },
    {
     "name": "stderr",
     "output_type": "stream",
     "text": [
      "Sorting images:  26%|██▌       | 52347/202599 [01:23<04:28, 559.05it/s]"
     ]
    },
    {
     "name": "stdout",
     "output_type": "stream",
     "text": [
      "File not found: ./datasets/CelebA/CelebA_original/052267.jpg\n",
      "File not found: ./datasets/CelebA/CelebA_masked/052267.jpg\n",
      "File not found: ./datasets/CelebA/CelebA_pixelated/052267.jpg\n",
      "File not found: ./datasets/CelebA/CelebA_original/052317.jpg\n",
      "File not found: ./datasets/CelebA/CelebA_masked/052317.jpg\n",
      "File not found: ./datasets/CelebA/CelebA_pixelated/052317.jpg\n"
     ]
    },
    {
     "name": "stderr",
     "output_type": "stream",
     "text": [
      "Sorting images:  26%|██▌       | 52588/202599 [01:24<04:22, 571.54it/s]"
     ]
    },
    {
     "name": "stdout",
     "output_type": "stream",
     "text": [
      "File not found: ./datasets/CelebA/CelebA_original/052507.jpg\n",
      "File not found: ./datasets/CelebA/CelebA_masked/052507.jpg\n",
      "File not found: ./datasets/CelebA/CelebA_pixelated/052507.jpg\n",
      "File not found: ./datasets/CelebA/CelebA_original/052586.jpg\n",
      "File not found: ./datasets/CelebA/CelebA_masked/052586.jpg\n",
      "File not found: ./datasets/CelebA/CelebA_pixelated/052586.jpg\n"
     ]
    },
    {
     "name": "stderr",
     "output_type": "stream",
     "text": [
      "Sorting images:  26%|██▌       | 52819/202599 [01:24<04:27, 559.55it/s]"
     ]
    },
    {
     "name": "stdout",
     "output_type": "stream",
     "text": [
      "File not found: ./datasets/CelebA/CelebA_original/052735.jpg\n",
      "File not found: ./datasets/CelebA/CelebA_masked/052735.jpg\n",
      "File not found: ./datasets/CelebA/CelebA_pixelated/052735.jpg\n"
     ]
    },
    {
     "name": "stderr",
     "output_type": "stream",
     "text": [
      "Sorting images:  26%|██▌       | 52934/202599 [01:24<04:24, 565.22it/s]"
     ]
    },
    {
     "name": "stdout",
     "output_type": "stream",
     "text": [
      "File not found: ./datasets/CelebA/CelebA_original/052861.jpg\n",
      "File not found: ./datasets/CelebA/CelebA_masked/052861.jpg\n",
      "File not found: ./datasets/CelebA/CelebA_pixelated/052861.jpg\n",
      "File not found: ./datasets/CelebA/CelebA_original/052888.jpg\n",
      "File not found: ./datasets/CelebA/CelebA_masked/052888.jpg\n",
      "File not found: ./datasets/CelebA/CelebA_pixelated/052888.jpg\n"
     ]
    },
    {
     "name": "stderr",
     "output_type": "stream",
     "text": [
      "Sorting images:  26%|██▋       | 53188/202599 [01:25<04:04, 610.92it/s]"
     ]
    },
    {
     "name": "stdout",
     "output_type": "stream",
     "text": [
      "File not found: ./datasets/CelebA/CelebA_original/053072.jpg\n",
      "File not found: ./datasets/CelebA/CelebA_masked/053072.jpg\n",
      "File not found: ./datasets/CelebA/CelebA_pixelated/053072.jpg\n",
      "File not found: ./datasets/CelebA/CelebA_original/053087.jpg\n",
      "File not found: ./datasets/CelebA/CelebA_masked/053087.jpg\n",
      "File not found: ./datasets/CelebA/CelebA_pixelated/053087.jpg\n"
     ]
    },
    {
     "name": "stderr",
     "output_type": "stream",
     "text": [
      "Sorting images:  26%|██▋       | 53313/202599 [01:25<04:02, 615.78it/s]"
     ]
    },
    {
     "name": "stdout",
     "output_type": "stream",
     "text": [
      "File not found: ./datasets/CelebA/CelebA_original/053207.jpg\n",
      "File not found: ./datasets/CelebA/CelebA_masked/053207.jpg\n",
      "File not found: ./datasets/CelebA/CelebA_pixelated/053207.jpg\n",
      "File not found: ./datasets/CelebA/CelebA_original/053216.jpg\n",
      "File not found: ./datasets/CelebA/CelebA_masked/053216.jpg\n",
      "File not found: ./datasets/CelebA/CelebA_pixelated/053216.jpg\n",
      "File not found: ./datasets/CelebA/CelebA_original/053238.jpg\n",
      "File not found: ./datasets/CelebA/CelebA_masked/053238.jpg\n",
      "File not found: ./datasets/CelebA/CelebA_pixelated/053238.jpg\n",
      "File not found: ./datasets/CelebA/CelebA_original/053309.jpg\n",
      "File not found: ./datasets/CelebA/CelebA_masked/053309.jpg\n",
      "File not found: ./datasets/CelebA/CelebA_pixelated/053309.jpg\n"
     ]
    },
    {
     "name": "stderr",
     "output_type": "stream",
     "text": [
      "Sorting images:  26%|██▋       | 53501/202599 [01:25<04:03, 613.23it/s]"
     ]
    },
    {
     "name": "stdout",
     "output_type": "stream",
     "text": [
      "File not found: ./datasets/CelebA/CelebA_original/053424.jpg\n",
      "File not found: ./datasets/CelebA/CelebA_masked/053424.jpg\n",
      "File not found: ./datasets/CelebA/CelebA_pixelated/053424.jpg\n"
     ]
    },
    {
     "name": "stderr",
     "output_type": "stream",
     "text": [
      "Sorting images:  27%|██▋       | 54255/202599 [01:27<03:56, 628.13it/s]"
     ]
    },
    {
     "name": "stdout",
     "output_type": "stream",
     "text": [
      "File not found: ./datasets/CelebA/CelebA_original/054171.jpg\n",
      "File not found: ./datasets/CelebA/CelebA_masked/054171.jpg\n",
      "File not found: ./datasets/CelebA/CelebA_pixelated/054171.jpg\n"
     ]
    },
    {
     "name": "stderr",
     "output_type": "stream",
     "text": [
      "Sorting images:  27%|██▋       | 54490/202599 [01:27<04:40, 527.35it/s]"
     ]
    },
    {
     "name": "stdout",
     "output_type": "stream",
     "text": [
      "File not found: ./datasets/CelebA/CelebA_original/054401.jpg\n",
      "File not found: ./datasets/CelebA/CelebA_masked/054401.jpg\n",
      "File not found: ./datasets/CelebA/CelebA_pixelated/054401.jpg\n",
      "File not found: ./datasets/CelebA/CelebA_original/054482.jpg\n",
      "File not found: ./datasets/CelebA/CelebA_masked/054482.jpg\n",
      "File not found: ./datasets/CelebA/CelebA_pixelated/054482.jpg\n"
     ]
    },
    {
     "name": "stderr",
     "output_type": "stream",
     "text": [
      "Sorting images:  27%|██▋       | 54730/202599 [01:27<04:15, 579.10it/s]"
     ]
    },
    {
     "name": "stdout",
     "output_type": "stream",
     "text": [
      "File not found: ./datasets/CelebA/CelebA_original/054667.jpg\n",
      "File not found: ./datasets/CelebA/CelebA_masked/054667.jpg\n",
      "File not found: ./datasets/CelebA/CelebA_pixelated/054667.jpg\n",
      "File not found: ./datasets/CelebA/CelebA_original/054695.jpg\n",
      "File not found: ./datasets/CelebA/CelebA_masked/054695.jpg\n",
      "File not found: ./datasets/CelebA/CelebA_pixelated/054695.jpg\n"
     ]
    },
    {
     "name": "stderr",
     "output_type": "stream",
     "text": [
      "Sorting images:  27%|██▋       | 55079/202599 [01:28<04:18, 571.61it/s]"
     ]
    },
    {
     "name": "stdout",
     "output_type": "stream",
     "text": [
      "File not found: ./datasets/CelebA/CelebA_original/054996.jpg\n",
      "File not found: ./datasets/CelebA/CelebA_masked/054996.jpg\n",
      "File not found: ./datasets/CelebA/CelebA_pixelated/054996.jpg\n"
     ]
    },
    {
     "name": "stderr",
     "output_type": "stream",
     "text": [
      "Sorting images:  27%|██▋       | 55430/202599 [01:29<06:06, 401.17it/s]"
     ]
    },
    {
     "name": "stdout",
     "output_type": "stream",
     "text": [
      "File not found: ./datasets/CelebA/CelebA_original/055351.jpg\n",
      "File not found: ./datasets/CelebA/CelebA_masked/055351.jpg\n",
      "File not found: ./datasets/CelebA/CelebA_pixelated/055351.jpg\n"
     ]
    },
    {
     "name": "stderr",
     "output_type": "stream",
     "text": [
      "Sorting images:  28%|██▊       | 55757/202599 [01:30<04:14, 575.89it/s]"
     ]
    },
    {
     "name": "stdout",
     "output_type": "stream",
     "text": [
      "File not found: ./datasets/CelebA/CelebA_original/055657.jpg\n",
      "File not found: ./datasets/CelebA/CelebA_masked/055657.jpg\n",
      "File not found: ./datasets/CelebA/CelebA_pixelated/055657.jpg\n",
      "File not found: ./datasets/CelebA/CelebA_original/055676.jpg\n",
      "File not found: ./datasets/CelebA/CelebA_masked/055676.jpg\n",
      "File not found: ./datasets/CelebA/CelebA_pixelated/055676.jpg\n"
     ]
    },
    {
     "name": "stderr",
     "output_type": "stream",
     "text": [
      "Sorting images:  28%|██▊       | 56569/202599 [01:31<03:58, 612.20it/s]"
     ]
    },
    {
     "name": "stdout",
     "output_type": "stream",
     "text": [
      "File not found: ./datasets/CelebA/CelebA_original/056498.jpg\n",
      "File not found: ./datasets/CelebA/CelebA_masked/056498.jpg\n",
      "File not found: ./datasets/CelebA/CelebA_pixelated/056498.jpg\n"
     ]
    },
    {
     "name": "stderr",
     "output_type": "stream",
     "text": [
      "Sorting images:  28%|██▊       | 56881/202599 [01:31<03:57, 614.25it/s]"
     ]
    },
    {
     "name": "stdout",
     "output_type": "stream",
     "text": [
      "File not found: ./datasets/CelebA/CelebA_original/056809.jpg\n",
      "File not found: ./datasets/CelebA/CelebA_masked/056809.jpg\n",
      "File not found: ./datasets/CelebA/CelebA_pixelated/056809.jpg\n"
     ]
    },
    {
     "name": "stderr",
     "output_type": "stream",
     "text": [
      "Sorting images:  28%|██▊       | 57194/202599 [01:32<04:02, 600.62it/s]"
     ]
    },
    {
     "name": "stdout",
     "output_type": "stream",
     "text": [
      "File not found: ./datasets/CelebA/CelebA_original/057118.jpg\n",
      "File not found: ./datasets/CelebA/CelebA_masked/057118.jpg\n",
      "File not found: ./datasets/CelebA/CelebA_pixelated/057118.jpg\n"
     ]
    },
    {
     "name": "stderr",
     "output_type": "stream",
     "text": [
      "Sorting images:  28%|██▊       | 57386/202599 [01:32<03:54, 619.15it/s]"
     ]
    },
    {
     "name": "stdout",
     "output_type": "stream",
     "text": [
      "File not found: ./datasets/CelebA/CelebA_original/057282.jpg\n",
      "File not found: ./datasets/CelebA/CelebA_masked/057282.jpg\n",
      "File not found: ./datasets/CelebA/CelebA_pixelated/057282.jpg\n",
      "File not found: ./datasets/CelebA/CelebA_original/057300.jpg\n",
      "File not found: ./datasets/CelebA/CelebA_masked/057300.jpg\n",
      "File not found: ./datasets/CelebA/CelebA_pixelated/057300.jpg\n",
      "File not found: ./datasets/CelebA/CelebA_original/057400.jpg\n",
      "File not found: ./datasets/CelebA/CelebA_masked/057400.jpg\n",
      "File not found: ./datasets/CelebA/CelebA_pixelated/057400.jpg\n"
     ]
    },
    {
     "name": "stderr",
     "output_type": "stream",
     "text": [
      "Sorting images:  28%|██▊       | 57512/202599 [01:32<03:54, 619.57it/s]"
     ]
    },
    {
     "name": "stdout",
     "output_type": "stream",
     "text": [
      "File not found: ./datasets/CelebA/CelebA_original/057435.jpg\n",
      "File not found: ./datasets/CelebA/CelebA_masked/057435.jpg\n",
      "File not found: ./datasets/CelebA/CelebA_pixelated/057435.jpg\n"
     ]
    },
    {
     "name": "stderr",
     "output_type": "stream",
     "text": [
      "Sorting images:  29%|██▊       | 57890/202599 [01:33<03:55, 613.90it/s]"
     ]
    },
    {
     "name": "stdout",
     "output_type": "stream",
     "text": [
      "File not found: ./datasets/CelebA/CelebA_original/057802.jpg\n",
      "File not found: ./datasets/CelebA/CelebA_masked/057802.jpg\n",
      "File not found: ./datasets/CelebA/CelebA_pixelated/057802.jpg\n"
     ]
    },
    {
     "name": "stderr",
     "output_type": "stream",
     "text": [
      "Sorting images:  29%|██▉       | 58269/202599 [01:34<03:53, 617.84it/s]"
     ]
    },
    {
     "name": "stdout",
     "output_type": "stream",
     "text": [
      "File not found: ./datasets/CelebA/CelebA_original/058175.jpg\n",
      "File not found: ./datasets/CelebA/CelebA_masked/058175.jpg\n",
      "File not found: ./datasets/CelebA/CelebA_pixelated/058175.jpg\n",
      "File not found: ./datasets/CelebA/CelebA_original/058283.jpg\n",
      "File not found: ./datasets/CelebA/CelebA_masked/058283.jpg\n",
      "File not found: ./datasets/CelebA/CelebA_pixelated/058283.jpg\n"
     ]
    },
    {
     "name": "stderr",
     "output_type": "stream",
     "text": [
      "Sorting images:  29%|██▉       | 59056/202599 [01:35<04:01, 595.21it/s]"
     ]
    },
    {
     "name": "stdout",
     "output_type": "stream",
     "text": [
      "File not found: ./datasets/CelebA/CelebA_original/058977.jpg\n",
      "File not found: ./datasets/CelebA/CelebA_masked/058977.jpg\n",
      "File not found: ./datasets/CelebA/CelebA_pixelated/058977.jpg\n"
     ]
    },
    {
     "name": "stderr",
     "output_type": "stream",
     "text": [
      "Sorting images:  29%|██▉       | 59299/202599 [01:35<04:01, 594.60it/s]"
     ]
    },
    {
     "name": "stdout",
     "output_type": "stream",
     "text": [
      "File not found: ./datasets/CelebA/CelebA_original/059228.jpg\n",
      "File not found: ./datasets/CelebA/CelebA_masked/059228.jpg\n",
      "File not found: ./datasets/CelebA/CelebA_pixelated/059228.jpg\n",
      "File not found: ./datasets/CelebA/CelebA_original/059258.jpg\n",
      "File not found: ./datasets/CelebA/CelebA_masked/059258.jpg\n",
      "File not found: ./datasets/CelebA/CelebA_pixelated/059258.jpg\n",
      "File not found: ./datasets/CelebA/CelebA_original/059310.jpg\n",
      "File not found: ./datasets/CelebA/CelebA_masked/059310.jpg\n",
      "File not found: ./datasets/CelebA/CelebA_pixelated/059310.jpg\n"
     ]
    },
    {
     "name": "stderr",
     "output_type": "stream",
     "text": [
      "Sorting images:  29%|██▉       | 59424/202599 [01:36<03:57, 603.03it/s]"
     ]
    },
    {
     "name": "stdout",
     "output_type": "stream",
     "text": [
      "File not found: ./datasets/CelebA/CelebA_original/059357.jpg\n",
      "File not found: ./datasets/CelebA/CelebA_masked/059357.jpg\n",
      "File not found: ./datasets/CelebA/CelebA_pixelated/059357.jpg\n"
     ]
    },
    {
     "name": "stderr",
     "output_type": "stream",
     "text": [
      "Sorting images:  30%|██▉       | 59788/202599 [01:36<04:05, 581.06it/s]"
     ]
    },
    {
     "name": "stdout",
     "output_type": "stream",
     "text": [
      "File not found: ./datasets/CelebA/CelebA_original/059728.jpg\n",
      "File not found: ./datasets/CelebA/CelebA_masked/059728.jpg\n",
      "File not found: ./datasets/CelebA/CelebA_pixelated/059728.jpg\n",
      "File not found: ./datasets/CelebA/CelebA_original/059844.jpg\n",
      "File not found: ./datasets/CelebA/CelebA_masked/059844.jpg\n",
      "File not found: ./datasets/CelebA/CelebA_pixelated/059844.jpg\n"
     ]
    },
    {
     "name": "stderr",
     "output_type": "stream",
     "text": [
      "Sorting images:  30%|███       | 61083/202599 [01:38<03:54, 604.22it/s]"
     ]
    },
    {
     "name": "stdout",
     "output_type": "stream",
     "text": [
      "File not found: ./datasets/CelebA/CelebA_original/061024.jpg\n",
      "File not found: ./datasets/CelebA/CelebA_masked/061024.jpg\n",
      "File not found: ./datasets/CelebA/CelebA_pixelated/061024.jpg\n"
     ]
    },
    {
     "name": "stderr",
     "output_type": "stream",
     "text": [
      "Sorting images:  30%|███       | 61326/202599 [01:39<03:56, 597.17it/s]"
     ]
    },
    {
     "name": "stdout",
     "output_type": "stream",
     "text": [
      "File not found: ./datasets/CelebA/CelebA_original/061258.jpg\n",
      "File not found: ./datasets/CelebA/CelebA_masked/061258.jpg\n",
      "File not found: ./datasets/CelebA/CelebA_pixelated/061258.jpg\n",
      "File not found: ./datasets/CelebA/CelebA_original/061323.jpg\n",
      "File not found: ./datasets/CelebA/CelebA_masked/061323.jpg\n",
      "File not found: ./datasets/CelebA/CelebA_pixelated/061323.jpg\n"
     ]
    },
    {
     "name": "stderr",
     "output_type": "stream",
     "text": [
      "Sorting images:  30%|███       | 61503/202599 [01:39<04:13, 556.95it/s]"
     ]
    },
    {
     "name": "stdout",
     "output_type": "stream",
     "text": [
      "File not found: ./datasets/CelebA/CelebA_original/061443.jpg\n",
      "File not found: ./datasets/CelebA/CelebA_masked/061443.jpg\n",
      "File not found: ./datasets/CelebA/CelebA_pixelated/061443.jpg\n",
      "File not found: ./datasets/CelebA/CelebA_original/061495.jpg\n",
      "File not found: ./datasets/CelebA/CelebA_masked/061495.jpg\n",
      "File not found: ./datasets/CelebA/CelebA_pixelated/061495.jpg\n"
     ]
    },
    {
     "name": "stderr",
     "output_type": "stream",
     "text": [
      "Sorting images:  30%|███       | 61681/202599 [01:39<04:06, 571.74it/s]"
     ]
    },
    {
     "name": "stdout",
     "output_type": "stream",
     "text": [
      "File not found: ./datasets/CelebA/CelebA_original/061568.jpg\n",
      "File not found: ./datasets/CelebA/CelebA_masked/061568.jpg\n",
      "File not found: ./datasets/CelebA/CelebA_pixelated/061568.jpg\n"
     ]
    },
    {
     "name": "stderr",
     "output_type": "stream",
     "text": [
      "Sorting images:  31%|███       | 62517/202599 [01:41<04:02, 578.72it/s]"
     ]
    },
    {
     "name": "stdout",
     "output_type": "stream",
     "text": [
      "File not found: ./datasets/CelebA/CelebA_original/062448.jpg\n",
      "File not found: ./datasets/CelebA/CelebA_masked/062448.jpg\n",
      "File not found: ./datasets/CelebA/CelebA_pixelated/062448.jpg\n",
      "File not found: ./datasets/CelebA/CelebA_original/062474.jpg\n",
      "File not found: ./datasets/CelebA/CelebA_masked/062474.jpg\n",
      "File not found: ./datasets/CelebA/CelebA_pixelated/062474.jpg\n"
     ]
    },
    {
     "name": "stderr",
     "output_type": "stream",
     "text": [
      "Sorting images:  31%|███       | 62938/202599 [01:42<03:53, 597.56it/s]"
     ]
    },
    {
     "name": "stdout",
     "output_type": "stream",
     "text": [
      "File not found: ./datasets/CelebA/CelebA_original/062818.jpg\n",
      "File not found: ./datasets/CelebA/CelebA_masked/062818.jpg\n",
      "File not found: ./datasets/CelebA/CelebA_pixelated/062818.jpg\n"
     ]
    },
    {
     "name": "stderr",
     "output_type": "stream",
     "text": [
      "Sorting images:  31%|███       | 63245/202599 [01:42<03:49, 607.70it/s]"
     ]
    },
    {
     "name": "stdout",
     "output_type": "stream",
     "text": [
      "File not found: ./datasets/CelebA/CelebA_original/063169.jpg\n",
      "File not found: ./datasets/CelebA/CelebA_masked/063169.jpg\n",
      "File not found: ./datasets/CelebA/CelebA_pixelated/063169.jpg\n"
     ]
    },
    {
     "name": "stderr",
     "output_type": "stream",
     "text": [
      "Sorting images:  31%|███▏      | 63426/202599 [01:42<03:56, 588.79it/s]"
     ]
    },
    {
     "name": "stdout",
     "output_type": "stream",
     "text": [
      "File not found: ./datasets/CelebA/CelebA_original/063357.jpg\n",
      "File not found: ./datasets/CelebA/CelebA_masked/063357.jpg\n",
      "File not found: ./datasets/CelebA/CelebA_pixelated/063357.jpg\n"
     ]
    },
    {
     "name": "stderr",
     "output_type": "stream",
     "text": [
      "Sorting images:  31%|███▏      | 63608/202599 [01:43<03:53, 596.09it/s]"
     ]
    },
    {
     "name": "stdout",
     "output_type": "stream",
     "text": [
      "File not found: ./datasets/CelebA/CelebA_original/063507.jpg\n",
      "File not found: ./datasets/CelebA/CelebA_masked/063507.jpg\n",
      "File not found: ./datasets/CelebA/CelebA_pixelated/063507.jpg\n"
     ]
    },
    {
     "name": "stderr",
     "output_type": "stream",
     "text": [
      "Sorting images:  31%|███▏      | 63731/202599 [01:43<03:52, 597.31it/s]"
     ]
    },
    {
     "name": "stdout",
     "output_type": "stream",
     "text": [
      "File not found: ./datasets/CelebA/CelebA_original/063639.jpg\n",
      "File not found: ./datasets/CelebA/CelebA_masked/063639.jpg\n",
      "File not found: ./datasets/CelebA/CelebA_pixelated/063639.jpg\n"
     ]
    },
    {
     "name": "stderr",
     "output_type": "stream",
     "text": [
      "Sorting images:  32%|███▏      | 63852/202599 [01:43<03:52, 595.54it/s]"
     ]
    },
    {
     "name": "stdout",
     "output_type": "stream",
     "text": [
      "File not found: ./datasets/CelebA/CelebA_original/063791.jpg\n",
      "File not found: ./datasets/CelebA/CelebA_masked/063791.jpg\n",
      "File not found: ./datasets/CelebA/CelebA_pixelated/063791.jpg\n"
     ]
    },
    {
     "name": "stderr",
     "output_type": "stream",
     "text": [
      "Sorting images:  32%|███▏      | 64037/202599 [01:43<03:50, 602.13it/s]"
     ]
    },
    {
     "name": "stdout",
     "output_type": "stream",
     "text": [
      "File not found: ./datasets/CelebA/CelebA_original/063925.jpg\n",
      "File not found: ./datasets/CelebA/CelebA_masked/063925.jpg\n",
      "File not found: ./datasets/CelebA/CelebA_pixelated/063925.jpg\n",
      "File not found: ./datasets/CelebA/CelebA_original/063935.jpg\n",
      "File not found: ./datasets/CelebA/CelebA_masked/063935.jpg\n",
      "File not found: ./datasets/CelebA/CelebA_pixelated/063935.jpg\n"
     ]
    },
    {
     "name": "stderr",
     "output_type": "stream",
     "text": [
      "Sorting images:  32%|███▏      | 64468/202599 [01:44<03:49, 603.10it/s]"
     ]
    },
    {
     "name": "stdout",
     "output_type": "stream",
     "text": [
      "File not found: ./datasets/CelebA/CelebA_original/064346.jpg\n",
      "File not found: ./datasets/CelebA/CelebA_masked/064346.jpg\n",
      "File not found: ./datasets/CelebA/CelebA_pixelated/064346.jpg\n"
     ]
    },
    {
     "name": "stderr",
     "output_type": "stream",
     "text": [
      "Sorting images:  32%|███▏      | 64855/202599 [01:45<03:03, 750.42it/s]"
     ]
    },
    {
     "name": "stdout",
     "output_type": "stream",
     "text": [
      "File not found: ./datasets/CelebA/CelebA_original/064720.jpg\n",
      "File not found: ./datasets/CelebA/CelebA_masked/064720.jpg\n",
      "File not found: ./datasets/CelebA/CelebA_pixelated/064720.jpg\n",
      "File not found: ./datasets/CelebA/CelebA_original/064839.jpg\n",
      "File not found: ./datasets/CelebA/CelebA_masked/064839.jpg\n",
      "File not found: ./datasets/CelebA/CelebA_pixelated/064839.jpg\n",
      "File not found: ./datasets/CelebA/CelebA_original/064842.jpg\n",
      "File not found: ./datasets/CelebA/CelebA_masked/064842.jpg\n",
      "File not found: ./datasets/CelebA/CelebA_pixelated/064842.jpg\n"
     ]
    },
    {
     "name": "stderr",
     "output_type": "stream",
     "text": [
      "Sorting images:  32%|███▏      | 65081/202599 [01:45<03:04, 743.78it/s]"
     ]
    },
    {
     "name": "stdout",
     "output_type": "stream",
     "text": [
      "File not found: ./datasets/CelebA/CelebA_original/064990.jpg\n",
      "File not found: ./datasets/CelebA/CelebA_masked/064990.jpg\n",
      "File not found: ./datasets/CelebA/CelebA_pixelated/064990.jpg\n"
     ]
    },
    {
     "name": "stderr",
     "output_type": "stream",
     "text": [
      "Sorting images:  32%|███▏      | 65444/202599 [01:45<03:20, 682.53it/s]"
     ]
    },
    {
     "name": "stdout",
     "output_type": "stream",
     "text": [
      "File not found: ./datasets/CelebA/CelebA_original/065381.jpg\n",
      "File not found: ./datasets/CelebA/CelebA_masked/065381.jpg\n",
      "File not found: ./datasets/CelebA/CelebA_pixelated/065381.jpg\n"
     ]
    },
    {
     "name": "stderr",
     "output_type": "stream",
     "text": [
      "Sorting images:  32%|███▏      | 65718/202599 [01:46<03:26, 664.33it/s]"
     ]
    },
    {
     "name": "stdout",
     "output_type": "stream",
     "text": [
      "File not found: ./datasets/CelebA/CelebA_original/065617.jpg\n",
      "File not found: ./datasets/CelebA/CelebA_masked/065617.jpg\n",
      "File not found: ./datasets/CelebA/CelebA_pixelated/065617.jpg\n"
     ]
    },
    {
     "name": "stderr",
     "output_type": "stream",
     "text": [
      "Sorting images:  33%|███▎      | 66998/202599 [01:48<03:28, 651.91it/s]"
     ]
    },
    {
     "name": "stdout",
     "output_type": "stream",
     "text": [
      "File not found: ./datasets/CelebA/CelebA_original/066891.jpg\n",
      "File not found: ./datasets/CelebA/CelebA_masked/066891.jpg\n",
      "File not found: ./datasets/CelebA/CelebA_pixelated/066891.jpg\n",
      "File not found: ./datasets/CelebA/CelebA_original/066987.jpg\n",
      "File not found: ./datasets/CelebA/CelebA_masked/066987.jpg\n",
      "File not found: ./datasets/CelebA/CelebA_pixelated/066987.jpg\n"
     ]
    },
    {
     "name": "stderr",
     "output_type": "stream",
     "text": [
      "Sorting images:  33%|███▎      | 67131/202599 [01:48<03:27, 652.12it/s]"
     ]
    },
    {
     "name": "stdout",
     "output_type": "stream",
     "text": [
      "File not found: ./datasets/CelebA/CelebA_original/067062.jpg\n",
      "File not found: ./datasets/CelebA/CelebA_masked/067062.jpg\n",
      "File not found: ./datasets/CelebA/CelebA_pixelated/067062.jpg\n",
      "File not found: ./datasets/CelebA/CelebA_original/067097.jpg\n",
      "File not found: ./datasets/CelebA/CelebA_masked/067097.jpg\n",
      "File not found: ./datasets/CelebA/CelebA_pixelated/067097.jpg\n",
      "File not found: ./datasets/CelebA/CelebA_original/067124.jpg\n",
      "File not found: ./datasets/CelebA/CelebA_masked/067124.jpg\n",
      "File not found: ./datasets/CelebA/CelebA_pixelated/067124.jpg\n",
      "File not found: ./datasets/CelebA/CelebA_original/067190.jpg\n",
      "File not found: ./datasets/CelebA/CelebA_masked/067190.jpg\n",
      "File not found: ./datasets/CelebA/CelebA_pixelated/067190.jpg\n"
     ]
    },
    {
     "name": "stderr",
     "output_type": "stream",
     "text": [
      "Sorting images:  34%|███▍      | 68529/202599 [01:50<03:23, 660.14it/s]"
     ]
    },
    {
     "name": "stdout",
     "output_type": "stream",
     "text": [
      "File not found: ./datasets/CelebA/CelebA_original/068435.jpg\n",
      "File not found: ./datasets/CelebA/CelebA_masked/068435.jpg\n",
      "File not found: ./datasets/CelebA/CelebA_pixelated/068435.jpg\n"
     ]
    },
    {
     "name": "stderr",
     "output_type": "stream",
     "text": [
      "Sorting images:  34%|███▍      | 68854/202599 [01:51<03:31, 633.51it/s]"
     ]
    },
    {
     "name": "stdout",
     "output_type": "stream",
     "text": [
      "File not found: ./datasets/CelebA/CelebA_original/068768.jpg\n",
      "File not found: ./datasets/CelebA/CelebA_masked/068768.jpg\n",
      "File not found: ./datasets/CelebA/CelebA_pixelated/068768.jpg\n"
     ]
    },
    {
     "name": "stderr",
     "output_type": "stream",
     "text": [
      "Sorting images:  34%|███▍      | 68983/202599 [01:51<03:31, 630.47it/s]"
     ]
    },
    {
     "name": "stdout",
     "output_type": "stream",
     "text": [
      "File not found: ./datasets/CelebA/CelebA_original/068920.jpg\n",
      "File not found: ./datasets/CelebA/CelebA_masked/068920.jpg\n",
      "File not found: ./datasets/CelebA/CelebA_pixelated/068920.jpg\n"
     ]
    },
    {
     "name": "stderr",
     "output_type": "stream",
     "text": [
      "Sorting images:  34%|███▍      | 69237/202599 [01:51<03:34, 622.09it/s]"
     ]
    },
    {
     "name": "stdout",
     "output_type": "stream",
     "text": [
      "File not found: ./datasets/CelebA/CelebA_original/069130.jpg\n",
      "File not found: ./datasets/CelebA/CelebA_masked/069130.jpg\n",
      "File not found: ./datasets/CelebA/CelebA_pixelated/069130.jpg\n"
     ]
    },
    {
     "name": "stderr",
     "output_type": "stream",
     "text": [
      "Sorting images:  34%|███▍      | 69604/202599 [01:52<03:50, 577.38it/s]"
     ]
    },
    {
     "name": "stdout",
     "output_type": "stream",
     "text": [
      "File not found: ./datasets/CelebA/CelebA_original/069517.jpg\n",
      "File not found: ./datasets/CelebA/CelebA_masked/069517.jpg\n",
      "File not found: ./datasets/CelebA/CelebA_pixelated/069517.jpg\n"
     ]
    },
    {
     "name": "stderr",
     "output_type": "stream",
     "text": [
      "Sorting images:  34%|███▍      | 69718/202599 [01:52<04:04, 542.65it/s]"
     ]
    },
    {
     "name": "stdout",
     "output_type": "stream",
     "text": [
      "File not found: ./datasets/CelebA/CelebA_original/069654.jpg\n",
      "File not found: ./datasets/CelebA/CelebA_masked/069654.jpg\n",
      "File not found: ./datasets/CelebA/CelebA_pixelated/069654.jpg\n"
     ]
    },
    {
     "name": "stderr",
     "output_type": "stream",
     "text": [
      "Sorting images:  35%|███▍      | 70060/202599 [01:53<03:55, 563.42it/s]"
     ]
    },
    {
     "name": "stdout",
     "output_type": "stream",
     "text": [
      "File not found: ./datasets/CelebA/CelebA_original/069956.jpg\n",
      "File not found: ./datasets/CelebA/CelebA_masked/069956.jpg\n",
      "File not found: ./datasets/CelebA/CelebA_pixelated/069956.jpg\n",
      "File not found: ./datasets/CelebA/CelebA_original/069979.jpg\n",
      "File not found: ./datasets/CelebA/CelebA_masked/069979.jpg\n",
      "File not found: ./datasets/CelebA/CelebA_pixelated/069979.jpg\n",
      "File not found: ./datasets/CelebA/CelebA_original/070035.jpg\n",
      "File not found: ./datasets/CelebA/CelebA_masked/070035.jpg\n",
      "File not found: ./datasets/CelebA/CelebA_pixelated/070035.jpg\n"
     ]
    },
    {
     "name": "stderr",
     "output_type": "stream",
     "text": [
      "Sorting images:  35%|███▌      | 70981/202599 [01:54<03:30, 625.75it/s]"
     ]
    },
    {
     "name": "stdout",
     "output_type": "stream",
     "text": [
      "File not found: ./datasets/CelebA/CelebA_original/070898.jpg\n",
      "File not found: ./datasets/CelebA/CelebA_masked/070898.jpg\n",
      "File not found: ./datasets/CelebA/CelebA_pixelated/070898.jpg\n",
      "File not found: ./datasets/CelebA/CelebA_original/070991.jpg\n",
      "File not found: ./datasets/CelebA/CelebA_masked/070991.jpg\n",
      "File not found: ./datasets/CelebA/CelebA_pixelated/070991.jpg\n"
     ]
    },
    {
     "name": "stderr",
     "output_type": "stream",
     "text": [
      "Sorting images:  35%|███▌      | 71481/202599 [01:55<03:32, 616.40it/s]"
     ]
    },
    {
     "name": "stdout",
     "output_type": "stream",
     "text": [
      "File not found: ./datasets/CelebA/CelebA_original/071414.jpg\n",
      "File not found: ./datasets/CelebA/CelebA_masked/071414.jpg\n",
      "File not found: ./datasets/CelebA/CelebA_pixelated/071414.jpg\n"
     ]
    },
    {
     "name": "stderr",
     "output_type": "stream",
     "text": [
      "Sorting images:  35%|███▌      | 71671/202599 [01:55<03:29, 623.81it/s]"
     ]
    },
    {
     "name": "stdout",
     "output_type": "stream",
     "text": [
      "File not found: ./datasets/CelebA/CelebA_original/071570.jpg\n",
      "File not found: ./datasets/CelebA/CelebA_masked/071570.jpg\n",
      "File not found: ./datasets/CelebA/CelebA_pixelated/071570.jpg\n"
     ]
    },
    {
     "name": "stderr",
     "output_type": "stream",
     "text": [
      "Sorting images:  35%|███▌      | 71858/202599 [01:56<03:34, 608.15it/s]"
     ]
    },
    {
     "name": "stdout",
     "output_type": "stream",
     "text": [
      "File not found: ./datasets/CelebA/CelebA_original/071773.jpg\n",
      "File not found: ./datasets/CelebA/CelebA_masked/071773.jpg\n",
      "File not found: ./datasets/CelebA/CelebA_pixelated/071773.jpg\n"
     ]
    },
    {
     "name": "stderr",
     "output_type": "stream",
     "text": [
      "Sorting images:  36%|███▌      | 72112/202599 [01:56<03:28, 624.64it/s]"
     ]
    },
    {
     "name": "stdout",
     "output_type": "stream",
     "text": [
      "File not found: ./datasets/CelebA/CelebA_original/072007.jpg\n",
      "File not found: ./datasets/CelebA/CelebA_masked/072007.jpg\n",
      "File not found: ./datasets/CelebA/CelebA_pixelated/072007.jpg\n"
     ]
    },
    {
     "name": "stderr",
     "output_type": "stream",
     "text": [
      "Sorting images:  36%|███▌      | 72240/202599 [01:56<03:28, 626.72it/s]"
     ]
    },
    {
     "name": "stdout",
     "output_type": "stream",
     "text": [
      "File not found: ./datasets/CelebA/CelebA_original/072153.jpg\n",
      "File not found: ./datasets/CelebA/CelebA_masked/072153.jpg\n",
      "File not found: ./datasets/CelebA/CelebA_pixelated/072153.jpg\n",
      "File not found: ./datasets/CelebA/CelebA_original/072218.jpg\n",
      "File not found: ./datasets/CelebA/CelebA_masked/072218.jpg\n",
      "File not found: ./datasets/CelebA/CelebA_pixelated/072218.jpg\n",
      "File not found: ./datasets/CelebA/CelebA_original/072252.jpg\n",
      "File not found: ./datasets/CelebA/CelebA_masked/072252.jpg\n",
      "File not found: ./datasets/CelebA/CelebA_pixelated/072252.jpg\n"
     ]
    },
    {
     "name": "stderr",
     "output_type": "stream",
     "text": [
      "Sorting images:  36%|███▌      | 72489/202599 [01:57<03:37, 597.08it/s]"
     ]
    },
    {
     "name": "stdout",
     "output_type": "stream",
     "text": [
      "File not found: ./datasets/CelebA/CelebA_original/072376.jpg\n",
      "File not found: ./datasets/CelebA/CelebA_masked/072376.jpg\n",
      "File not found: ./datasets/CelebA/CelebA_pixelated/072376.jpg\n"
     ]
    },
    {
     "name": "stderr",
     "output_type": "stream",
     "text": [
      "Sorting images:  36%|███▌      | 72856/202599 [01:57<03:33, 607.88it/s]"
     ]
    },
    {
     "name": "stdout",
     "output_type": "stream",
     "text": [
      "File not found: ./datasets/CelebA/CelebA_original/072776.jpg\n",
      "File not found: ./datasets/CelebA/CelebA_masked/072776.jpg\n",
      "File not found: ./datasets/CelebA/CelebA_pixelated/072776.jpg\n"
     ]
    },
    {
     "name": "stderr",
     "output_type": "stream",
     "text": [
      "Sorting images:  36%|███▌      | 73044/202599 [01:58<03:30, 615.50it/s]"
     ]
    },
    {
     "name": "stdout",
     "output_type": "stream",
     "text": [
      "File not found: ./datasets/CelebA/CelebA_original/072936.jpg\n",
      "File not found: ./datasets/CelebA/CelebA_masked/072936.jpg\n",
      "File not found: ./datasets/CelebA/CelebA_pixelated/072936.jpg\n"
     ]
    },
    {
     "name": "stderr",
     "output_type": "stream",
     "text": [
      "Sorting images:  37%|███▋      | 74061/202599 [01:59<04:05, 523.03it/s]"
     ]
    },
    {
     "name": "stdout",
     "output_type": "stream",
     "text": [
      "File not found: ./datasets/CelebA/CelebA_original/073966.jpg\n",
      "File not found: ./datasets/CelebA/CelebA_masked/073966.jpg\n",
      "File not found: ./datasets/CelebA/CelebA_pixelated/073966.jpg\n"
     ]
    },
    {
     "name": "stderr",
     "output_type": "stream",
     "text": [
      "Sorting images:  37%|███▋      | 74293/202599 [02:00<03:47, 563.76it/s]"
     ]
    },
    {
     "name": "stdout",
     "output_type": "stream",
     "text": [
      "File not found: ./datasets/CelebA/CelebA_original/074221.jpg\n",
      "File not found: ./datasets/CelebA/CelebA_masked/074221.jpg\n",
      "File not found: ./datasets/CelebA/CelebA_pixelated/074221.jpg\n"
     ]
    },
    {
     "name": "stderr",
     "output_type": "stream",
     "text": [
      "Sorting images:  37%|███▋      | 74531/202599 [02:00<03:40, 581.57it/s]"
     ]
    },
    {
     "name": "stdout",
     "output_type": "stream",
     "text": [
      "File not found: ./datasets/CelebA/CelebA_original/074432.jpg\n",
      "File not found: ./datasets/CelebA/CelebA_masked/074432.jpg\n",
      "File not found: ./datasets/CelebA/CelebA_pixelated/074432.jpg\n",
      "File not found: ./datasets/CelebA/CelebA_original/074441.jpg\n",
      "File not found: ./datasets/CelebA/CelebA_masked/074441.jpg\n",
      "File not found: ./datasets/CelebA/CelebA_pixelated/074441.jpg\n"
     ]
    },
    {
     "name": "stderr",
     "output_type": "stream",
     "text": [
      "Sorting images:  37%|███▋      | 74707/202599 [02:01<03:41, 576.94it/s]"
     ]
    },
    {
     "name": "stdout",
     "output_type": "stream",
     "text": [
      "File not found: ./datasets/CelebA/CelebA_original/074618.jpg\n",
      "File not found: ./datasets/CelebA/CelebA_masked/074618.jpg\n",
      "File not found: ./datasets/CelebA/CelebA_pixelated/074618.jpg\n"
     ]
    },
    {
     "name": "stderr",
     "output_type": "stream",
     "text": [
      "Sorting images:  37%|███▋      | 74943/202599 [02:01<03:41, 575.51it/s]"
     ]
    },
    {
     "name": "stdout",
     "output_type": "stream",
     "text": [
      "File not found: ./datasets/CelebA/CelebA_original/074836.jpg\n",
      "File not found: ./datasets/CelebA/CelebA_masked/074836.jpg\n",
      "File not found: ./datasets/CelebA/CelebA_pixelated/074836.jpg\n",
      "File not found: ./datasets/CelebA/CelebA_original/074844.jpg\n",
      "File not found: ./datasets/CelebA/CelebA_masked/074844.jpg\n",
      "File not found: ./datasets/CelebA/CelebA_pixelated/074844.jpg\n",
      "File not found: ./datasets/CelebA/CelebA_original/074881.jpg\n",
      "File not found: ./datasets/CelebA/CelebA_masked/074881.jpg\n",
      "File not found: ./datasets/CelebA/CelebA_pixelated/074881.jpg\n"
     ]
    },
    {
     "name": "stderr",
     "output_type": "stream",
     "text": [
      "Sorting images:  37%|███▋      | 75177/202599 [02:01<03:51, 551.31it/s]"
     ]
    },
    {
     "name": "stdout",
     "output_type": "stream",
     "text": [
      "File not found: ./datasets/CelebA/CelebA_original/075099.jpg\n",
      "File not found: ./datasets/CelebA/CelebA_masked/075099.jpg\n",
      "File not found: ./datasets/CelebA/CelebA_pixelated/075099.jpg\n"
     ]
    },
    {
     "name": "stderr",
     "output_type": "stream",
     "text": [
      "Sorting images:  37%|███▋      | 75349/202599 [02:02<03:48, 555.83it/s]"
     ]
    },
    {
     "name": "stdout",
     "output_type": "stream",
     "text": [
      "File not found: ./datasets/CelebA/CelebA_original/075273.jpg\n",
      "File not found: ./datasets/CelebA/CelebA_masked/075273.jpg\n",
      "File not found: ./datasets/CelebA/CelebA_pixelated/075273.jpg\n"
     ]
    },
    {
     "name": "stderr",
     "output_type": "stream",
     "text": [
      "Sorting images:  37%|███▋      | 75461/202599 [02:02<03:55, 540.36it/s]"
     ]
    },
    {
     "name": "stdout",
     "output_type": "stream",
     "text": [
      "File not found: ./datasets/CelebA/CelebA_original/075398.jpg\n",
      "File not found: ./datasets/CelebA/CelebA_masked/075398.jpg\n",
      "File not found: ./datasets/CelebA/CelebA_pixelated/075398.jpg\n"
     ]
    },
    {
     "name": "stderr",
     "output_type": "stream",
     "text": [
      "Sorting images:  37%|███▋      | 75964/202599 [02:03<03:47, 556.90it/s]"
     ]
    },
    {
     "name": "stdout",
     "output_type": "stream",
     "text": [
      "File not found: ./datasets/CelebA/CelebA_original/075877.jpg\n",
      "File not found: ./datasets/CelebA/CelebA_masked/075877.jpg\n",
      "File not found: ./datasets/CelebA/CelebA_pixelated/075877.jpg\n"
     ]
    },
    {
     "name": "stderr",
     "output_type": "stream",
     "text": [
      "Sorting images:  38%|███▊      | 76314/202599 [02:03<03:38, 579.11it/s]"
     ]
    },
    {
     "name": "stdout",
     "output_type": "stream",
     "text": [
      "File not found: ./datasets/CelebA/CelebA_original/076230.jpg\n",
      "File not found: ./datasets/CelebA/CelebA_masked/076230.jpg\n",
      "File not found: ./datasets/CelebA/CelebA_pixelated/076230.jpg\n",
      "File not found: ./datasets/CelebA/CelebA_original/076286.jpg\n",
      "File not found: ./datasets/CelebA/CelebA_masked/076286.jpg\n",
      "File not found: ./datasets/CelebA/CelebA_pixelated/076286.jpg\n"
     ]
    },
    {
     "name": "stderr",
     "output_type": "stream",
     "text": [
      "Sorting images:  38%|███▊      | 76895/202599 [02:05<03:53, 538.00it/s]"
     ]
    },
    {
     "name": "stdout",
     "output_type": "stream",
     "text": [
      "File not found: ./datasets/CelebA/CelebA_original/076822.jpg\n",
      "File not found: ./datasets/CelebA/CelebA_masked/076822.jpg\n",
      "File not found: ./datasets/CelebA/CelebA_pixelated/076822.jpg\n"
     ]
    },
    {
     "name": "stderr",
     "output_type": "stream",
     "text": [
      "Sorting images:  38%|███▊      | 77515/202599 [02:06<04:08, 504.35it/s]"
     ]
    },
    {
     "name": "stdout",
     "output_type": "stream",
     "text": [
      "File not found: ./datasets/CelebA/CelebA_original/077423.jpg\n",
      "File not found: ./datasets/CelebA/CelebA_masked/077423.jpg\n",
      "File not found: ./datasets/CelebA/CelebA_pixelated/077423.jpg\n",
      "File not found: ./datasets/CelebA/CelebA_original/077487.jpg\n",
      "File not found: ./datasets/CelebA/CelebA_masked/077487.jpg\n",
      "File not found: ./datasets/CelebA/CelebA_pixelated/077487.jpg\n"
     ]
    },
    {
     "name": "stderr",
     "output_type": "stream",
     "text": [
      "Sorting images:  38%|███▊      | 77912/202599 [02:06<03:50, 540.45it/s]"
     ]
    },
    {
     "name": "stdout",
     "output_type": "stream",
     "text": [
      "File not found: ./datasets/CelebA/CelebA_original/077831.jpg\n",
      "File not found: ./datasets/CelebA/CelebA_masked/077831.jpg\n",
      "File not found: ./datasets/CelebA/CelebA_pixelated/077831.jpg\n"
     ]
    },
    {
     "name": "stderr",
     "output_type": "stream",
     "text": [
      "Sorting images:  39%|███▊      | 78024/202599 [02:07<03:50, 540.28it/s]"
     ]
    },
    {
     "name": "stdout",
     "output_type": "stream",
     "text": [
      "File not found: ./datasets/CelebA/CelebA_original/077942.jpg\n",
      "File not found: ./datasets/CelebA/CelebA_masked/077942.jpg\n",
      "File not found: ./datasets/CelebA/CelebA_pixelated/077942.jpg\n",
      "File not found: ./datasets/CelebA/CelebA_original/077966.jpg\n",
      "File not found: ./datasets/CelebA/CelebA_masked/077966.jpg\n",
      "File not found: ./datasets/CelebA/CelebA_pixelated/077966.jpg\n",
      "File not found: ./datasets/CelebA/CelebA_original/078035.jpg\n",
      "File not found: ./datasets/CelebA/CelebA_masked/078035.jpg\n",
      "File not found: ./datasets/CelebA/CelebA_pixelated/078035.jpg\n"
     ]
    },
    {
     "name": "stderr",
     "output_type": "stream",
     "text": [
      "Sorting images:  39%|███▊      | 78355/202599 [02:07<03:49, 541.61it/s]"
     ]
    },
    {
     "name": "stdout",
     "output_type": "stream",
     "text": [
      "File not found: ./datasets/CelebA/CelebA_original/078260.jpg\n",
      "File not found: ./datasets/CelebA/CelebA_masked/078260.jpg\n",
      "File not found: ./datasets/CelebA/CelebA_pixelated/078260.jpg\n",
      "File not found: ./datasets/CelebA/CelebA_original/078312.jpg\n",
      "File not found: ./datasets/CelebA/CelebA_masked/078312.jpg\n",
      "File not found: ./datasets/CelebA/CelebA_pixelated/078312.jpg\n"
     ]
    },
    {
     "name": "stderr",
     "output_type": "stream",
     "text": [
      "Sorting images:  39%|███▉      | 79890/202599 [02:10<02:51, 714.39it/s]"
     ]
    },
    {
     "name": "stdout",
     "output_type": "stream",
     "text": [
      "File not found: ./datasets/CelebA/CelebA_original/079754.jpg\n",
      "File not found: ./datasets/CelebA/CelebA_masked/079754.jpg\n",
      "File not found: ./datasets/CelebA/CelebA_pixelated/079754.jpg\n",
      "File not found: ./datasets/CelebA/CelebA_original/079898.jpg\n",
      "File not found: ./datasets/CelebA/CelebA_masked/079898.jpg\n",
      "File not found: ./datasets/CelebA/CelebA_pixelated/079898.jpg\n"
     ]
    },
    {
     "name": "stderr",
     "output_type": "stream",
     "text": [
      "Sorting images:  40%|███▉      | 80181/202599 [02:10<02:50, 719.35it/s]"
     ]
    },
    {
     "name": "stdout",
     "output_type": "stream",
     "text": [
      "File not found: ./datasets/CelebA/CelebA_original/080083.jpg\n",
      "File not found: ./datasets/CelebA/CelebA_masked/080083.jpg\n",
      "File not found: ./datasets/CelebA/CelebA_pixelated/080083.jpg\n",
      "File not found: ./datasets/CelebA/CelebA_original/080225.jpg\n",
      "File not found: ./datasets/CelebA/CelebA_masked/080225.jpg\n",
      "File not found: ./datasets/CelebA/CelebA_pixelated/080225.jpg\n"
     ]
    },
    {
     "name": "stderr",
     "output_type": "stream",
     "text": [
      "Sorting images:  40%|███▉      | 80574/202599 [02:11<03:27, 587.05it/s]"
     ]
    },
    {
     "name": "stdout",
     "output_type": "stream",
     "text": [
      "File not found: ./datasets/CelebA/CelebA_original/080480.jpg\n",
      "File not found: ./datasets/CelebA/CelebA_masked/080480.jpg\n",
      "File not found: ./datasets/CelebA/CelebA_pixelated/080480.jpg\n"
     ]
    },
    {
     "name": "stderr",
     "output_type": "stream",
     "text": [
      "Sorting images:  40%|███▉      | 80704/202599 [02:11<03:17, 616.70it/s]"
     ]
    },
    {
     "name": "stdout",
     "output_type": "stream",
     "text": [
      "File not found: ./datasets/CelebA/CelebA_original/080628.jpg\n",
      "File not found: ./datasets/CelebA/CelebA_masked/080628.jpg\n",
      "File not found: ./datasets/CelebA/CelebA_pixelated/080628.jpg\n"
     ]
    },
    {
     "name": "stderr",
     "output_type": "stream",
     "text": [
      "Sorting images:  40%|███▉      | 80967/202599 [02:11<03:08, 645.17it/s]"
     ]
    },
    {
     "name": "stdout",
     "output_type": "stream",
     "text": [
      "File not found: ./datasets/CelebA/CelebA_original/080843.jpg\n",
      "File not found: ./datasets/CelebA/CelebA_masked/080843.jpg\n",
      "File not found: ./datasets/CelebA/CelebA_pixelated/080843.jpg\n"
     ]
    },
    {
     "name": "stderr",
     "output_type": "stream",
     "text": [
      "Sorting images:  41%|████      | 82226/202599 [02:13<03:02, 659.16it/s]"
     ]
    },
    {
     "name": "stdout",
     "output_type": "stream",
     "text": [
      "File not found: ./datasets/CelebA/CelebA_original/082103.jpg\n",
      "File not found: ./datasets/CelebA/CelebA_masked/082103.jpg\n",
      "File not found: ./datasets/CelebA/CelebA_pixelated/082103.jpg\n"
     ]
    },
    {
     "name": "stderr",
     "output_type": "stream",
     "text": [
      "Sorting images:  41%|████      | 82688/202599 [02:14<03:08, 637.73it/s]"
     ]
    },
    {
     "name": "stdout",
     "output_type": "stream",
     "text": [
      "File not found: ./datasets/CelebA/CelebA_original/082588.jpg\n",
      "File not found: ./datasets/CelebA/CelebA_masked/082588.jpg\n",
      "File not found: ./datasets/CelebA/CelebA_pixelated/082588.jpg\n"
     ]
    },
    {
     "name": "stderr",
     "output_type": "stream",
     "text": [
      "Sorting images:  41%|████      | 83150/202599 [02:15<03:06, 640.09it/s]"
     ]
    },
    {
     "name": "stdout",
     "output_type": "stream",
     "text": [
      "File not found: ./datasets/CelebA/CelebA_original/083047.jpg\n",
      "File not found: ./datasets/CelebA/CelebA_masked/083047.jpg\n",
      "File not found: ./datasets/CelebA/CelebA_pixelated/083047.jpg\n"
     ]
    },
    {
     "name": "stderr",
     "output_type": "stream",
     "text": [
      "Sorting images:  41%|████      | 83435/202599 [02:15<02:49, 704.69it/s]"
     ]
    },
    {
     "name": "stdout",
     "output_type": "stream",
     "text": [
      "File not found: ./datasets/CelebA/CelebA_original/083330.jpg\n",
      "File not found: ./datasets/CelebA/CelebA_masked/083330.jpg\n",
      "File not found: ./datasets/CelebA/CelebA_pixelated/083330.jpg\n"
     ]
    },
    {
     "name": "stderr",
     "output_type": "stream",
     "text": [
      "Sorting images:  41%|████▏     | 83912/202599 [02:16<02:30, 788.87it/s]"
     ]
    },
    {
     "name": "stdout",
     "output_type": "stream",
     "text": [
      "File not found: ./datasets/CelebA/CelebA_original/083776.jpg\n",
      "File not found: ./datasets/CelebA/CelebA_masked/083776.jpg\n",
      "File not found: ./datasets/CelebA/CelebA_pixelated/083776.jpg\n",
      "File not found: ./datasets/CelebA/CelebA_original/083854.jpg\n",
      "File not found: ./datasets/CelebA/CelebA_masked/083854.jpg\n",
      "File not found: ./datasets/CelebA/CelebA_pixelated/083854.jpg\n",
      "File not found: ./datasets/CelebA/CelebA_original/083934.jpg\n",
      "File not found: ./datasets/CelebA/CelebA_masked/083934.jpg\n",
      "File not found: ./datasets/CelebA/CelebA_pixelated/083934.jpg\n"
     ]
    },
    {
     "name": "stderr",
     "output_type": "stream",
     "text": [
      "Sorting images:  42%|████▏     | 84384/202599 [02:16<02:43, 722.34it/s]"
     ]
    },
    {
     "name": "stdout",
     "output_type": "stream",
     "text": [
      "File not found: ./datasets/CelebA/CelebA_original/084303.jpg\n",
      "File not found: ./datasets/CelebA/CelebA_masked/084303.jpg\n",
      "File not found: ./datasets/CelebA/CelebA_pixelated/084303.jpg\n"
     ]
    },
    {
     "name": "stderr",
     "output_type": "stream",
     "text": [
      "Sorting images:  42%|████▏     | 84532/202599 [02:17<02:46, 707.48it/s]"
     ]
    },
    {
     "name": "stdout",
     "output_type": "stream",
     "text": [
      "File not found: ./datasets/CelebA/CelebA_original/084472.jpg\n",
      "File not found: ./datasets/CelebA/CelebA_masked/084472.jpg\n",
      "File not found: ./datasets/CelebA/CelebA_pixelated/084472.jpg\n",
      "File not found: ./datasets/CelebA/CelebA_original/084576.jpg\n",
      "File not found: ./datasets/CelebA/CelebA_masked/084576.jpg\n",
      "File not found: ./datasets/CelebA/CelebA_pixelated/084576.jpg\n"
     ]
    },
    {
     "name": "stderr",
     "output_type": "stream",
     "text": [
      "Sorting images:  42%|████▏     | 84944/202599 [02:17<02:56, 665.31it/s]"
     ]
    },
    {
     "name": "stdout",
     "output_type": "stream",
     "text": [
      "File not found: ./datasets/CelebA/CelebA_original/084842.jpg\n",
      "File not found: ./datasets/CelebA/CelebA_masked/084842.jpg\n",
      "File not found: ./datasets/CelebA/CelebA_pixelated/084842.jpg\n",
      "File not found: ./datasets/CelebA/CelebA_original/084890.jpg\n",
      "File not found: ./datasets/CelebA/CelebA_masked/084890.jpg\n",
      "File not found: ./datasets/CelebA/CelebA_pixelated/084890.jpg\n",
      "File not found: ./datasets/CelebA/CelebA_original/084958.jpg\n",
      "File not found: ./datasets/CelebA/CelebA_masked/084958.jpg\n",
      "File not found: ./datasets/CelebA/CelebA_pixelated/084958.jpg\n"
     ]
    },
    {
     "name": "stderr",
     "output_type": "stream",
     "text": [
      "Sorting images:  42%|████▏     | 85149/202599 [02:17<02:58, 656.55it/s]"
     ]
    },
    {
     "name": "stdout",
     "output_type": "stream",
     "text": [
      "File not found: ./datasets/CelebA/CelebA_original/085042.jpg\n",
      "File not found: ./datasets/CelebA/CelebA_masked/085042.jpg\n",
      "File not found: ./datasets/CelebA/CelebA_pixelated/085042.jpg\n"
     ]
    },
    {
     "name": "stderr",
     "output_type": "stream",
     "text": [
      "Sorting images:  43%|████▎     | 86281/202599 [02:19<02:54, 666.97it/s]"
     ]
    },
    {
     "name": "stdout",
     "output_type": "stream",
     "text": [
      "File not found: ./datasets/CelebA/CelebA_original/086187.jpg\n",
      "File not found: ./datasets/CelebA/CelebA_masked/086187.jpg\n",
      "File not found: ./datasets/CelebA/CelebA_pixelated/086187.jpg\n",
      "File not found: ./datasets/CelebA/CelebA_original/086288.jpg\n",
      "File not found: ./datasets/CelebA/CelebA_masked/086288.jpg\n",
      "File not found: ./datasets/CelebA/CelebA_pixelated/086288.jpg\n"
     ]
    },
    {
     "name": "stderr",
     "output_type": "stream",
     "text": [
      "Sorting images:  43%|████▎     | 86681/202599 [02:20<03:00, 642.80it/s]"
     ]
    },
    {
     "name": "stdout",
     "output_type": "stream",
     "text": [
      "File not found: ./datasets/CelebA/CelebA_original/086585.jpg\n",
      "File not found: ./datasets/CelebA/CelebA_masked/086585.jpg\n",
      "File not found: ./datasets/CelebA/CelebA_pixelated/086585.jpg\n"
     ]
    },
    {
     "name": "stderr",
     "output_type": "stream",
     "text": [
      "Sorting images:  43%|████▎     | 87219/202599 [02:21<02:33, 753.43it/s]"
     ]
    },
    {
     "name": "stdout",
     "output_type": "stream",
     "text": [
      "File not found: ./datasets/CelebA/CelebA_original/087106.jpg\n",
      "File not found: ./datasets/CelebA/CelebA_masked/087106.jpg\n",
      "File not found: ./datasets/CelebA/CelebA_pixelated/087106.jpg\n"
     ]
    },
    {
     "name": "stderr",
     "output_type": "stream",
     "text": [
      "Sorting images:  43%|████▎     | 87447/202599 [02:21<02:33, 748.21it/s]"
     ]
    },
    {
     "name": "stdout",
     "output_type": "stream",
     "text": [
      "File not found: ./datasets/CelebA/CelebA_original/087379.jpg\n",
      "File not found: ./datasets/CelebA/CelebA_masked/087379.jpg\n",
      "File not found: ./datasets/CelebA/CelebA_pixelated/087379.jpg\n"
     ]
    },
    {
     "name": "stderr",
     "output_type": "stream",
     "text": [
      "Sorting images:  43%|████▎     | 87758/202599 [02:21<02:30, 765.53it/s]"
     ]
    },
    {
     "name": "stdout",
     "output_type": "stream",
     "text": [
      "File not found: ./datasets/CelebA/CelebA_original/087647.jpg\n",
      "File not found: ./datasets/CelebA/CelebA_masked/087647.jpg\n",
      "File not found: ./datasets/CelebA/CelebA_pixelated/087647.jpg\n"
     ]
    },
    {
     "name": "stderr",
     "output_type": "stream",
     "text": [
      "Sorting images:  43%|████▎     | 87918/202599 [02:21<02:26, 780.18it/s]"
     ]
    },
    {
     "name": "stdout",
     "output_type": "stream",
     "text": [
      "File not found: ./datasets/CelebA/CelebA_original/087829.jpg\n",
      "File not found: ./datasets/CelebA/CelebA_masked/087829.jpg\n",
      "File not found: ./datasets/CelebA/CelebA_pixelated/087829.jpg\n"
     ]
    },
    {
     "name": "stderr",
     "output_type": "stream",
     "text": [
      "Sorting images:  43%|████▎     | 88077/202599 [02:22<02:29, 768.17it/s]"
     ]
    },
    {
     "name": "stdout",
     "output_type": "stream",
     "text": [
      "File not found: ./datasets/CelebA/CelebA_original/087993.jpg\n",
      "File not found: ./datasets/CelebA/CelebA_masked/087993.jpg\n",
      "File not found: ./datasets/CelebA/CelebA_pixelated/087993.jpg\n",
      "File not found: ./datasets/CelebA/CelebA_original/088023.jpg\n",
      "File not found: ./datasets/CelebA/CelebA_masked/088023.jpg\n",
      "File not found: ./datasets/CelebA/CelebA_pixelated/088023.jpg\n"
     ]
    },
    {
     "name": "stderr",
     "output_type": "stream",
     "text": [
      "Sorting images:  44%|████▎     | 88422/202599 [02:22<03:30, 541.28it/s]"
     ]
    },
    {
     "name": "stdout",
     "output_type": "stream",
     "text": [
      "File not found: ./datasets/CelebA/CelebA_original/088327.jpg\n",
      "File not found: ./datasets/CelebA/CelebA_masked/088327.jpg\n",
      "File not found: ./datasets/CelebA/CelebA_pixelated/088327.jpg\n",
      "File not found: ./datasets/CelebA/CelebA_original/088397.jpg\n",
      "File not found: ./datasets/CelebA/CelebA_masked/088397.jpg\n",
      "File not found: ./datasets/CelebA/CelebA_pixelated/088397.jpg\n"
     ]
    },
    {
     "name": "stderr",
     "output_type": "stream",
     "text": [
      "Sorting images:  44%|████▎     | 88534/202599 [02:23<03:38, 522.06it/s]"
     ]
    },
    {
     "name": "stdout",
     "output_type": "stream",
     "text": [
      "File not found: ./datasets/CelebA/CelebA_original/088470.jpg\n",
      "File not found: ./datasets/CelebA/CelebA_masked/088470.jpg\n",
      "File not found: ./datasets/CelebA/CelebA_pixelated/088470.jpg\n"
     ]
    },
    {
     "name": "stderr",
     "output_type": "stream",
     "text": [
      "Sorting images:  44%|████▍     | 88765/202599 [02:23<03:23, 559.35it/s]"
     ]
    },
    {
     "name": "stdout",
     "output_type": "stream",
     "text": [
      "File not found: ./datasets/CelebA/CelebA_original/088672.jpg\n",
      "File not found: ./datasets/CelebA/CelebA_masked/088672.jpg\n",
      "File not found: ./datasets/CelebA/CelebA_pixelated/088672.jpg\n",
      "File not found: ./datasets/CelebA/CelebA_original/088688.jpg\n",
      "File not found: ./datasets/CelebA/CelebA_masked/088688.jpg\n",
      "File not found: ./datasets/CelebA/CelebA_pixelated/088688.jpg\n"
     ]
    },
    {
     "name": "stderr",
     "output_type": "stream",
     "text": [
      "Sorting images:  44%|████▍     | 89012/202599 [02:23<03:09, 600.77it/s]"
     ]
    },
    {
     "name": "stdout",
     "output_type": "stream",
     "text": [
      "File not found: ./datasets/CelebA/CelebA_original/088951.jpg\n",
      "File not found: ./datasets/CelebA/CelebA_masked/088951.jpg\n",
      "File not found: ./datasets/CelebA/CelebA_pixelated/088951.jpg\n"
     ]
    },
    {
     "name": "stderr",
     "output_type": "stream",
     "text": [
      "Sorting images:  44%|████▍     | 89195/202599 [02:24<03:08, 602.17it/s]"
     ]
    },
    {
     "name": "stdout",
     "output_type": "stream",
     "text": [
      "File not found: ./datasets/CelebA/CelebA_original/089098.jpg\n",
      "File not found: ./datasets/CelebA/CelebA_masked/089098.jpg\n",
      "File not found: ./datasets/CelebA/CelebA_pixelated/089098.jpg\n",
      "File not found: ./datasets/CelebA/CelebA_original/089149.jpg\n",
      "File not found: ./datasets/CelebA/CelebA_masked/089149.jpg\n",
      "File not found: ./datasets/CelebA/CelebA_pixelated/089149.jpg\n"
     ]
    },
    {
     "name": "stderr",
     "output_type": "stream",
     "text": [
      "Sorting images:  44%|████▍     | 89492/202599 [02:24<03:25, 549.40it/s]"
     ]
    },
    {
     "name": "stdout",
     "output_type": "stream",
     "text": [
      "File not found: ./datasets/CelebA/CelebA_original/089404.jpg\n",
      "File not found: ./datasets/CelebA/CelebA_masked/089404.jpg\n",
      "File not found: ./datasets/CelebA/CelebA_pixelated/089404.jpg\n"
     ]
    },
    {
     "name": "stderr",
     "output_type": "stream",
     "text": [
      "Sorting images:  44%|████▍     | 89834/202599 [02:25<03:24, 552.57it/s]"
     ]
    },
    {
     "name": "stdout",
     "output_type": "stream",
     "text": [
      "File not found: ./datasets/CelebA/CelebA_original/089764.jpg\n",
      "File not found: ./datasets/CelebA/CelebA_masked/089764.jpg\n",
      "File not found: ./datasets/CelebA/CelebA_pixelated/089764.jpg\n"
     ]
    },
    {
     "name": "stderr",
     "output_type": "stream",
     "text": [
      "Sorting images:  44%|████▍     | 89947/202599 [02:25<03:25, 548.36it/s]"
     ]
    },
    {
     "name": "stdout",
     "output_type": "stream",
     "text": [
      "File not found: ./datasets/CelebA/CelebA_original/089892.jpg\n",
      "File not found: ./datasets/CelebA/CelebA_masked/089892.jpg\n",
      "File not found: ./datasets/CelebA/CelebA_pixelated/089892.jpg\n",
      "File not found: ./datasets/CelebA/CelebA_original/089950.jpg\n",
      "File not found: ./datasets/CelebA/CelebA_masked/089950.jpg\n",
      "File not found: ./datasets/CelebA/CelebA_pixelated/089950.jpg\n"
     ]
    },
    {
     "name": "stderr",
     "output_type": "stream",
     "text": [
      "Sorting images:  45%|████▍     | 90445/202599 [02:26<03:29, 534.24it/s]"
     ]
    },
    {
     "name": "stdout",
     "output_type": "stream",
     "text": [
      "File not found: ./datasets/CelebA/CelebA_original/090370.jpg\n",
      "File not found: ./datasets/CelebA/CelebA_masked/090370.jpg\n",
      "File not found: ./datasets/CelebA/CelebA_pixelated/090370.jpg\n",
      "File not found: ./datasets/CelebA/CelebA_original/090385.jpg\n",
      "File not found: ./datasets/CelebA/CelebA_masked/090385.jpg\n",
      "File not found: ./datasets/CelebA/CelebA_pixelated/090385.jpg\n"
     ]
    },
    {
     "name": "stderr",
     "output_type": "stream",
     "text": [
      "Sorting images:  45%|████▍     | 90715/202599 [02:26<03:29, 532.90it/s]"
     ]
    },
    {
     "name": "stdout",
     "output_type": "stream",
     "text": [
      "File not found: ./datasets/CelebA/CelebA_original/090628.jpg\n",
      "File not found: ./datasets/CelebA/CelebA_masked/090628.jpg\n",
      "File not found: ./datasets/CelebA/CelebA_pixelated/090628.jpg\n"
     ]
    },
    {
     "name": "stderr",
     "output_type": "stream",
     "text": [
      "Sorting images:  45%|████▍     | 90989/202599 [02:27<03:29, 533.94it/s]"
     ]
    },
    {
     "name": "stdout",
     "output_type": "stream",
     "text": [
      "File not found: ./datasets/CelebA/CelebA_original/090925.jpg\n",
      "File not found: ./datasets/CelebA/CelebA_masked/090925.jpg\n",
      "File not found: ./datasets/CelebA/CelebA_pixelated/090925.jpg\n"
     ]
    },
    {
     "name": "stderr",
     "output_type": "stream",
     "text": [
      "Sorting images:  45%|████▌     | 91261/202599 [02:27<03:25, 540.53it/s]"
     ]
    },
    {
     "name": "stdout",
     "output_type": "stream",
     "text": [
      "File not found: ./datasets/CelebA/CelebA_original/091157.jpg\n",
      "File not found: ./datasets/CelebA/CelebA_masked/091157.jpg\n",
      "File not found: ./datasets/CelebA/CelebA_pixelated/091157.jpg\n"
     ]
    },
    {
     "name": "stderr",
     "output_type": "stream",
     "text": [
      "Sorting images:  45%|████▌     | 91428/202599 [02:28<03:25, 540.89it/s]"
     ]
    },
    {
     "name": "stdout",
     "output_type": "stream",
     "text": [
      "File not found: ./datasets/CelebA/CelebA_original/091363.jpg\n",
      "File not found: ./datasets/CelebA/CelebA_masked/091363.jpg\n",
      "File not found: ./datasets/CelebA/CelebA_pixelated/091363.jpg\n"
     ]
    },
    {
     "name": "stderr",
     "output_type": "stream",
     "text": [
      "Sorting images:  45%|████▌     | 91589/202599 [02:28<03:43, 496.00it/s]"
     ]
    },
    {
     "name": "stdout",
     "output_type": "stream",
     "text": [
      "File not found: ./datasets/CelebA/CelebA_original/091513.jpg\n",
      "File not found: ./datasets/CelebA/CelebA_masked/091513.jpg\n",
      "File not found: ./datasets/CelebA/CelebA_pixelated/091513.jpg\n"
     ]
    },
    {
     "name": "stderr",
     "output_type": "stream",
     "text": [
      "Sorting images:  45%|████▌     | 91965/202599 [02:29<03:29, 529.13it/s]"
     ]
    },
    {
     "name": "stdout",
     "output_type": "stream",
     "text": [
      "File not found: ./datasets/CelebA/CelebA_original/091891.jpg\n",
      "File not found: ./datasets/CelebA/CelebA_masked/091891.jpg\n",
      "File not found: ./datasets/CelebA/CelebA_pixelated/091891.jpg\n",
      "File not found: ./datasets/CelebA/CelebA_original/091967.jpg\n",
      "File not found: ./datasets/CelebA/CelebA_masked/091967.jpg\n",
      "File not found: ./datasets/CelebA/CelebA_pixelated/091967.jpg\n"
     ]
    },
    {
     "name": "stderr",
     "output_type": "stream",
     "text": [
      "Sorting images:  46%|████▌     | 92187/202599 [02:29<03:25, 537.49it/s]"
     ]
    },
    {
     "name": "stdout",
     "output_type": "stream",
     "text": [
      "File not found: ./datasets/CelebA/CelebA_original/092083.jpg\n",
      "File not found: ./datasets/CelebA/CelebA_masked/092083.jpg\n",
      "File not found: ./datasets/CelebA/CelebA_pixelated/092083.jpg\n",
      "File not found: ./datasets/CelebA/CelebA_original/092120.jpg\n",
      "File not found: ./datasets/CelebA/CelebA_masked/092120.jpg\n",
      "File not found: ./datasets/CelebA/CelebA_pixelated/092120.jpg\n"
     ]
    },
    {
     "name": "stderr",
     "output_type": "stream",
     "text": [
      "Sorting images:  46%|████▌     | 92716/202599 [02:30<03:35, 509.35it/s]"
     ]
    },
    {
     "name": "stdout",
     "output_type": "stream",
     "text": [
      "File not found: ./datasets/CelebA/CelebA_original/092651.jpg\n",
      "File not found: ./datasets/CelebA/CelebA_masked/092651.jpg\n",
      "File not found: ./datasets/CelebA/CelebA_pixelated/092651.jpg\n"
     ]
    },
    {
     "name": "stderr",
     "output_type": "stream",
     "text": [
      "Sorting images:  46%|████▌     | 93149/202599 [02:31<03:00, 606.01it/s]"
     ]
    },
    {
     "name": "stdout",
     "output_type": "stream",
     "text": [
      "File not found: ./datasets/CelebA/CelebA_original/093027.jpg\n",
      "File not found: ./datasets/CelebA/CelebA_masked/093027.jpg\n",
      "File not found: ./datasets/CelebA/CelebA_pixelated/093027.jpg\n",
      "File not found: ./datasets/CelebA/CelebA_original/093057.jpg\n",
      "File not found: ./datasets/CelebA/CelebA_masked/093057.jpg\n",
      "File not found: ./datasets/CelebA/CelebA_pixelated/093057.jpg\n"
     ]
    },
    {
     "name": "stderr",
     "output_type": "stream",
     "text": [
      "Sorting images:  46%|████▋     | 93780/202599 [02:32<02:54, 625.37it/s]"
     ]
    },
    {
     "name": "stdout",
     "output_type": "stream",
     "text": [
      "File not found: ./datasets/CelebA/CelebA_original/093707.jpg\n",
      "File not found: ./datasets/CelebA/CelebA_masked/093707.jpg\n",
      "File not found: ./datasets/CelebA/CelebA_pixelated/093707.jpg\n"
     ]
    },
    {
     "name": "stderr",
     "output_type": "stream",
     "text": [
      "Sorting images:  47%|████▋     | 94366/202599 [02:33<02:52, 626.14it/s]"
     ]
    },
    {
     "name": "stdout",
     "output_type": "stream",
     "text": [
      "File not found: ./datasets/CelebA/CelebA_original/094252.jpg\n",
      "File not found: ./datasets/CelebA/CelebA_masked/094252.jpg\n",
      "File not found: ./datasets/CelebA/CelebA_pixelated/094252.jpg\n"
     ]
    },
    {
     "name": "stderr",
     "output_type": "stream",
     "text": [
      "Sorting images:  47%|████▋     | 94627/202599 [02:33<02:47, 645.03it/s]"
     ]
    },
    {
     "name": "stdout",
     "output_type": "stream",
     "text": [
      "File not found: ./datasets/CelebA/CelebA_original/094544.jpg\n",
      "File not found: ./datasets/CelebA/CelebA_masked/094544.jpg\n",
      "File not found: ./datasets/CelebA/CelebA_pixelated/094544.jpg\n"
     ]
    },
    {
     "name": "stderr",
     "output_type": "stream",
     "text": [
      "Sorting images:  47%|████▋     | 94848/202599 [02:34<02:33, 700.50it/s]"
     ]
    },
    {
     "name": "stdout",
     "output_type": "stream",
     "text": [
      "File not found: ./datasets/CelebA/CelebA_original/094765.jpg\n",
      "File not found: ./datasets/CelebA/CelebA_masked/094765.jpg\n",
      "File not found: ./datasets/CelebA/CelebA_pixelated/094765.jpg\n",
      "File not found: ./datasets/CelebA/CelebA_original/094848.jpg\n",
      "File not found: ./datasets/CelebA/CelebA_masked/094848.jpg\n",
      "File not found: ./datasets/CelebA/CelebA_pixelated/094848.jpg\n"
     ]
    },
    {
     "name": "stderr",
     "output_type": "stream",
     "text": [
      "Sorting images:  47%|████▋     | 94996/202599 [02:34<02:29, 718.57it/s]"
     ]
    },
    {
     "name": "stdout",
     "output_type": "stream",
     "text": [
      "File not found: ./datasets/CelebA/CelebA_original/094984.jpg\n",
      "File not found: ./datasets/CelebA/CelebA_masked/094984.jpg\n",
      "File not found: ./datasets/CelebA/CelebA_pixelated/094984.jpg\n",
      "File not found: ./datasets/CelebA/CelebA_original/095065.jpg\n",
      "File not found: ./datasets/CelebA/CelebA_masked/095065.jpg\n"
     ]
    },
    {
     "name": "stderr",
     "output_type": "stream",
     "text": [
      "Sorting images:  47%|████▋     | 95129/202599 [02:34<03:22, 530.93it/s]"
     ]
    },
    {
     "name": "stdout",
     "output_type": "stream",
     "text": [
      "File not found: ./datasets/CelebA/CelebA_pixelated/095065.jpg\n"
     ]
    },
    {
     "name": "stderr",
     "output_type": "stream",
     "text": [
      "Sorting images:  47%|████▋     | 95683/202599 [02:35<02:31, 705.98it/s]"
     ]
    },
    {
     "name": "stdout",
     "output_type": "stream",
     "text": [
      "File not found: ./datasets/CelebA/CelebA_original/095575.jpg\n",
      "File not found: ./datasets/CelebA/CelebA_masked/095575.jpg\n",
      "File not found: ./datasets/CelebA/CelebA_pixelated/095575.jpg\n",
      "File not found: ./datasets/CelebA/CelebA_original/095581.jpg\n",
      "File not found: ./datasets/CelebA/CelebA_masked/095581.jpg\n",
      "File not found: ./datasets/CelebA/CelebA_pixelated/095581.jpg\n"
     ]
    },
    {
     "name": "stderr",
     "output_type": "stream",
     "text": [
      "Sorting images:  47%|████▋     | 95979/202599 [02:35<02:26, 729.13it/s]"
     ]
    },
    {
     "name": "stdout",
     "output_type": "stream",
     "text": [
      "File not found: ./datasets/CelebA/CelebA_original/095847.jpg\n",
      "File not found: ./datasets/CelebA/CelebA_masked/095847.jpg\n",
      "File not found: ./datasets/CelebA/CelebA_pixelated/095847.jpg\n"
     ]
    },
    {
     "name": "stderr",
     "output_type": "stream",
     "text": [
      "Sorting images:  48%|████▊     | 96445/202599 [02:36<02:22, 746.09it/s]"
     ]
    },
    {
     "name": "stdout",
     "output_type": "stream",
     "text": [
      "File not found: ./datasets/CelebA/CelebA_original/096300.jpg\n",
      "File not found: ./datasets/CelebA/CelebA_masked/096300.jpg\n",
      "File not found: ./datasets/CelebA/CelebA_pixelated/096300.jpg\n"
     ]
    },
    {
     "name": "stderr",
     "output_type": "stream",
     "text": [
      "Sorting images:  48%|████▊     | 96754/202599 [02:36<02:19, 761.34it/s]"
     ]
    },
    {
     "name": "stdout",
     "output_type": "stream",
     "text": [
      "File not found: ./datasets/CelebA/CelebA_original/096653.jpg\n",
      "File not found: ./datasets/CelebA/CelebA_masked/096653.jpg\n",
      "File not found: ./datasets/CelebA/CelebA_pixelated/096653.jpg\n"
     ]
    },
    {
     "name": "stderr",
     "output_type": "stream",
     "text": [
      "Sorting images:  48%|████▊     | 96912/202599 [02:37<02:16, 773.62it/s]"
     ]
    },
    {
     "name": "stdout",
     "output_type": "stream",
     "text": [
      "File not found: ./datasets/CelebA/CelebA_original/096814.jpg\n",
      "File not found: ./datasets/CelebA/CelebA_masked/096814.jpg\n",
      "File not found: ./datasets/CelebA/CelebA_pixelated/096814.jpg\n",
      "File not found: ./datasets/CelebA/CelebA_original/096845.jpg\n",
      "File not found: ./datasets/CelebA/CelebA_masked/096845.jpg\n",
      "File not found: ./datasets/CelebA/CelebA_pixelated/096845.jpg\n"
     ]
    },
    {
     "name": "stderr",
     "output_type": "stream",
     "text": [
      "Sorting images:  48%|████▊     | 97673/202599 [02:38<02:45, 632.27it/s]"
     ]
    },
    {
     "name": "stdout",
     "output_type": "stream",
     "text": [
      "File not found: ./datasets/CelebA/CelebA_original/097587.jpg\n",
      "File not found: ./datasets/CelebA/CelebA_masked/097587.jpg\n",
      "File not found: ./datasets/CelebA/CelebA_pixelated/097587.jpg\n"
     ]
    },
    {
     "name": "stderr",
     "output_type": "stream",
     "text": [
      "Sorting images:  48%|████▊     | 97930/202599 [02:38<02:45, 633.17it/s]"
     ]
    },
    {
     "name": "stdout",
     "output_type": "stream",
     "text": [
      "File not found: ./datasets/CelebA/CelebA_original/097810.jpg\n",
      "File not found: ./datasets/CelebA/CelebA_masked/097810.jpg\n",
      "File not found: ./datasets/CelebA/CelebA_pixelated/097810.jpg\n"
     ]
    },
    {
     "name": "stderr",
     "output_type": "stream",
     "text": [
      "Sorting images:  48%|████▊     | 98058/202599 [02:38<02:45, 632.63it/s]"
     ]
    },
    {
     "name": "stdout",
     "output_type": "stream",
     "text": [
      "File not found: ./datasets/CelebA/CelebA_original/097970.jpg\n",
      "File not found: ./datasets/CelebA/CelebA_masked/097970.jpg\n",
      "File not found: ./datasets/CelebA/CelebA_pixelated/097970.jpg\n"
     ]
    },
    {
     "name": "stderr",
     "output_type": "stream",
     "text": [
      "Sorting images:  49%|████▊     | 98657/202599 [02:40<03:17, 525.79it/s]"
     ]
    },
    {
     "name": "stdout",
     "output_type": "stream",
     "text": [
      "File not found: ./datasets/CelebA/CelebA_original/098599.jpg\n",
      "File not found: ./datasets/CelebA/CelebA_masked/098599.jpg\n",
      "File not found: ./datasets/CelebA/CelebA_pixelated/098599.jpg\n"
     ]
    },
    {
     "name": "stderr",
     "output_type": "stream",
     "text": [
      "Sorting images:  49%|████▉     | 98885/202599 [02:40<03:07, 553.93it/s]"
     ]
    },
    {
     "name": "stdout",
     "output_type": "stream",
     "text": [
      "File not found: ./datasets/CelebA/CelebA_original/098793.jpg\n",
      "File not found: ./datasets/CelebA/CelebA_masked/098793.jpg\n",
      "File not found: ./datasets/CelebA/CelebA_pixelated/098793.jpg\n"
     ]
    },
    {
     "name": "stderr",
     "output_type": "stream",
     "text": [
      "Sorting images:  49%|████▉     | 99637/202599 [02:41<02:53, 593.52it/s]"
     ]
    },
    {
     "name": "stdout",
     "output_type": "stream",
     "text": [
      "File not found: ./datasets/CelebA/CelebA_original/099589.jpg\n",
      "File not found: ./datasets/CelebA/CelebA_masked/099589.jpg\n",
      "File not found: ./datasets/CelebA/CelebA_pixelated/099589.jpg\n",
      "File not found: ./datasets/CelebA/CelebA_original/099606.jpg\n",
      "File not found: ./datasets/CelebA/CelebA_masked/099606.jpg\n",
      "File not found: ./datasets/CelebA/CelebA_pixelated/099606.jpg\n"
     ]
    },
    {
     "name": "stderr",
     "output_type": "stream",
     "text": [
      "Sorting images:  49%|████▉     | 99822/202599 [02:42<02:55, 585.00it/s]"
     ]
    },
    {
     "name": "stdout",
     "output_type": "stream",
     "text": [
      "File not found: ./datasets/CelebA/CelebA_original/099752.jpg\n",
      "File not found: ./datasets/CelebA/CelebA_masked/099752.jpg\n",
      "File not found: ./datasets/CelebA/CelebA_pixelated/099752.jpg\n"
     ]
    },
    {
     "name": "stderr",
     "output_type": "stream",
     "text": [
      "Sorting images:  50%|████▉     | 100324/202599 [02:42<02:43, 624.26it/s]"
     ]
    },
    {
     "name": "stdout",
     "output_type": "stream",
     "text": [
      "File not found: ./datasets/CelebA/CelebA_original/100202.jpg\n",
      "File not found: ./datasets/CelebA/CelebA_masked/100202.jpg\n",
      "File not found: ./datasets/CelebA/CelebA_pixelated/100202.jpg\n"
     ]
    },
    {
     "name": "stderr",
     "output_type": "stream",
     "text": [
      "Sorting images:  50%|████▉     | 100449/202599 [02:43<02:52, 591.27it/s]"
     ]
    },
    {
     "name": "stdout",
     "output_type": "stream",
     "text": [
      "File not found: ./datasets/CelebA/CelebA_original/100353.jpg\n",
      "File not found: ./datasets/CelebA/CelebA_masked/100353.jpg\n",
      "File not found: ./datasets/CelebA/CelebA_pixelated/100353.jpg\n",
      "File not found: ./datasets/CelebA/CelebA_original/100452.jpg\n",
      "File not found: ./datasets/CelebA/CelebA_masked/100452.jpg\n",
      "File not found: ./datasets/CelebA/CelebA_pixelated/100452.jpg\n"
     ]
    },
    {
     "name": "stderr",
     "output_type": "stream",
     "text": [
      "Sorting images:  50%|████▉     | 100681/202599 [02:43<03:03, 556.36it/s]"
     ]
    },
    {
     "name": "stdout",
     "output_type": "stream",
     "text": [
      "File not found: ./datasets/CelebA/CelebA_original/100601.jpg\n",
      "File not found: ./datasets/CelebA/CelebA_masked/100601.jpg\n",
      "File not found: ./datasets/CelebA/CelebA_pixelated/100601.jpg\n",
      "File not found: ./datasets/CelebA/CelebA_original/100629.jpg\n",
      "File not found: ./datasets/CelebA/CelebA_masked/100629.jpg\n",
      "File not found: ./datasets/CelebA/CelebA_pixelated/100629.jpg\n"
     ]
    },
    {
     "name": "stderr",
     "output_type": "stream",
     "text": [
      "Sorting images:  50%|█████     | 101552/202599 [02:45<03:02, 555.08it/s]"
     ]
    },
    {
     "name": "stdout",
     "output_type": "stream",
     "text": [
      "File not found: ./datasets/CelebA/CelebA_original/101493.jpg\n",
      "File not found: ./datasets/CelebA/CelebA_masked/101493.jpg\n",
      "File not found: ./datasets/CelebA/CelebA_pixelated/101493.jpg\n"
     ]
    },
    {
     "name": "stderr",
     "output_type": "stream",
     "text": [
      "Sorting images:  50%|█████     | 101847/202599 [02:45<02:54, 576.61it/s]"
     ]
    },
    {
     "name": "stdout",
     "output_type": "stream",
     "text": [
      "File not found: ./datasets/CelebA/CelebA_original/101787.jpg\n",
      "File not found: ./datasets/CelebA/CelebA_masked/101787.jpg\n",
      "File not found: ./datasets/CelebA/CelebA_pixelated/101787.jpg\n"
     ]
    },
    {
     "name": "stderr",
     "output_type": "stream",
     "text": [
      "Sorting images:  50%|█████     | 102144/202599 [02:46<02:51, 585.45it/s]"
     ]
    },
    {
     "name": "stdout",
     "output_type": "stream",
     "text": [
      "File not found: ./datasets/CelebA/CelebA_original/102061.jpg\n",
      "File not found: ./datasets/CelebA/CelebA_masked/102061.jpg\n",
      "File not found: ./datasets/CelebA/CelebA_pixelated/102061.jpg\n"
     ]
    },
    {
     "name": "stderr",
     "output_type": "stream",
     "text": [
      "Sorting images:  50%|█████     | 102270/202599 [02:46<02:46, 603.38it/s]"
     ]
    },
    {
     "name": "stdout",
     "output_type": "stream",
     "text": [
      "File not found: ./datasets/CelebA/CelebA_original/102190.jpg\n",
      "File not found: ./datasets/CelebA/CelebA_masked/102190.jpg\n",
      "File not found: ./datasets/CelebA/CelebA_pixelated/102190.jpg\n"
     ]
    },
    {
     "name": "stderr",
     "output_type": "stream",
     "text": [
      "Sorting images:  51%|█████     | 102764/202599 [02:47<02:56, 566.74it/s]"
     ]
    },
    {
     "name": "stdout",
     "output_type": "stream",
     "text": [
      "File not found: ./datasets/CelebA/CelebA_original/102679.jpg\n",
      "File not found: ./datasets/CelebA/CelebA_masked/102679.jpg\n",
      "File not found: ./datasets/CelebA/CelebA_pixelated/102679.jpg\n"
     ]
    },
    {
     "name": "stderr",
     "output_type": "stream",
     "text": [
      "Sorting images:  51%|█████     | 103613/202599 [02:48<02:55, 562.80it/s]"
     ]
    },
    {
     "name": "stdout",
     "output_type": "stream",
     "text": [
      "File not found: ./datasets/CelebA/CelebA_original/103503.jpg\n",
      "File not found: ./datasets/CelebA/CelebA_masked/103503.jpg\n",
      "File not found: ./datasets/CelebA/CelebA_pixelated/103503.jpg\n"
     ]
    },
    {
     "name": "stderr",
     "output_type": "stream",
     "text": [
      "Sorting images:  51%|█████▏    | 104014/202599 [02:49<02:58, 551.46it/s]"
     ]
    },
    {
     "name": "stdout",
     "output_type": "stream",
     "text": [
      "File not found: ./datasets/CelebA/CelebA_original/103934.jpg\n",
      "File not found: ./datasets/CelebA/CelebA_masked/103934.jpg\n",
      "File not found: ./datasets/CelebA/CelebA_pixelated/103934.jpg\n"
     ]
    },
    {
     "name": "stderr",
     "output_type": "stream",
     "text": [
      "Sorting images:  52%|█████▏    | 104555/202599 [02:50<03:14, 505.19it/s]"
     ]
    },
    {
     "name": "stdout",
     "output_type": "stream",
     "text": [
      "File not found: ./datasets/CelebA/CelebA_original/104473.jpg\n",
      "File not found: ./datasets/CelebA/CelebA_masked/104473.jpg\n",
      "File not found: ./datasets/CelebA/CelebA_pixelated/104473.jpg\n"
     ]
    },
    {
     "name": "stderr",
     "output_type": "stream",
     "text": [
      "Sorting images:  52%|█████▏    | 104825/202599 [02:50<03:02, 535.84it/s]"
     ]
    },
    {
     "name": "stdout",
     "output_type": "stream",
     "text": [
      "File not found: ./datasets/CelebA/CelebA_original/104722.jpg\n",
      "File not found: ./datasets/CelebA/CelebA_masked/104722.jpg\n",
      "File not found: ./datasets/CelebA/CelebA_pixelated/104722.jpg\n",
      "File not found: ./datasets/CelebA/CelebA_original/104782.jpg\n",
      "File not found: ./datasets/CelebA/CelebA_masked/104782.jpg\n",
      "File not found: ./datasets/CelebA/CelebA_pixelated/104782.jpg\n"
     ]
    },
    {
     "name": "stderr",
     "output_type": "stream",
     "text": [
      "Sorting images:  52%|█████▏    | 105392/202599 [02:52<02:54, 556.95it/s]"
     ]
    },
    {
     "name": "stdout",
     "output_type": "stream",
     "text": [
      "File not found: ./datasets/CelebA/CelebA_original/105307.jpg\n",
      "File not found: ./datasets/CelebA/CelebA_masked/105307.jpg\n",
      "File not found: ./datasets/CelebA/CelebA_pixelated/105307.jpg\n"
     ]
    },
    {
     "name": "stderr",
     "output_type": "stream",
     "text": [
      "Sorting images:  52%|█████▏    | 105567/202599 [02:52<02:52, 561.78it/s]"
     ]
    },
    {
     "name": "stdout",
     "output_type": "stream",
     "text": [
      "File not found: ./datasets/CelebA/CelebA_original/105499.jpg\n",
      "File not found: ./datasets/CelebA/CelebA_masked/105499.jpg\n",
      "File not found: ./datasets/CelebA/CelebA_pixelated/105499.jpg\n"
     ]
    },
    {
     "name": "stderr",
     "output_type": "stream",
     "text": [
      "Sorting images:  52%|█████▏    | 105906/202599 [02:52<03:04, 523.25it/s]"
     ]
    },
    {
     "name": "stdout",
     "output_type": "stream",
     "text": [
      "File not found: ./datasets/CelebA/CelebA_original/105854.jpg\n",
      "File not found: ./datasets/CelebA/CelebA_masked/105854.jpg\n",
      "File not found: ./datasets/CelebA/CelebA_pixelated/105854.jpg\n"
     ]
    },
    {
     "name": "stderr",
     "output_type": "stream",
     "text": [
      "Sorting images:  52%|█████▏    | 106076/202599 [02:53<02:55, 551.29it/s]"
     ]
    },
    {
     "name": "stdout",
     "output_type": "stream",
     "text": [
      "File not found: ./datasets/CelebA/CelebA_original/106004.jpg\n",
      "File not found: ./datasets/CelebA/CelebA_masked/106004.jpg\n",
      "File not found: ./datasets/CelebA/CelebA_pixelated/106004.jpg\n",
      "File not found: ./datasets/CelebA/CelebA_original/106089.jpg\n",
      "File not found: ./datasets/CelebA/CelebA_masked/106089.jpg\n",
      "File not found: ./datasets/CelebA/CelebA_pixelated/106089.jpg\n"
     ]
    },
    {
     "name": "stderr",
     "output_type": "stream",
     "text": [
      "Sorting images:  53%|█████▎    | 106732/202599 [02:54<02:48, 570.63it/s]"
     ]
    },
    {
     "name": "stdout",
     "output_type": "stream",
     "text": [
      "File not found: ./datasets/CelebA/CelebA_original/106665.jpg\n",
      "File not found: ./datasets/CelebA/CelebA_masked/106665.jpg\n",
      "File not found: ./datasets/CelebA/CelebA_pixelated/106665.jpg\n",
      "File not found: ./datasets/CelebA/CelebA_original/106765.jpg\n",
      "File not found: ./datasets/CelebA/CelebA_masked/106765.jpg\n",
      "File not found: ./datasets/CelebA/CelebA_pixelated/106765.jpg\n",
      "File not found: ./datasets/CelebA/CelebA_original/106783.jpg\n",
      "File not found: ./datasets/CelebA/CelebA_masked/106783.jpg\n",
      "File not found: ./datasets/CelebA/CelebA_pixelated/106783.jpg\n"
     ]
    },
    {
     "name": "stderr",
     "output_type": "stream",
     "text": [
      "Sorting images:  53%|█████▎    | 107276/202599 [02:55<02:39, 599.29it/s]"
     ]
    },
    {
     "name": "stdout",
     "output_type": "stream",
     "text": [
      "File not found: ./datasets/CelebA/CelebA_original/107188.jpg\n",
      "File not found: ./datasets/CelebA/CelebA_masked/107188.jpg\n",
      "File not found: ./datasets/CelebA/CelebA_pixelated/107188.jpg\n",
      "File not found: ./datasets/CelebA/CelebA_original/107286.jpg\n",
      "File not found: ./datasets/CelebA/CelebA_masked/107286.jpg\n",
      "File not found: ./datasets/CelebA/CelebA_pixelated/107286.jpg\n",
      "File not found: ./datasets/CelebA/CelebA_original/107297.jpg\n",
      "File not found: ./datasets/CelebA/CelebA_masked/107297.jpg\n",
      "File not found: ./datasets/CelebA/CelebA_pixelated/107297.jpg\n"
     ]
    },
    {
     "name": "stderr",
     "output_type": "stream",
     "text": [
      "Sorting images:  53%|█████▎    | 107645/202599 [02:55<02:38, 598.48it/s]"
     ]
    },
    {
     "name": "stdout",
     "output_type": "stream",
     "text": [
      "File not found: ./datasets/CelebA/CelebA_original/107528.jpg\n",
      "File not found: ./datasets/CelebA/CelebA_masked/107528.jpg\n",
      "File not found: ./datasets/CelebA/CelebA_pixelated/107528.jpg\n"
     ]
    },
    {
     "name": "stderr",
     "output_type": "stream",
     "text": [
      "Sorting images:  53%|█████▎    | 108048/202599 [02:56<02:17, 689.88it/s]"
     ]
    },
    {
     "name": "stdout",
     "output_type": "stream",
     "text": [
      "File not found: ./datasets/CelebA/CelebA_original/107935.jpg\n",
      "File not found: ./datasets/CelebA/CelebA_masked/107935.jpg\n",
      "File not found: ./datasets/CelebA/CelebA_pixelated/107935.jpg\n"
     ]
    },
    {
     "name": "stderr",
     "output_type": "stream",
     "text": [
      "Sorting images:  53%|█████▎    | 108278/202599 [02:56<02:07, 737.18it/s]"
     ]
    },
    {
     "name": "stdout",
     "output_type": "stream",
     "text": [
      "File not found: ./datasets/CelebA/CelebA_original/108148.jpg\n",
      "File not found: ./datasets/CelebA/CelebA_masked/108148.jpg\n",
      "File not found: ./datasets/CelebA/CelebA_pixelated/108148.jpg\n"
     ]
    },
    {
     "name": "stderr",
     "output_type": "stream",
     "text": [
      "Sorting images:  54%|█████▎    | 108427/202599 [02:57<02:08, 735.26it/s]"
     ]
    },
    {
     "name": "stdout",
     "output_type": "stream",
     "text": [
      "File not found: ./datasets/CelebA/CelebA_original/108320.jpg\n",
      "File not found: ./datasets/CelebA/CelebA_masked/108320.jpg\n",
      "File not found: ./datasets/CelebA/CelebA_pixelated/108320.jpg\n",
      "File not found: ./datasets/CelebA/CelebA_original/108444.jpg\n",
      "File not found: ./datasets/CelebA/CelebA_masked/108444.jpg\n",
      "File not found: ./datasets/CelebA/CelebA_pixelated/108444.jpg\n",
      "File not found: ./datasets/CelebA/CelebA_original/108461.jpg\n",
      "File not found: ./datasets/CelebA/CelebA_masked/108461.jpg\n",
      "File not found: ./datasets/CelebA/CelebA_pixelated/108461.jpg\n"
     ]
    },
    {
     "name": "stderr",
     "output_type": "stream",
     "text": [
      "Sorting images:  54%|█████▍    | 108897/202599 [02:57<02:00, 778.88it/s]"
     ]
    },
    {
     "name": "stdout",
     "output_type": "stream",
     "text": [
      "File not found: ./datasets/CelebA/CelebA_original/108741.jpg\n",
      "File not found: ./datasets/CelebA/CelebA_masked/108741.jpg\n",
      "File not found: ./datasets/CelebA/CelebA_pixelated/108741.jpg\n",
      "File not found: ./datasets/CelebA/CelebA_original/108870.jpg\n",
      "File not found: ./datasets/CelebA/CelebA_masked/108870.jpg\n",
      "File not found: ./datasets/CelebA/CelebA_pixelated/108870.jpg\n"
     ]
    },
    {
     "name": "stderr",
     "output_type": "stream",
     "text": [
      "Sorting images:  54%|█████▍    | 109518/202599 [02:58<02:24, 645.47it/s]"
     ]
    },
    {
     "name": "stdout",
     "output_type": "stream",
     "text": [
      "File not found: ./datasets/CelebA/CelebA_original/109515.jpg\n",
      "File not found: ./datasets/CelebA/CelebA_masked/109515.jpg\n",
      "File not found: ./datasets/CelebA/CelebA_pixelated/109515.jpg\n"
     ]
    },
    {
     "name": "stderr",
     "output_type": "stream",
     "text": [
      "Sorting images:  54%|█████▍    | 109704/202599 [02:58<02:50, 544.96it/s]"
     ]
    },
    {
     "name": "stdout",
     "output_type": "stream",
     "text": [
      "File not found: ./datasets/CelebA/CelebA_original/109635.jpg\n",
      "File not found: ./datasets/CelebA/CelebA_masked/109635.jpg\n",
      "File not found: ./datasets/CelebA/CelebA_pixelated/109635.jpg\n",
      "File not found: ./datasets/CelebA/CelebA_original/109740.jpg\n",
      "File not found: ./datasets/CelebA/CelebA_masked/109740.jpg\n",
      "File not found: ./datasets/CelebA/CelebA_pixelated/109740.jpg\n"
     ]
    },
    {
     "name": "stderr",
     "output_type": "stream",
     "text": [
      "Sorting images:  54%|█████▍    | 109987/202599 [02:59<02:19, 665.64it/s]"
     ]
    },
    {
     "name": "stdout",
     "output_type": "stream",
     "text": [
      "File not found: ./datasets/CelebA/CelebA_original/109894.jpg\n",
      "File not found: ./datasets/CelebA/CelebA_masked/109894.jpg\n",
      "File not found: ./datasets/CelebA/CelebA_pixelated/109894.jpg\n"
     ]
    },
    {
     "name": "stderr",
     "output_type": "stream",
     "text": [
      "Sorting images:  55%|█████▍    | 110590/202599 [03:00<02:03, 747.29it/s]"
     ]
    },
    {
     "name": "stdout",
     "output_type": "stream",
     "text": [
      "File not found: ./datasets/CelebA/CelebA_original/110500.jpg\n",
      "File not found: ./datasets/CelebA/CelebA_masked/110500.jpg\n",
      "File not found: ./datasets/CelebA/CelebA_pixelated/110500.jpg\n",
      "File not found: ./datasets/CelebA/CelebA_original/110546.jpg\n",
      "File not found: ./datasets/CelebA/CelebA_masked/110546.jpg\n",
      "File not found: ./datasets/CelebA/CelebA_pixelated/110546.jpg\n"
     ]
    },
    {
     "name": "stderr",
     "output_type": "stream",
     "text": [
      "Sorting images:  55%|█████▍    | 110892/202599 [03:00<02:06, 724.12it/s]"
     ]
    },
    {
     "name": "stdout",
     "output_type": "stream",
     "text": [
      "File not found: ./datasets/CelebA/CelebA_original/110815.jpg\n",
      "File not found: ./datasets/CelebA/CelebA_masked/110815.jpg\n",
      "File not found: ./datasets/CelebA/CelebA_pixelated/110815.jpg\n"
     ]
    },
    {
     "name": "stderr",
     "output_type": "stream",
     "text": [
      "Sorting images:  55%|█████▍    | 111186/202599 [03:01<02:20, 648.38it/s]"
     ]
    },
    {
     "name": "stdout",
     "output_type": "stream",
     "text": [
      "File not found: ./datasets/CelebA/CelebA_original/111124.jpg\n",
      "File not found: ./datasets/CelebA/CelebA_masked/111124.jpg\n",
      "File not found: ./datasets/CelebA/CelebA_pixelated/111124.jpg\n"
     ]
    },
    {
     "name": "stderr",
     "output_type": "stream",
     "text": [
      "Sorting images:  55%|█████▌    | 111979/202599 [03:02<02:00, 750.63it/s]"
     ]
    },
    {
     "name": "stdout",
     "output_type": "stream",
     "text": [
      "File not found: ./datasets/CelebA/CelebA_original/111886.jpg\n",
      "File not found: ./datasets/CelebA/CelebA_masked/111886.jpg\n",
      "File not found: ./datasets/CelebA/CelebA_pixelated/111886.jpg\n"
     ]
    },
    {
     "name": "stderr",
     "output_type": "stream",
     "text": [
      "Sorting images:  56%|█████▌    | 112744/202599 [03:03<01:59, 749.94it/s]"
     ]
    },
    {
     "name": "stdout",
     "output_type": "stream",
     "text": [
      "File not found: ./datasets/CelebA/CelebA_original/112661.jpg\n",
      "File not found: ./datasets/CelebA/CelebA_masked/112661.jpg\n",
      "File not found: ./datasets/CelebA/CelebA_pixelated/112661.jpg\n"
     ]
    },
    {
     "name": "stderr",
     "output_type": "stream",
     "text": [
      "Sorting images:  56%|█████▌    | 112898/202599 [03:03<01:59, 751.68it/s]"
     ]
    },
    {
     "name": "stdout",
     "output_type": "stream",
     "text": [
      "File not found: ./datasets/CelebA/CelebA_original/112811.jpg\n",
      "File not found: ./datasets/CelebA/CelebA_masked/112811.jpg\n",
      "File not found: ./datasets/CelebA/CelebA_pixelated/112811.jpg\n",
      "File not found: ./datasets/CelebA/CelebA_original/112947.jpg\n",
      "File not found: ./datasets/CelebA/CelebA_masked/112947.jpg\n",
      "File not found: ./datasets/CelebA/CelebA_pixelated/112947.jpg\n",
      "File not found: ./datasets/CelebA/CelebA_original/112960.jpg\n",
      "File not found: ./datasets/CelebA/CelebA_masked/112960.jpg\n",
      "File not found: ./datasets/CelebA/CelebA_pixelated/112960.jpg\n"
     ]
    },
    {
     "name": "stderr",
     "output_type": "stream",
     "text": [
      "Sorting images:  56%|█████▌    | 113211/202599 [03:03<01:57, 761.73it/s]"
     ]
    },
    {
     "name": "stdout",
     "output_type": "stream",
     "text": [
      "File not found: ./datasets/CelebA/CelebA_original/113078.jpg\n",
      "File not found: ./datasets/CelebA/CelebA_masked/113078.jpg\n",
      "File not found: ./datasets/CelebA/CelebA_pixelated/113078.jpg\n",
      "File not found: ./datasets/CelebA/CelebA_original/113132.jpg\n",
      "File not found: ./datasets/CelebA/CelebA_masked/113132.jpg\n",
      "File not found: ./datasets/CelebA/CelebA_pixelated/113132.jpg\n"
     ]
    },
    {
     "name": "stderr",
     "output_type": "stream",
     "text": [
      "Sorting images:  56%|█████▌    | 113367/202599 [03:03<01:56, 766.97it/s]"
     ]
    },
    {
     "name": "stdout",
     "output_type": "stream",
     "text": [
      "File not found: ./datasets/CelebA/CelebA_original/113243.jpg\n",
      "File not found: ./datasets/CelebA/CelebA_masked/113243.jpg\n",
      "File not found: ./datasets/CelebA/CelebA_pixelated/113243.jpg\n",
      "File not found: ./datasets/CelebA/CelebA_original/113293.jpg\n",
      "File not found: ./datasets/CelebA/CelebA_masked/113293.jpg\n",
      "File not found: ./datasets/CelebA/CelebA_pixelated/113293.jpg\n"
     ]
    },
    {
     "name": "stderr",
     "output_type": "stream",
     "text": [
      "Sorting images:  56%|█████▌    | 113754/202599 [03:04<01:55, 766.40it/s]"
     ]
    },
    {
     "name": "stdout",
     "output_type": "stream",
     "text": [
      "File not found: ./datasets/CelebA/CelebA_original/113617.jpg\n",
      "File not found: ./datasets/CelebA/CelebA_masked/113617.jpg\n",
      "File not found: ./datasets/CelebA/CelebA_pixelated/113617.jpg\n"
     ]
    },
    {
     "name": "stderr",
     "output_type": "stream",
     "text": [
      "Sorting images:  56%|█████▌    | 113911/202599 [03:04<01:54, 774.35it/s]"
     ]
    },
    {
     "name": "stdout",
     "output_type": "stream",
     "text": [
      "File not found: ./datasets/CelebA/CelebA_original/113784.jpg\n",
      "File not found: ./datasets/CelebA/CelebA_masked/113784.jpg\n",
      "File not found: ./datasets/CelebA/CelebA_pixelated/113784.jpg\n"
     ]
    },
    {
     "name": "stderr",
     "output_type": "stream",
     "text": [
      "Sorting images:  56%|█████▋    | 114064/202599 [03:04<02:03, 719.70it/s]"
     ]
    },
    {
     "name": "stdout",
     "output_type": "stream",
     "text": [
      "File not found: ./datasets/CelebA/CelebA_original/113985.jpg\n",
      "File not found: ./datasets/CelebA/CelebA_masked/113985.jpg\n",
      "File not found: ./datasets/CelebA/CelebA_pixelated/113985.jpg\n"
     ]
    },
    {
     "name": "stderr",
     "output_type": "stream",
     "text": [
      "Sorting images:  56%|█████▋    | 114212/202599 [03:05<02:02, 719.39it/s]"
     ]
    },
    {
     "name": "stdout",
     "output_type": "stream",
     "text": [
      "File not found: ./datasets/CelebA/CelebA_original/114125.jpg\n",
      "File not found: ./datasets/CelebA/CelebA_masked/114125.jpg\n",
      "File not found: ./datasets/CelebA/CelebA_pixelated/114125.jpg\n"
     ]
    },
    {
     "name": "stderr",
     "output_type": "stream",
     "text": [
      "Sorting images:  57%|█████▋    | 114754/202599 [03:05<01:59, 734.50it/s]"
     ]
    },
    {
     "name": "stdout",
     "output_type": "stream",
     "text": [
      "File not found: ./datasets/CelebA/CelebA_original/114649.jpg\n",
      "File not found: ./datasets/CelebA/CelebA_masked/114649.jpg\n",
      "File not found: ./datasets/CelebA/CelebA_pixelated/114649.jpg\n",
      "File not found: ./datasets/CelebA/CelebA_original/114704.jpg\n",
      "File not found: ./datasets/CelebA/CelebA_masked/114704.jpg\n",
      "File not found: ./datasets/CelebA/CelebA_pixelated/114704.jpg\n"
     ]
    },
    {
     "name": "stderr",
     "output_type": "stream",
     "text": [
      "Sorting images:  57%|█████▋    | 115290/202599 [03:06<01:56, 747.56it/s]"
     ]
    },
    {
     "name": "stdout",
     "output_type": "stream",
     "text": [
      "File not found: ./datasets/CelebA/CelebA_original/115206.jpg\n",
      "File not found: ./datasets/CelebA/CelebA_masked/115206.jpg\n",
      "File not found: ./datasets/CelebA/CelebA_pixelated/115206.jpg\n"
     ]
    },
    {
     "name": "stderr",
     "output_type": "stream",
     "text": [
      "Sorting images:  57%|█████▋    | 116426/202599 [03:08<01:47, 801.69it/s]"
     ]
    },
    {
     "name": "stdout",
     "output_type": "stream",
     "text": [
      "File not found: ./datasets/CelebA/CelebA_original/116334.jpg\n",
      "File not found: ./datasets/CelebA/CelebA_masked/116334.jpg\n",
      "File not found: ./datasets/CelebA/CelebA_pixelated/116334.jpg\n"
     ]
    },
    {
     "name": "stderr",
     "output_type": "stream",
     "text": [
      "Sorting images:  58%|█████▊    | 116673/202599 [03:08<01:46, 809.91it/s]"
     ]
    },
    {
     "name": "stdout",
     "output_type": "stream",
     "text": [
      "File not found: ./datasets/CelebA/CelebA_original/116567.jpg\n",
      "File not found: ./datasets/CelebA/CelebA_masked/116567.jpg\n",
      "File not found: ./datasets/CelebA/CelebA_pixelated/116567.jpg\n"
     ]
    },
    {
     "name": "stderr",
     "output_type": "stream",
     "text": [
      "Sorting images:  58%|█████▊    | 117001/202599 [03:08<01:53, 757.15it/s]"
     ]
    },
    {
     "name": "stdout",
     "output_type": "stream",
     "text": [
      "File not found: ./datasets/CelebA/CelebA_original/116919.jpg\n",
      "File not found: ./datasets/CelebA/CelebA_masked/116919.jpg\n",
      "File not found: ./datasets/CelebA/CelebA_pixelated/116919.jpg\n",
      "File not found: ./datasets/CelebA/CelebA_original/117047.jpg\n",
      "File not found: ./datasets/CelebA/CelebA_masked/117047.jpg\n",
      "File not found: ./datasets/CelebA/CelebA_pixelated/117047.jpg\n"
     ]
    },
    {
     "name": "stderr",
     "output_type": "stream",
     "text": [
      "Sorting images:  58%|█████▊    | 117246/202599 [03:09<01:47, 792.03it/s]"
     ]
    },
    {
     "name": "stdout",
     "output_type": "stream",
     "text": [
      "File not found: ./datasets/CelebA/CelebA_original/117135.jpg\n",
      "File not found: ./datasets/CelebA/CelebA_masked/117135.jpg\n",
      "File not found: ./datasets/CelebA/CelebA_pixelated/117135.jpg\n"
     ]
    },
    {
     "name": "stderr",
     "output_type": "stream",
     "text": [
      "Sorting images:  58%|█████▊    | 117486/202599 [03:09<01:49, 779.32it/s]"
     ]
    },
    {
     "name": "stdout",
     "output_type": "stream",
     "text": [
      "File not found: ./datasets/CelebA/CelebA_original/117344.jpg\n",
      "File not found: ./datasets/CelebA/CelebA_masked/117344.jpg\n",
      "File not found: ./datasets/CelebA/CelebA_pixelated/117344.jpg\n",
      "File not found: ./datasets/CelebA/CelebA_original/117418.jpg\n",
      "File not found: ./datasets/CelebA/CelebA_masked/117418.jpg\n",
      "File not found: ./datasets/CelebA/CelebA_pixelated/117418.jpg\n"
     ]
    },
    {
     "name": "stderr",
     "output_type": "stream",
     "text": [
      "Sorting images:  58%|█████▊    | 117896/202599 [03:09<01:45, 806.02it/s]"
     ]
    },
    {
     "name": "stdout",
     "output_type": "stream",
     "text": [
      "File not found: ./datasets/CelebA/CelebA_original/117755.jpg\n",
      "File not found: ./datasets/CelebA/CelebA_masked/117755.jpg\n",
      "File not found: ./datasets/CelebA/CelebA_pixelated/117755.jpg\n"
     ]
    },
    {
     "name": "stderr",
     "output_type": "stream",
     "text": [
      "Sorting images:  58%|█████▊    | 118295/202599 [03:10<01:47, 786.11it/s]"
     ]
    },
    {
     "name": "stdout",
     "output_type": "stream",
     "text": [
      "File not found: ./datasets/CelebA/CelebA_original/118186.jpg\n",
      "File not found: ./datasets/CelebA/CelebA_masked/118186.jpg\n",
      "File not found: ./datasets/CelebA/CelebA_pixelated/118186.jpg\n"
     ]
    },
    {
     "name": "stderr",
     "output_type": "stream",
     "text": [
      "Sorting images:  58%|█████▊    | 118452/202599 [03:10<01:49, 766.65it/s]"
     ]
    },
    {
     "name": "stdout",
     "output_type": "stream",
     "text": [
      "File not found: ./datasets/CelebA/CelebA_original/118355.jpg\n",
      "File not found: ./datasets/CelebA/CelebA_masked/118355.jpg\n",
      "File not found: ./datasets/CelebA/CelebA_pixelated/118355.jpg\n",
      "File not found: ./datasets/CelebA/CelebA_original/118412.jpg\n",
      "File not found: ./datasets/CelebA/CelebA_masked/118412.jpg\n",
      "File not found: ./datasets/CelebA/CelebA_pixelated/118412.jpg\n"
     ]
    },
    {
     "name": "stderr",
     "output_type": "stream",
     "text": [
      "Sorting images:  59%|█████▊    | 118748/202599 [03:11<02:06, 664.23it/s]"
     ]
    },
    {
     "name": "stdout",
     "output_type": "stream",
     "text": [
      "File not found: ./datasets/CelebA/CelebA_original/118627.jpg\n",
      "File not found: ./datasets/CelebA/CelebA_masked/118627.jpg\n",
      "File not found: ./datasets/CelebA/CelebA_pixelated/118627.jpg\n",
      "File not found: ./datasets/CelebA/CelebA_original/118690.jpg\n",
      "File not found: ./datasets/CelebA/CelebA_masked/118690.jpg\n",
      "File not found: ./datasets/CelebA/CelebA_pixelated/118690.jpg\n"
     ]
    },
    {
     "name": "stderr",
     "output_type": "stream",
     "text": [
      "Sorting images:  59%|█████▉    | 119165/202599 [03:11<02:12, 628.48it/s]"
     ]
    },
    {
     "name": "stdout",
     "output_type": "stream",
     "text": [
      "File not found: ./datasets/CelebA/CelebA_original/119071.jpg\n",
      "File not found: ./datasets/CelebA/CelebA_masked/119071.jpg\n",
      "File not found: ./datasets/CelebA/CelebA_pixelated/119071.jpg\n",
      "File not found: ./datasets/CelebA/CelebA_original/119072.jpg\n",
      "File not found: ./datasets/CelebA/CelebA_masked/119072.jpg\n",
      "File not found: ./datasets/CelebA/CelebA_pixelated/119072.jpg\n"
     ]
    },
    {
     "name": "stderr",
     "output_type": "stream",
     "text": [
      "Sorting images:  59%|█████▉    | 119465/202599 [03:12<01:57, 708.24it/s]"
     ]
    },
    {
     "name": "stdout",
     "output_type": "stream",
     "text": [
      "File not found: ./datasets/CelebA/CelebA_original/119337.jpg\n",
      "File not found: ./datasets/CelebA/CelebA_masked/119337.jpg\n",
      "File not found: ./datasets/CelebA/CelebA_pixelated/119337.jpg\n"
     ]
    },
    {
     "name": "stderr",
     "output_type": "stream",
     "text": [
      "Sorting images:  59%|█████▉    | 119962/202599 [03:12<02:08, 643.36it/s]"
     ]
    },
    {
     "name": "stdout",
     "output_type": "stream",
     "text": [
      "File not found: ./datasets/CelebA/CelebA_original/119889.jpg\n",
      "File not found: ./datasets/CelebA/CelebA_masked/119889.jpg\n",
      "File not found: ./datasets/CelebA/CelebA_pixelated/119889.jpg\n",
      "File not found: ./datasets/CelebA/CelebA_original/119980.jpg\n",
      "File not found: ./datasets/CelebA/CelebA_masked/119980.jpg\n",
      "File not found: ./datasets/CelebA/CelebA_pixelated/119980.jpg\n"
     ]
    },
    {
     "name": "stderr",
     "output_type": "stream",
     "text": [
      "Sorting images:  60%|█████▉    | 120738/202599 [03:13<01:47, 761.09it/s]"
     ]
    },
    {
     "name": "stdout",
     "output_type": "stream",
     "text": [
      "File not found: ./datasets/CelebA/CelebA_original/120627.jpg\n",
      "File not found: ./datasets/CelebA/CelebA_masked/120627.jpg\n",
      "File not found: ./datasets/CelebA/CelebA_pixelated/120627.jpg\n"
     ]
    },
    {
     "name": "stderr",
     "output_type": "stream",
     "text": [
      "Sorting images:  60%|█████▉    | 120892/202599 [03:14<01:49, 744.93it/s]"
     ]
    },
    {
     "name": "stdout",
     "output_type": "stream",
     "text": [
      "File not found: ./datasets/CelebA/CelebA_original/120789.jpg\n",
      "File not found: ./datasets/CelebA/CelebA_masked/120789.jpg\n",
      "File not found: ./datasets/CelebA/CelebA_pixelated/120789.jpg\n",
      "File not found: ./datasets/CelebA/CelebA_original/120817.jpg\n",
      "File not found: ./datasets/CelebA/CelebA_masked/120817.jpg\n",
      "File not found: ./datasets/CelebA/CelebA_pixelated/120817.jpg\n"
     ]
    },
    {
     "name": "stderr",
     "output_type": "stream",
     "text": [
      "Sorting images:  60%|█████▉    | 121126/202599 [03:14<01:47, 757.89it/s]"
     ]
    },
    {
     "name": "stdout",
     "output_type": "stream",
     "text": [
      "File not found: ./datasets/CelebA/CelebA_original/121050.jpg\n",
      "File not found: ./datasets/CelebA/CelebA_masked/121050.jpg\n",
      "File not found: ./datasets/CelebA/CelebA_pixelated/121050.jpg\n"
     ]
    },
    {
     "name": "stderr",
     "output_type": "stream",
     "text": [
      "Sorting images:  60%|██████    | 122315/202599 [03:15<01:41, 787.22it/s]"
     ]
    },
    {
     "name": "stdout",
     "output_type": "stream",
     "text": [
      "File not found: ./datasets/CelebA/CelebA_original/122167.jpg\n",
      "File not found: ./datasets/CelebA/CelebA_masked/122167.jpg\n",
      "File not found: ./datasets/CelebA/CelebA_pixelated/122167.jpg\n",
      "File not found: ./datasets/CelebA/CelebA_original/122318.jpg\n",
      "File not found: ./datasets/CelebA/CelebA_masked/122318.jpg\n",
      "File not found: ./datasets/CelebA/CelebA_pixelated/122318.jpg\n"
     ]
    },
    {
     "name": "stderr",
     "output_type": "stream",
     "text": [
      "Sorting images:  61%|██████    | 122787/202599 [03:16<01:42, 780.18it/s]"
     ]
    },
    {
     "name": "stdout",
     "output_type": "stream",
     "text": [
      "File not found: ./datasets/CelebA/CelebA_original/122656.jpg\n",
      "File not found: ./datasets/CelebA/CelebA_masked/122656.jpg\n",
      "File not found: ./datasets/CelebA/CelebA_pixelated/122656.jpg\n"
     ]
    },
    {
     "name": "stderr",
     "output_type": "stream",
     "text": [
      "Sorting images:  61%|██████    | 123101/202599 [03:16<02:00, 660.80it/s]"
     ]
    },
    {
     "name": "stdout",
     "output_type": "stream",
     "text": [
      "File not found: ./datasets/CelebA/CelebA_original/123034.jpg\n",
      "File not found: ./datasets/CelebA/CelebA_masked/123034.jpg\n",
      "File not found: ./datasets/CelebA/CelebA_pixelated/123034.jpg\n"
     ]
    },
    {
     "name": "stderr",
     "output_type": "stream",
     "text": [
      "Sorting images:  61%|██████    | 123235/202599 [03:17<02:13, 593.97it/s]"
     ]
    },
    {
     "name": "stdout",
     "output_type": "stream",
     "text": [
      "File not found: ./datasets/CelebA/CelebA_original/123208.jpg\n",
      "File not found: ./datasets/CelebA/CelebA_masked/123208.jpg\n",
      "File not found: ./datasets/CelebA/CelebA_pixelated/123208.jpg\n"
     ]
    },
    {
     "name": "stderr",
     "output_type": "stream",
     "text": [
      "Sorting images:  61%|██████    | 123575/202599 [03:17<02:02, 644.06it/s]"
     ]
    },
    {
     "name": "stdout",
     "output_type": "stream",
     "text": [
      "File not found: ./datasets/CelebA/CelebA_original/123468.jpg\n",
      "File not found: ./datasets/CelebA/CelebA_masked/123468.jpg\n",
      "File not found: ./datasets/CelebA/CelebA_pixelated/123468.jpg\n"
     ]
    },
    {
     "name": "stderr",
     "output_type": "stream",
     "text": [
      "Sorting images:  61%|██████▏   | 124094/202599 [03:18<01:45, 741.80it/s]"
     ]
    },
    {
     "name": "stdout",
     "output_type": "stream",
     "text": [
      "File not found: ./datasets/CelebA/CelebA_original/123990.jpg\n",
      "File not found: ./datasets/CelebA/CelebA_masked/123990.jpg\n",
      "File not found: ./datasets/CelebA/CelebA_pixelated/123990.jpg\n",
      "File not found: ./datasets/CelebA/CelebA_original/124037.jpg\n",
      "File not found: ./datasets/CelebA/CelebA_masked/124037.jpg\n",
      "File not found: ./datasets/CelebA/CelebA_pixelated/124037.jpg\n"
     ]
    },
    {
     "name": "stderr",
     "output_type": "stream",
     "text": [
      "Sorting images:  61%|██████▏   | 124325/202599 [03:18<01:46, 737.83it/s]"
     ]
    },
    {
     "name": "stdout",
     "output_type": "stream",
     "text": [
      "File not found: ./datasets/CelebA/CelebA_original/124247.jpg\n",
      "File not found: ./datasets/CelebA/CelebA_masked/124247.jpg\n",
      "File not found: ./datasets/CelebA/CelebA_pixelated/124247.jpg\n"
     ]
    },
    {
     "name": "stderr",
     "output_type": "stream",
     "text": [
      "Sorting images:  62%|██████▏   | 125102/202599 [03:19<01:39, 777.23it/s]"
     ]
    },
    {
     "name": "stdout",
     "output_type": "stream",
     "text": [
      "File not found: ./datasets/CelebA/CelebA_original/124951.jpg\n",
      "File not found: ./datasets/CelebA/CelebA_masked/124951.jpg\n",
      "File not found: ./datasets/CelebA/CelebA_pixelated/124951.jpg\n"
     ]
    },
    {
     "name": "stderr",
     "output_type": "stream",
     "text": [
      "Sorting images:  62%|██████▏   | 125949/202599 [03:21<01:53, 675.29it/s]"
     ]
    },
    {
     "name": "stdout",
     "output_type": "stream",
     "text": [
      "File not found: ./datasets/CelebA/CelebA_original/125880.jpg\n",
      "File not found: ./datasets/CelebA/CelebA_masked/125880.jpg\n",
      "File not found: ./datasets/CelebA/CelebA_pixelated/125880.jpg\n"
     ]
    },
    {
     "name": "stderr",
     "output_type": "stream",
     "text": [
      "Sorting images:  63%|██████▎   | 126651/202599 [03:22<01:46, 714.88it/s]"
     ]
    },
    {
     "name": "stdout",
     "output_type": "stream",
     "text": [
      "File not found: ./datasets/CelebA/CelebA_original/126560.jpg\n",
      "File not found: ./datasets/CelebA/CelebA_masked/126560.jpg\n",
      "File not found: ./datasets/CelebA/CelebA_pixelated/126560.jpg\n",
      "File not found: ./datasets/CelebA/CelebA_original/126649.jpg\n",
      "File not found: ./datasets/CelebA/CelebA_masked/126649.jpg\n",
      "File not found: ./datasets/CelebA/CelebA_pixelated/126649.jpg\n",
      "File not found: ./datasets/CelebA/CelebA_original/126707.jpg\n",
      "File not found: ./datasets/CelebA/CelebA_masked/126707.jpg\n",
      "File not found: ./datasets/CelebA/CelebA_pixelated/126707.jpg\n"
     ]
    },
    {
     "name": "stderr",
     "output_type": "stream",
     "text": [
      "Sorting images:  63%|██████▎   | 127045/202599 [03:22<01:37, 774.25it/s]"
     ]
    },
    {
     "name": "stdout",
     "output_type": "stream",
     "text": [
      "File not found: ./datasets/CelebA/CelebA_original/126943.jpg\n",
      "File not found: ./datasets/CelebA/CelebA_masked/126943.jpg\n",
      "File not found: ./datasets/CelebA/CelebA_pixelated/126943.jpg\n"
     ]
    },
    {
     "name": "stderr",
     "output_type": "stream",
     "text": [
      "Sorting images:  63%|██████▎   | 127891/202599 [03:23<01:43, 723.25it/s]"
     ]
    },
    {
     "name": "stdout",
     "output_type": "stream",
     "text": [
      "File not found: ./datasets/CelebA/CelebA_original/127745.jpg\n",
      "File not found: ./datasets/CelebA/CelebA_masked/127745.jpg\n",
      "File not found: ./datasets/CelebA/CelebA_pixelated/127745.jpg\n"
     ]
    },
    {
     "name": "stderr",
     "output_type": "stream",
     "text": [
      "Sorting images:  63%|██████▎   | 128190/202599 [03:24<01:40, 741.71it/s]"
     ]
    },
    {
     "name": "stdout",
     "output_type": "stream",
     "text": [
      "File not found: ./datasets/CelebA/CelebA_original/128057.jpg\n",
      "File not found: ./datasets/CelebA/CelebA_masked/128057.jpg\n",
      "File not found: ./datasets/CelebA/CelebA_pixelated/128057.jpg\n",
      "File not found: ./datasets/CelebA/CelebA_original/128064.jpg\n",
      "File not found: ./datasets/CelebA/CelebA_masked/128064.jpg\n",
      "File not found: ./datasets/CelebA/CelebA_pixelated/128064.jpg\n",
      "File not found: ./datasets/CelebA/CelebA_original/128187.jpg\n",
      "File not found: ./datasets/CelebA/CelebA_masked/128187.jpg\n",
      "File not found: ./datasets/CelebA/CelebA_pixelated/128187.jpg\n"
     ]
    },
    {
     "name": "stderr",
     "output_type": "stream",
     "text": [
      "Sorting images:  63%|██████▎   | 128585/202599 [03:24<01:37, 760.37it/s]"
     ]
    },
    {
     "name": "stdout",
     "output_type": "stream",
     "text": [
      "File not found: ./datasets/CelebA/CelebA_original/128463.jpg\n",
      "File not found: ./datasets/CelebA/CelebA_masked/128463.jpg\n",
      "File not found: ./datasets/CelebA/CelebA_pixelated/128463.jpg\n"
     ]
    },
    {
     "name": "stderr",
     "output_type": "stream",
     "text": [
      "Sorting images:  64%|██████▎   | 129029/202599 [03:25<01:44, 705.74it/s]"
     ]
    },
    {
     "name": "stdout",
     "output_type": "stream",
     "text": [
      "File not found: ./datasets/CelebA/CelebA_original/128906.jpg\n",
      "File not found: ./datasets/CelebA/CelebA_masked/128906.jpg\n",
      "File not found: ./datasets/CelebA/CelebA_pixelated/128906.jpg\n"
     ]
    },
    {
     "name": "stderr",
     "output_type": "stream",
     "text": [
      "Sorting images:  64%|██████▍   | 129253/202599 [03:25<01:41, 719.78it/s]"
     ]
    },
    {
     "name": "stdout",
     "output_type": "stream",
     "text": [
      "File not found: ./datasets/CelebA/CelebA_original/129125.jpg\n",
      "File not found: ./datasets/CelebA/CelebA_masked/129125.jpg\n",
      "File not found: ./datasets/CelebA/CelebA_pixelated/129125.jpg\n"
     ]
    },
    {
     "name": "stderr",
     "output_type": "stream",
     "text": [
      "Sorting images:  64%|██████▍   | 129695/202599 [03:26<01:39, 729.96it/s]"
     ]
    },
    {
     "name": "stdout",
     "output_type": "stream",
     "text": [
      "File not found: ./datasets/CelebA/CelebA_original/129614.jpg\n",
      "File not found: ./datasets/CelebA/CelebA_masked/129614.jpg\n",
      "File not found: ./datasets/CelebA/CelebA_pixelated/129614.jpg\n",
      "File not found: ./datasets/CelebA/CelebA_original/129704.jpg\n",
      "File not found: ./datasets/CelebA/CelebA_masked/129704.jpg\n",
      "File not found: ./datasets/CelebA/CelebA_pixelated/129704.jpg\n"
     ]
    },
    {
     "name": "stderr",
     "output_type": "stream",
     "text": [
      "Sorting images:  64%|██████▍   | 130298/202599 [03:27<01:40, 718.61it/s]"
     ]
    },
    {
     "name": "stdout",
     "output_type": "stream",
     "text": [
      "File not found: ./datasets/CelebA/CelebA_original/130186.jpg\n",
      "File not found: ./datasets/CelebA/CelebA_masked/130186.jpg\n",
      "File not found: ./datasets/CelebA/CelebA_pixelated/130186.jpg\n"
     ]
    },
    {
     "name": "stderr",
     "output_type": "stream",
     "text": [
      "Sorting images:  64%|██████▍   | 130440/202599 [03:27<01:51, 648.13it/s]"
     ]
    },
    {
     "name": "stdout",
     "output_type": "stream",
     "text": [
      "File not found: ./datasets/CelebA/CelebA_original/130334.jpg\n",
      "File not found: ./datasets/CelebA/CelebA_masked/130334.jpg\n",
      "File not found: ./datasets/CelebA/CelebA_pixelated/130334.jpg\n"
     ]
    },
    {
     "name": "stderr",
     "output_type": "stream",
     "text": [
      "Sorting images:  64%|██████▍   | 130561/202599 [03:27<02:27, 487.16it/s]"
     ]
    },
    {
     "name": "stdout",
     "output_type": "stream",
     "text": [
      "File not found: ./datasets/CelebA/CelebA_original/130501.jpg\n",
      "File not found: ./datasets/CelebA/CelebA_masked/130501.jpg\n",
      "File not found: ./datasets/CelebA/CelebA_pixelated/130501.jpg\n"
     ]
    },
    {
     "name": "stderr",
     "output_type": "stream",
     "text": [
      "Sorting images:  65%|██████▍   | 130975/202599 [03:28<02:03, 581.57it/s]"
     ]
    },
    {
     "name": "stdout",
     "output_type": "stream",
     "text": [
      "File not found: ./datasets/CelebA/CelebA_original/130863.jpg\n",
      "File not found: ./datasets/CelebA/CelebA_masked/130863.jpg\n",
      "File not found: ./datasets/CelebA/CelebA_pixelated/130863.jpg\n"
     ]
    },
    {
     "name": "stderr",
     "output_type": "stream",
     "text": [
      "Sorting images:  65%|██████▍   | 131093/202599 [03:28<02:03, 577.15it/s]"
     ]
    },
    {
     "name": "stdout",
     "output_type": "stream",
     "text": [
      "File not found: ./datasets/CelebA/CelebA_original/131006.jpg\n",
      "File not found: ./datasets/CelebA/CelebA_masked/131006.jpg\n",
      "File not found: ./datasets/CelebA/CelebA_pixelated/131006.jpg\n",
      "File not found: ./datasets/CelebA/CelebA_original/131065.jpg\n",
      "File not found: ./datasets/CelebA/CelebA_masked/131065.jpg\n",
      "File not found: ./datasets/CelebA/CelebA_pixelated/131065.jpg\n"
     ]
    },
    {
     "name": "stderr",
     "output_type": "stream",
     "text": [
      "Sorting images:  65%|██████▌   | 131872/202599 [03:29<01:57, 603.09it/s]"
     ]
    },
    {
     "name": "stdout",
     "output_type": "stream",
     "text": [
      "File not found: ./datasets/CelebA/CelebA_original/131810.jpg\n",
      "File not found: ./datasets/CelebA/CelebA_masked/131810.jpg\n",
      "File not found: ./datasets/CelebA/CelebA_pixelated/131810.jpg\n",
      "File not found: ./datasets/CelebA/CelebA_original/131899.jpg\n",
      "File not found: ./datasets/CelebA/CelebA_masked/131899.jpg\n",
      "File not found: ./datasets/CelebA/CelebA_pixelated/131899.jpg\n"
     ]
    },
    {
     "name": "stderr",
     "output_type": "stream",
     "text": [
      "Sorting images:  65%|██████▌   | 132693/202599 [03:31<02:07, 547.93it/s]"
     ]
    },
    {
     "name": "stdout",
     "output_type": "stream",
     "text": [
      "File not found: ./datasets/CelebA/CelebA_original/132615.jpg\n",
      "File not found: ./datasets/CelebA/CelebA_masked/132615.jpg\n",
      "File not found: ./datasets/CelebA/CelebA_pixelated/132615.jpg\n"
     ]
    },
    {
     "name": "stderr",
     "output_type": "stream",
     "text": [
      "Sorting images:  66%|██████▌   | 132982/202599 [03:31<02:04, 557.49it/s]"
     ]
    },
    {
     "name": "stdout",
     "output_type": "stream",
     "text": [
      "File not found: ./datasets/CelebA/CelebA_original/132906.jpg\n",
      "File not found: ./datasets/CelebA/CelebA_masked/132906.jpg\n",
      "File not found: ./datasets/CelebA/CelebA_pixelated/132906.jpg\n"
     ]
    },
    {
     "name": "stderr",
     "output_type": "stream",
     "text": [
      "Sorting images:  66%|██████▌   | 133273/202599 [03:32<02:02, 567.35it/s]"
     ]
    },
    {
     "name": "stdout",
     "output_type": "stream",
     "text": [
      "File not found: ./datasets/CelebA/CelebA_original/133195.jpg\n",
      "File not found: ./datasets/CelebA/CelebA_masked/133195.jpg\n",
      "File not found: ./datasets/CelebA/CelebA_pixelated/133195.jpg\n",
      "File not found: ./datasets/CelebA/CelebA_original/133222.jpg\n",
      "File not found: ./datasets/CelebA/CelebA_masked/133222.jpg\n",
      "File not found: ./datasets/CelebA/CelebA_pixelated/133222.jpg\n"
     ]
    },
    {
     "name": "stderr",
     "output_type": "stream",
     "text": [
      "Sorting images:  66%|██████▌   | 133574/202599 [03:32<01:58, 582.68it/s]"
     ]
    },
    {
     "name": "stdout",
     "output_type": "stream",
     "text": [
      "File not found: ./datasets/CelebA/CelebA_original/133476.jpg\n",
      "File not found: ./datasets/CelebA/CelebA_masked/133476.jpg\n",
      "File not found: ./datasets/CelebA/CelebA_pixelated/133476.jpg\n",
      "File not found: ./datasets/CelebA/CelebA_original/133484.jpg\n",
      "File not found: ./datasets/CelebA/CelebA_masked/133484.jpg\n",
      "File not found: ./datasets/CelebA/CelebA_pixelated/133484.jpg\n",
      "File not found: ./datasets/CelebA/CelebA_original/133587.jpg\n",
      "File not found: ./datasets/CelebA/CelebA_masked/133587.jpg\n",
      "File not found: ./datasets/CelebA/CelebA_pixelated/133587.jpg\n"
     ]
    },
    {
     "name": "stderr",
     "output_type": "stream",
     "text": [
      "Sorting images:  66%|██████▌   | 134177/202599 [03:33<01:52, 606.89it/s]"
     ]
    },
    {
     "name": "stdout",
     "output_type": "stream",
     "text": [
      "File not found: ./datasets/CelebA/CelebA_original/134065.jpg\n",
      "File not found: ./datasets/CelebA/CelebA_masked/134065.jpg\n",
      "File not found: ./datasets/CelebA/CelebA_pixelated/134065.jpg\n"
     ]
    },
    {
     "name": "stderr",
     "output_type": "stream",
     "text": [
      "Sorting images:  67%|██████▋   | 134780/202599 [03:34<01:59, 567.73it/s]"
     ]
    },
    {
     "name": "stdout",
     "output_type": "stream",
     "text": [
      "File not found: ./datasets/CelebA/CelebA_original/134684.jpg\n",
      "File not found: ./datasets/CelebA/CelebA_masked/134684.jpg\n",
      "File not found: ./datasets/CelebA/CelebA_pixelated/134684.jpg\n"
     ]
    },
    {
     "name": "stderr",
     "output_type": "stream",
     "text": [
      "Sorting images:  67%|██████▋   | 135077/202599 [03:35<01:54, 589.39it/s]"
     ]
    },
    {
     "name": "stdout",
     "output_type": "stream",
     "text": [
      "File not found: ./datasets/CelebA/CelebA_original/134999.jpg\n",
      "File not found: ./datasets/CelebA/CelebA_masked/134999.jpg\n",
      "File not found: ./datasets/CelebA/CelebA_pixelated/134999.jpg\n",
      "File not found: ./datasets/CelebA/CelebA_original/135099.jpg\n",
      "File not found: ./datasets/CelebA/CelebA_masked/135099.jpg\n",
      "File not found: ./datasets/CelebA/CelebA_pixelated/135099.jpg\n"
     ]
    },
    {
     "name": "stderr",
     "output_type": "stream",
     "text": [
      "Sorting images:  67%|██████▋   | 136334/202599 [03:37<01:38, 671.17it/s]"
     ]
    },
    {
     "name": "stdout",
     "output_type": "stream",
     "text": [
      "File not found: ./datasets/CelebA/CelebA_original/136198.jpg\n",
      "File not found: ./datasets/CelebA/CelebA_masked/136198.jpg\n",
      "File not found: ./datasets/CelebA/CelebA_pixelated/136198.jpg\n",
      "File not found: ./datasets/CelebA/CelebA_original/136280.jpg\n",
      "File not found: ./datasets/CelebA/CelebA_masked/136280.jpg\n",
      "File not found: ./datasets/CelebA/CelebA_pixelated/136280.jpg\n"
     ]
    },
    {
     "name": "stderr",
     "output_type": "stream",
     "text": [
      "Sorting images:  67%|██████▋   | 136746/202599 [03:38<01:42, 639.99it/s]"
     ]
    },
    {
     "name": "stdout",
     "output_type": "stream",
     "text": [
      "File not found: ./datasets/CelebA/CelebA_original/136624.jpg\n",
      "File not found: ./datasets/CelebA/CelebA_masked/136624.jpg\n",
      "File not found: ./datasets/CelebA/CelebA_pixelated/136624.jpg\n"
     ]
    },
    {
     "name": "stderr",
     "output_type": "stream",
     "text": [
      "Sorting images:  68%|██████▊   | 136875/202599 [03:38<01:45, 621.20it/s]"
     ]
    },
    {
     "name": "stdout",
     "output_type": "stream",
     "text": [
      "File not found: ./datasets/CelebA/CelebA_original/136774.jpg\n",
      "File not found: ./datasets/CelebA/CelebA_masked/136774.jpg\n",
      "File not found: ./datasets/CelebA/CelebA_pixelated/136774.jpg\n",
      "File not found: ./datasets/CelebA/CelebA_original/136815.jpg\n",
      "File not found: ./datasets/CelebA/CelebA_masked/136815.jpg\n",
      "File not found: ./datasets/CelebA/CelebA_pixelated/136815.jpg\n"
     ]
    },
    {
     "name": "stderr",
     "output_type": "stream",
     "text": [
      "Sorting images:  68%|██████▊   | 137065/202599 [03:38<01:46, 616.36it/s]"
     ]
    },
    {
     "name": "stdout",
     "output_type": "stream",
     "text": [
      "File not found: ./datasets/CelebA/CelebA_original/136982.jpg\n",
      "File not found: ./datasets/CelebA/CelebA_masked/136982.jpg\n",
      "File not found: ./datasets/CelebA/CelebA_pixelated/136982.jpg\n",
      "File not found: ./datasets/CelebA/CelebA_original/137044.jpg\n",
      "File not found: ./datasets/CelebA/CelebA_masked/137044.jpg\n",
      "File not found: ./datasets/CelebA/CelebA_pixelated/137044.jpg\n"
     ]
    },
    {
     "name": "stderr",
     "output_type": "stream",
     "text": [
      "Sorting images:  68%|██████▊   | 137496/202599 [03:39<01:48, 598.00it/s]"
     ]
    },
    {
     "name": "stdout",
     "output_type": "stream",
     "text": [
      "File not found: ./datasets/CelebA/CelebA_original/137380.jpg\n",
      "File not found: ./datasets/CelebA/CelebA_masked/137380.jpg\n",
      "File not found: ./datasets/CelebA/CelebA_pixelated/137380.jpg\n"
     ]
    },
    {
     "name": "stderr",
     "output_type": "stream",
     "text": [
      "Sorting images:  68%|██████▊   | 137921/202599 [03:40<01:47, 604.46it/s]"
     ]
    },
    {
     "name": "stdout",
     "output_type": "stream",
     "text": [
      "File not found: ./datasets/CelebA/CelebA_original/137828.jpg\n",
      "File not found: ./datasets/CelebA/CelebA_masked/137828.jpg\n",
      "File not found: ./datasets/CelebA/CelebA_pixelated/137828.jpg\n",
      "File not found: ./datasets/CelebA/CelebA_original/137880.jpg\n",
      "File not found: ./datasets/CelebA/CelebA_masked/137880.jpg\n",
      "File not found: ./datasets/CelebA/CelebA_pixelated/137880.jpg\n"
     ]
    },
    {
     "name": "stderr",
     "output_type": "stream",
     "text": [
      "Sorting images:  68%|██████▊   | 138114/202599 [03:40<01:43, 620.39it/s]"
     ]
    },
    {
     "name": "stdout",
     "output_type": "stream",
     "text": [
      "File not found: ./datasets/CelebA/CelebA_original/138010.jpg\n",
      "File not found: ./datasets/CelebA/CelebA_masked/138010.jpg\n",
      "File not found: ./datasets/CelebA/CelebA_pixelated/138010.jpg\n"
     ]
    },
    {
     "name": "stderr",
     "output_type": "stream",
     "text": [
      "Sorting images:  68%|██████▊   | 138361/202599 [03:40<01:58, 543.15it/s]"
     ]
    },
    {
     "name": "stdout",
     "output_type": "stream",
     "text": [
      "File not found: ./datasets/CelebA/CelebA_original/138307.jpg\n",
      "File not found: ./datasets/CelebA/CelebA_masked/138307.jpg\n",
      "File not found: ./datasets/CelebA/CelebA_pixelated/138307.jpg\n"
     ]
    },
    {
     "name": "stderr",
     "output_type": "stream",
     "text": [
      "Sorting images:  68%|██████▊   | 138774/202599 [03:41<01:48, 588.98it/s]"
     ]
    },
    {
     "name": "stdout",
     "output_type": "stream",
     "text": [
      "File not found: ./datasets/CelebA/CelebA_original/138664.jpg\n",
      "File not found: ./datasets/CelebA/CelebA_masked/138664.jpg\n",
      "File not found: ./datasets/CelebA/CelebA_pixelated/138664.jpg\n",
      "File not found: ./datasets/CelebA/CelebA_original/138731.jpg\n",
      "File not found: ./datasets/CelebA/CelebA_masked/138731.jpg\n",
      "File not found: ./datasets/CelebA/CelebA_pixelated/138731.jpg\n"
     ]
    },
    {
     "name": "stderr",
     "output_type": "stream",
     "text": [
      "Sorting images:  69%|██████▉   | 139442/202599 [03:42<01:43, 608.85it/s]"
     ]
    },
    {
     "name": "stdout",
     "output_type": "stream",
     "text": [
      "File not found: ./datasets/CelebA/CelebA_original/139352.jpg\n",
      "File not found: ./datasets/CelebA/CelebA_masked/139352.jpg\n",
      "File not found: ./datasets/CelebA/CelebA_pixelated/139352.jpg\n",
      "File not found: ./datasets/CelebA/CelebA_original/139356.jpg\n",
      "File not found: ./datasets/CelebA/CelebA_masked/139356.jpg\n",
      "File not found: ./datasets/CelebA/CelebA_pixelated/139356.jpg\n"
     ]
    },
    {
     "name": "stderr",
     "output_type": "stream",
     "text": [
      "Sorting images:  69%|██████▉   | 139875/202599 [03:43<01:42, 612.39it/s]"
     ]
    },
    {
     "name": "stdout",
     "output_type": "stream",
     "text": [
      "File not found: ./datasets/CelebA/CelebA_original/139803.jpg\n",
      "File not found: ./datasets/CelebA/CelebA_masked/139803.jpg\n",
      "File not found: ./datasets/CelebA/CelebA_pixelated/139803.jpg\n"
     ]
    },
    {
     "name": "stderr",
     "output_type": "stream",
     "text": [
      "Sorting images:  69%|██████▉   | 140058/202599 [03:43<01:46, 585.15it/s]"
     ]
    },
    {
     "name": "stdout",
     "output_type": "stream",
     "text": [
      "File not found: ./datasets/CelebA/CelebA_original/139996.jpg\n",
      "File not found: ./datasets/CelebA/CelebA_masked/139996.jpg\n",
      "File not found: ./datasets/CelebA/CelebA_pixelated/139996.jpg\n"
     ]
    },
    {
     "name": "stderr",
     "output_type": "stream",
     "text": [
      "Sorting images:  69%|██████▉   | 140242/202599 [03:44<01:43, 602.21it/s]"
     ]
    },
    {
     "name": "stdout",
     "output_type": "stream",
     "text": [
      "File not found: ./datasets/CelebA/CelebA_original/140127.jpg\n",
      "File not found: ./datasets/CelebA/CelebA_masked/140127.jpg\n",
      "File not found: ./datasets/CelebA/CelebA_pixelated/140127.jpg\n",
      "File not found: ./datasets/CelebA/CelebA_original/140217.jpg\n",
      "File not found: ./datasets/CelebA/CelebA_masked/140217.jpg\n",
      "File not found: ./datasets/CelebA/CelebA_pixelated/140217.jpg\n"
     ]
    },
    {
     "name": "stderr",
     "output_type": "stream",
     "text": [
      "Sorting images:  69%|██████▉   | 140547/202599 [03:44<01:42, 602.96it/s]"
     ]
    },
    {
     "name": "stdout",
     "output_type": "stream",
     "text": [
      "File not found: ./datasets/CelebA/CelebA_original/140439.jpg\n",
      "File not found: ./datasets/CelebA/CelebA_masked/140439.jpg\n",
      "File not found: ./datasets/CelebA/CelebA_pixelated/140439.jpg\n"
     ]
    },
    {
     "name": "stderr",
     "output_type": "stream",
     "text": [
      "Sorting images:  70%|██████▉   | 141028/202599 [03:45<01:45, 582.95it/s]"
     ]
    },
    {
     "name": "stdout",
     "output_type": "stream",
     "text": [
      "File not found: ./datasets/CelebA/CelebA_original/140914.jpg\n",
      "File not found: ./datasets/CelebA/CelebA_masked/140914.jpg\n",
      "File not found: ./datasets/CelebA/CelebA_pixelated/140914.jpg\n"
     ]
    },
    {
     "name": "stderr",
     "output_type": "stream",
     "text": [
      "Sorting images:  70%|███████   | 142065/202599 [03:47<01:42, 589.64it/s]"
     ]
    },
    {
     "name": "stdout",
     "output_type": "stream",
     "text": [
      "File not found: ./datasets/CelebA/CelebA_original/141982.jpg\n",
      "File not found: ./datasets/CelebA/CelebA_masked/141982.jpg\n",
      "File not found: ./datasets/CelebA/CelebA_pixelated/141982.jpg\n"
     ]
    },
    {
     "name": "stderr",
     "output_type": "stream",
     "text": [
      "Sorting images:  70%|███████   | 142461/202599 [03:47<01:29, 671.04it/s]"
     ]
    },
    {
     "name": "stdout",
     "output_type": "stream",
     "text": [
      "File not found: ./datasets/CelebA/CelebA_original/142324.jpg\n",
      "File not found: ./datasets/CelebA/CelebA_masked/142324.jpg\n",
      "File not found: ./datasets/CelebA/CelebA_pixelated/142324.jpg\n"
     ]
    },
    {
     "name": "stderr",
     "output_type": "stream",
     "text": [
      "Sorting images:  70%|███████   | 142600/202599 [03:47<01:28, 679.27it/s]"
     ]
    },
    {
     "name": "stdout",
     "output_type": "stream",
     "text": [
      "File not found: ./datasets/CelebA/CelebA_original/142488.jpg\n",
      "File not found: ./datasets/CelebA/CelebA_masked/142488.jpg\n",
      "File not found: ./datasets/CelebA/CelebA_pixelated/142488.jpg\n"
     ]
    },
    {
     "name": "stderr",
     "output_type": "stream",
     "text": [
      "Sorting images:  71%|███████   | 143287/202599 [03:48<01:17, 765.54it/s]"
     ]
    },
    {
     "name": "stdout",
     "output_type": "stream",
     "text": [
      "File not found: ./datasets/CelebA/CelebA_original/143165.jpg\n",
      "File not found: ./datasets/CelebA/CelebA_masked/143165.jpg\n",
      "File not found: ./datasets/CelebA/CelebA_pixelated/143165.jpg\n"
     ]
    },
    {
     "name": "stderr",
     "output_type": "stream",
     "text": [
      "Sorting images:  71%|███████   | 143517/202599 [03:49<01:19, 747.57it/s]"
     ]
    },
    {
     "name": "stdout",
     "output_type": "stream",
     "text": [
      "File not found: ./datasets/CelebA/CelebA_original/143376.jpg\n",
      "File not found: ./datasets/CelebA/CelebA_masked/143376.jpg\n",
      "File not found: ./datasets/CelebA/CelebA_pixelated/143376.jpg\n",
      "File not found: ./datasets/CelebA/CelebA_original/143475.jpg\n",
      "File not found: ./datasets/CelebA/CelebA_masked/143475.jpg\n",
      "File not found: ./datasets/CelebA/CelebA_pixelated/143475.jpg\n"
     ]
    },
    {
     "name": "stderr",
     "output_type": "stream",
     "text": [
      "Sorting images:  71%|███████   | 143749/202599 [03:49<01:17, 760.02it/s]"
     ]
    },
    {
     "name": "stdout",
     "output_type": "stream",
     "text": [
      "File not found: ./datasets/CelebA/CelebA_original/143645.jpg\n",
      "File not found: ./datasets/CelebA/CelebA_masked/143645.jpg\n",
      "File not found: ./datasets/CelebA/CelebA_pixelated/143645.jpg\n",
      "File not found: ./datasets/CelebA/CelebA_original/143771.jpg\n",
      "File not found: ./datasets/CelebA/CelebA_masked/143771.jpg\n",
      "File not found: ./datasets/CelebA/CelebA_pixelated/143771.jpg\n"
     ]
    },
    {
     "name": "stderr",
     "output_type": "stream",
     "text": [
      "Sorting images:  71%|███████   | 143992/202599 [03:49<01:14, 788.03it/s]"
     ]
    },
    {
     "name": "stdout",
     "output_type": "stream",
     "text": [
      "File not found: ./datasets/CelebA/CelebA_original/143864.jpg\n",
      "File not found: ./datasets/CelebA/CelebA_masked/143864.jpg\n",
      "File not found: ./datasets/CelebA/CelebA_pixelated/143864.jpg\n"
     ]
    },
    {
     "name": "stderr",
     "output_type": "stream",
     "text": [
      "Sorting images:  71%|███████   | 144151/202599 [03:50<01:14, 781.71it/s]"
     ]
    },
    {
     "name": "stdout",
     "output_type": "stream",
     "text": [
      "File not found: ./datasets/CelebA/CelebA_original/144058.jpg\n",
      "File not found: ./datasets/CelebA/CelebA_masked/144058.jpg\n",
      "File not found: ./datasets/CelebA/CelebA_pixelated/144058.jpg\n",
      "File not found: ./datasets/CelebA/CelebA_original/144129.jpg\n",
      "File not found: ./datasets/CelebA/CelebA_masked/144129.jpg\n",
      "File not found: ./datasets/CelebA/CelebA_pixelated/144129.jpg\n"
     ]
    },
    {
     "name": "stderr",
     "output_type": "stream",
     "text": [
      "Sorting images:  71%|███████▏  | 144391/202599 [03:50<01:13, 787.90it/s]"
     ]
    },
    {
     "name": "stdout",
     "output_type": "stream",
     "text": [
      "File not found: ./datasets/CelebA/CelebA_original/144299.jpg\n",
      "File not found: ./datasets/CelebA/CelebA_masked/144299.jpg\n",
      "File not found: ./datasets/CelebA/CelebA_pixelated/144299.jpg\n",
      "File not found: ./datasets/CelebA/CelebA_original/144321.jpg\n",
      "File not found: ./datasets/CelebA/CelebA_masked/144321.jpg\n",
      "File not found: ./datasets/CelebA/CelebA_pixelated/144321.jpg\n",
      "File not found: ./datasets/CelebA/CelebA_original/144436.jpg\n",
      "File not found: ./datasets/CelebA/CelebA_masked/144436.jpg\n",
      "File not found: ./datasets/CelebA/CelebA_pixelated/144436.jpg\n"
     ]
    },
    {
     "name": "stderr",
     "output_type": "stream",
     "text": [
      "Sorting images:  71%|███████▏  | 144706/202599 [03:50<01:15, 771.58it/s]"
     ]
    },
    {
     "name": "stdout",
     "output_type": "stream",
     "text": [
      "File not found: ./datasets/CelebA/CelebA_original/144560.jpg\n",
      "File not found: ./datasets/CelebA/CelebA_masked/144560.jpg\n",
      "File not found: ./datasets/CelebA/CelebA_pixelated/144560.jpg\n"
     ]
    },
    {
     "name": "stderr",
     "output_type": "stream",
     "text": [
      "Sorting images:  72%|███████▏  | 145086/202599 [03:51<01:17, 743.60it/s]"
     ]
    },
    {
     "name": "stdout",
     "output_type": "stream",
     "text": [
      "File not found: ./datasets/CelebA/CelebA_original/145009.jpg\n",
      "File not found: ./datasets/CelebA/CelebA_masked/145009.jpg\n",
      "File not found: ./datasets/CelebA/CelebA_pixelated/145009.jpg\n",
      "File not found: ./datasets/CelebA/CelebA_original/145110.jpg\n",
      "File not found: ./datasets/CelebA/CelebA_masked/145110.jpg\n",
      "File not found: ./datasets/CelebA/CelebA_pixelated/145110.jpg\n"
     ]
    },
    {
     "name": "stderr",
     "output_type": "stream",
     "text": [
      "Sorting images:  72%|███████▏  | 145477/202599 [03:51<01:14, 771.82it/s]"
     ]
    },
    {
     "name": "stdout",
     "output_type": "stream",
     "text": [
      "File not found: ./datasets/CelebA/CelebA_original/145338.jpg\n",
      "File not found: ./datasets/CelebA/CelebA_masked/145338.jpg\n",
      "File not found: ./datasets/CelebA/CelebA_pixelated/145338.jpg\n",
      "File not found: ./datasets/CelebA/CelebA_original/145340.jpg\n",
      "File not found: ./datasets/CelebA/CelebA_masked/145340.jpg\n",
      "File not found: ./datasets/CelebA/CelebA_pixelated/145340.jpg\n",
      "File not found: ./datasets/CelebA/CelebA_original/145374.jpg\n",
      "File not found: ./datasets/CelebA/CelebA_masked/145374.jpg\n",
      "File not found: ./datasets/CelebA/CelebA_pixelated/145374.jpg\n",
      "File not found: ./datasets/CelebA/CelebA_original/145419.jpg\n",
      "File not found: ./datasets/CelebA/CelebA_masked/145419.jpg\n",
      "File not found: ./datasets/CelebA/CelebA_pixelated/145419.jpg\n"
     ]
    },
    {
     "name": "stderr",
     "output_type": "stream",
     "text": [
      "Sorting images:  72%|███████▏  | 145706/202599 [03:52<01:17, 730.69it/s]"
     ]
    },
    {
     "name": "stdout",
     "output_type": "stream",
     "text": [
      "File not found: ./datasets/CelebA/CelebA_original/145578.jpg\n",
      "File not found: ./datasets/CelebA/CelebA_masked/145578.jpg\n",
      "File not found: ./datasets/CelebA/CelebA_pixelated/145578.jpg\n"
     ]
    },
    {
     "name": "stderr",
     "output_type": "stream",
     "text": [
      "Sorting images:  72%|███████▏  | 146340/202599 [03:53<01:29, 627.34it/s]"
     ]
    },
    {
     "name": "stdout",
     "output_type": "stream",
     "text": [
      "File not found: ./datasets/CelebA/CelebA_original/146252.jpg\n",
      "File not found: ./datasets/CelebA/CelebA_masked/146252.jpg\n",
      "File not found: ./datasets/CelebA/CelebA_pixelated/146252.jpg\n"
     ]
    },
    {
     "name": "stderr",
     "output_type": "stream",
     "text": [
      "Sorting images:  73%|███████▎  | 146921/202599 [03:53<01:15, 738.37it/s]"
     ]
    },
    {
     "name": "stdout",
     "output_type": "stream",
     "text": [
      "File not found: ./datasets/CelebA/CelebA_original/146778.jpg\n",
      "File not found: ./datasets/CelebA/CelebA_masked/146778.jpg\n",
      "File not found: ./datasets/CelebA/CelebA_pixelated/146778.jpg\n",
      "File not found: ./datasets/CelebA/CelebA_original/146885.jpg\n",
      "File not found: ./datasets/CelebA/CelebA_masked/146885.jpg\n",
      "File not found: ./datasets/CelebA/CelebA_pixelated/146885.jpg\n"
     ]
    },
    {
     "name": "stderr",
     "output_type": "stream",
     "text": [
      "Sorting images:  73%|███████▎  | 147451/202599 [03:54<01:12, 755.94it/s]"
     ]
    },
    {
     "name": "stdout",
     "output_type": "stream",
     "text": [
      "File not found: ./datasets/CelebA/CelebA_original/147367.jpg\n",
      "File not found: ./datasets/CelebA/CelebA_masked/147367.jpg\n",
      "File not found: ./datasets/CelebA/CelebA_pixelated/147367.jpg\n"
     ]
    },
    {
     "name": "stderr",
     "output_type": "stream",
     "text": [
      "Sorting images:  73%|███████▎  | 147693/202599 [03:54<01:09, 785.62it/s]"
     ]
    },
    {
     "name": "stdout",
     "output_type": "stream",
     "text": [
      "File not found: ./datasets/CelebA/CelebA_original/147560.jpg\n",
      "File not found: ./datasets/CelebA/CelebA_masked/147560.jpg\n",
      "File not found: ./datasets/CelebA/CelebA_pixelated/147560.jpg\n"
     ]
    },
    {
     "name": "stderr",
     "output_type": "stream",
     "text": [
      "Sorting images:  73%|███████▎  | 148013/202599 [03:55<01:09, 782.66it/s]"
     ]
    },
    {
     "name": "stdout",
     "output_type": "stream",
     "text": [
      "File not found: ./datasets/CelebA/CelebA_original/147873.jpg\n",
      "File not found: ./datasets/CelebA/CelebA_masked/147873.jpg\n",
      "File not found: ./datasets/CelebA/CelebA_pixelated/147873.jpg\n",
      "File not found: ./datasets/CelebA/CelebA_original/147930.jpg\n",
      "File not found: ./datasets/CelebA/CelebA_masked/147930.jpg\n",
      "File not found: ./datasets/CelebA/CelebA_pixelated/147930.jpg\n"
     ]
    },
    {
     "name": "stderr",
     "output_type": "stream",
     "text": [
      "Sorting images:  73%|███████▎  | 148174/202599 [03:55<01:08, 791.38it/s]"
     ]
    },
    {
     "name": "stdout",
     "output_type": "stream",
     "text": [
      "File not found: ./datasets/CelebA/CelebA_original/148072.jpg\n",
      "File not found: ./datasets/CelebA/CelebA_masked/148072.jpg\n",
      "File not found: ./datasets/CelebA/CelebA_pixelated/148072.jpg\n",
      "File not found: ./datasets/CelebA/CelebA_original/148227.jpg\n",
      "File not found: ./datasets/CelebA/CelebA_masked/148227.jpg\n",
      "File not found: ./datasets/CelebA/CelebA_pixelated/148227.jpg\n"
     ]
    },
    {
     "name": "stderr",
     "output_type": "stream",
     "text": [
      "Sorting images:  73%|███████▎  | 148335/202599 [03:55<01:08, 795.46it/s]"
     ]
    },
    {
     "name": "stdout",
     "output_type": "stream",
     "text": [
      "File not found: ./datasets/CelebA/CelebA_original/148250.jpg\n",
      "File not found: ./datasets/CelebA/CelebA_masked/148250.jpg\n",
      "File not found: ./datasets/CelebA/CelebA_pixelated/148250.jpg\n"
     ]
    },
    {
     "name": "stderr",
     "output_type": "stream",
     "text": [
      "Sorting images:  74%|███████▎  | 149280/202599 [03:56<01:14, 719.52it/s]"
     ]
    },
    {
     "name": "stdout",
     "output_type": "stream",
     "text": [
      "File not found: ./datasets/CelebA/CelebA_original/149188.jpg\n",
      "File not found: ./datasets/CelebA/CelebA_masked/149188.jpg\n",
      "File not found: ./datasets/CelebA/CelebA_pixelated/149188.jpg\n"
     ]
    },
    {
     "name": "stderr",
     "output_type": "stream",
     "text": [
      "Sorting images:  74%|███████▍  | 149721/202599 [03:57<01:19, 661.55it/s]"
     ]
    },
    {
     "name": "stdout",
     "output_type": "stream",
     "text": [
      "File not found: ./datasets/CelebA/CelebA_original/149615.jpg\n",
      "File not found: ./datasets/CelebA/CelebA_masked/149615.jpg\n",
      "File not found: ./datasets/CelebA/CelebA_pixelated/149615.jpg\n"
     ]
    },
    {
     "name": "stderr",
     "output_type": "stream",
     "text": [
      "Sorting images:  74%|███████▍  | 149934/202599 [03:57<01:16, 687.24it/s]"
     ]
    },
    {
     "name": "stdout",
     "output_type": "stream",
     "text": [
      "File not found: ./datasets/CelebA/CelebA_original/149842.jpg\n",
      "File not found: ./datasets/CelebA/CelebA_masked/149842.jpg\n",
      "File not found: ./datasets/CelebA/CelebA_pixelated/149842.jpg\n",
      "File not found: ./datasets/CelebA/CelebA_original/149846.jpg\n",
      "File not found: ./datasets/CelebA/CelebA_masked/149846.jpg\n",
      "File not found: ./datasets/CelebA/CelebA_pixelated/149846.jpg\n"
     ]
    },
    {
     "name": "stderr",
     "output_type": "stream",
     "text": [
      "Sorting images:  74%|███████▍  | 150088/202599 [03:58<01:12, 724.92it/s]"
     ]
    },
    {
     "name": "stdout",
     "output_type": "stream",
     "text": [
      "File not found: ./datasets/CelebA/CelebA_original/150009.jpg\n",
      "File not found: ./datasets/CelebA/CelebA_masked/150009.jpg\n",
      "File not found: ./datasets/CelebA/CelebA_pixelated/150009.jpg\n"
     ]
    },
    {
     "name": "stderr",
     "output_type": "stream",
     "text": [
      "Sorting images:  74%|███████▍  | 150388/202599 [03:58<01:12, 721.92it/s]"
     ]
    },
    {
     "name": "stdout",
     "output_type": "stream",
     "text": [
      "File not found: ./datasets/CelebA/CelebA_original/150240.jpg\n",
      "File not found: ./datasets/CelebA/CelebA_masked/150240.jpg\n",
      "File not found: ./datasets/CelebA/CelebA_pixelated/150240.jpg\n"
     ]
    },
    {
     "name": "stderr",
     "output_type": "stream",
     "text": [
      "Sorting images:  74%|███████▍  | 150616/202599 [03:58<01:16, 683.69it/s]"
     ]
    },
    {
     "name": "stdout",
     "output_type": "stream",
     "text": [
      "File not found: ./datasets/CelebA/CelebA_original/150525.jpg\n",
      "File not found: ./datasets/CelebA/CelebA_masked/150525.jpg\n",
      "File not found: ./datasets/CelebA/CelebA_pixelated/150525.jpg\n"
     ]
    },
    {
     "name": "stderr",
     "output_type": "stream",
     "text": [
      "Sorting images:  75%|███████▍  | 150991/202599 [03:59<01:09, 741.02it/s]"
     ]
    },
    {
     "name": "stdout",
     "output_type": "stream",
     "text": [
      "File not found: ./datasets/CelebA/CelebA_original/150895.jpg\n",
      "File not found: ./datasets/CelebA/CelebA_masked/150895.jpg\n",
      "File not found: ./datasets/CelebA/CelebA_pixelated/150895.jpg\n",
      "File not found: ./datasets/CelebA/CelebA_original/150922.jpg\n",
      "File not found: ./datasets/CelebA/CelebA_masked/150922.jpg\n",
      "File not found: ./datasets/CelebA/CelebA_pixelated/150922.jpg\n",
      "File not found: ./datasets/CelebA/CelebA_original/151004.jpg\n",
      "File not found: ./datasets/CelebA/CelebA_masked/151004.jpg\n",
      "File not found: ./datasets/CelebA/CelebA_pixelated/151004.jpg\n"
     ]
    },
    {
     "name": "stderr",
     "output_type": "stream",
     "text": [
      "Sorting images:  75%|███████▍  | 151294/202599 [03:59<01:09, 734.20it/s]"
     ]
    },
    {
     "name": "stdout",
     "output_type": "stream",
     "text": [
      "File not found: ./datasets/CelebA/CelebA_original/151176.jpg\n",
      "File not found: ./datasets/CelebA/CelebA_masked/151176.jpg\n",
      "File not found: ./datasets/CelebA/CelebA_pixelated/151176.jpg\n",
      "File not found: ./datasets/CelebA/CelebA_original/151235.jpg\n",
      "File not found: ./datasets/CelebA/CelebA_masked/151235.jpg\n",
      "File not found: ./datasets/CelebA/CelebA_pixelated/151235.jpg\n"
     ]
    },
    {
     "name": "stderr",
     "output_type": "stream",
     "text": [
      "Sorting images:  75%|███████▍  | 151601/202599 [04:00<01:07, 754.76it/s]"
     ]
    },
    {
     "name": "stdout",
     "output_type": "stream",
     "text": [
      "File not found: ./datasets/CelebA/CelebA_original/151509.jpg\n",
      "File not found: ./datasets/CelebA/CelebA_masked/151509.jpg\n",
      "File not found: ./datasets/CelebA/CelebA_pixelated/151509.jpg\n"
     ]
    },
    {
     "name": "stderr",
     "output_type": "stream",
     "text": [
      "Sorting images:  75%|███████▌  | 152221/202599 [04:01<01:05, 767.37it/s]"
     ]
    },
    {
     "name": "stdout",
     "output_type": "stream",
     "text": [
      "File not found: ./datasets/CelebA/CelebA_original/152125.jpg\n",
      "File not found: ./datasets/CelebA/CelebA_masked/152125.jpg\n",
      "File not found: ./datasets/CelebA/CelebA_pixelated/152125.jpg\n"
     ]
    },
    {
     "name": "stderr",
     "output_type": "stream",
     "text": [
      "Sorting images:  75%|███████▌  | 152611/202599 [04:01<01:04, 770.02it/s]"
     ]
    },
    {
     "name": "stdout",
     "output_type": "stream",
     "text": [
      "File not found: ./datasets/CelebA/CelebA_original/152466.jpg\n",
      "File not found: ./datasets/CelebA/CelebA_masked/152466.jpg\n",
      "File not found: ./datasets/CelebA/CelebA_pixelated/152466.jpg\n",
      "File not found: ./datasets/CelebA/CelebA_original/152534.jpg\n",
      "File not found: ./datasets/CelebA/CelebA_masked/152534.jpg\n",
      "File not found: ./datasets/CelebA/CelebA_pixelated/152534.jpg\n"
     ]
    },
    {
     "name": "stderr",
     "output_type": "stream",
     "text": [
      "Sorting images:  76%|███████▌  | 153246/202599 [04:02<01:16, 645.83it/s]"
     ]
    },
    {
     "name": "stdout",
     "output_type": "stream",
     "text": [
      "File not found: ./datasets/CelebA/CelebA_original/153123.jpg\n",
      "File not found: ./datasets/CelebA/CelebA_masked/153123.jpg\n",
      "File not found: ./datasets/CelebA/CelebA_pixelated/153123.jpg\n",
      "File not found: ./datasets/CelebA/CelebA_original/153127.jpg\n",
      "File not found: ./datasets/CelebA/CelebA_masked/153127.jpg\n",
      "File not found: ./datasets/CelebA/CelebA_pixelated/153127.jpg\n"
     ]
    },
    {
     "name": "stderr",
     "output_type": "stream",
     "text": [
      "Sorting images:  76%|███████▌  | 153466/202599 [04:02<01:10, 695.89it/s]"
     ]
    },
    {
     "name": "stdout",
     "output_type": "stream",
     "text": [
      "File not found: ./datasets/CelebA/CelebA_original/153323.jpg\n",
      "File not found: ./datasets/CelebA/CelebA_masked/153323.jpg\n",
      "File not found: ./datasets/CelebA/CelebA_pixelated/153323.jpg\n"
     ]
    },
    {
     "name": "stderr",
     "output_type": "stream",
     "text": [
      "Sorting images:  76%|███████▌  | 153610/202599 [04:03<01:09, 705.52it/s]"
     ]
    },
    {
     "name": "stdout",
     "output_type": "stream",
     "text": [
      "File not found: ./datasets/CelebA/CelebA_original/153506.jpg\n",
      "File not found: ./datasets/CelebA/CelebA_masked/153506.jpg\n",
      "File not found: ./datasets/CelebA/CelebA_pixelated/153506.jpg\n"
     ]
    },
    {
     "name": "stderr",
     "output_type": "stream",
     "text": [
      "Sorting images:  76%|███████▌  | 153751/202599 [04:03<01:13, 667.60it/s]"
     ]
    },
    {
     "name": "stdout",
     "output_type": "stream",
     "text": [
      "File not found: ./datasets/CelebA/CelebA_original/153649.jpg\n",
      "File not found: ./datasets/CelebA/CelebA_masked/153649.jpg\n",
      "File not found: ./datasets/CelebA/CelebA_pixelated/153649.jpg\n"
     ]
    },
    {
     "name": "stderr",
     "output_type": "stream",
     "text": [
      "Sorting images:  76%|███████▌  | 153897/202599 [04:03<01:09, 696.89it/s]"
     ]
    },
    {
     "name": "stdout",
     "output_type": "stream",
     "text": [
      "File not found: ./datasets/CelebA/CelebA_original/153819.jpg\n",
      "File not found: ./datasets/CelebA/CelebA_masked/153819.jpg\n",
      "File not found: ./datasets/CelebA/CelebA_pixelated/153819.jpg\n"
     ]
    },
    {
     "name": "stderr",
     "output_type": "stream",
     "text": [
      "Sorting images:  76%|███████▌  | 154245/202599 [04:04<01:10, 682.80it/s]"
     ]
    },
    {
     "name": "stdout",
     "output_type": "stream",
     "text": [
      "File not found: ./datasets/CelebA/CelebA_original/154156.jpg\n",
      "File not found: ./datasets/CelebA/CelebA_masked/154156.jpg\n",
      "File not found: ./datasets/CelebA/CelebA_pixelated/154156.jpg\n",
      "File not found: ./datasets/CelebA/CelebA_original/154288.jpg\n",
      "File not found: ./datasets/CelebA/CelebA_masked/154288.jpg\n",
      "File not found: ./datasets/CelebA/CelebA_pixelated/154288.jpg\n"
     ]
    },
    {
     "name": "stderr",
     "output_type": "stream",
     "text": [
      "Sorting images:  76%|███████▋  | 154698/202599 [04:04<01:04, 737.31it/s]"
     ]
    },
    {
     "name": "stdout",
     "output_type": "stream",
     "text": [
      "File not found: ./datasets/CelebA/CelebA_original/154579.jpg\n",
      "File not found: ./datasets/CelebA/CelebA_masked/154579.jpg\n",
      "File not found: ./datasets/CelebA/CelebA_pixelated/154579.jpg\n",
      "File not found: ./datasets/CelebA/CelebA_original/154586.jpg\n",
      "File not found: ./datasets/CelebA/CelebA_masked/154586.jpg\n",
      "File not found: ./datasets/CelebA/CelebA_pixelated/154586.jpg\n"
     ]
    },
    {
     "name": "stderr",
     "output_type": "stream",
     "text": [
      "Sorting images:  77%|███████▋  | 155054/202599 [04:05<01:10, 678.12it/s]"
     ]
    },
    {
     "name": "stdout",
     "output_type": "stream",
     "text": [
      "File not found: ./datasets/CelebA/CelebA_original/154918.jpg\n",
      "File not found: ./datasets/CelebA/CelebA_masked/154918.jpg\n",
      "File not found: ./datasets/CelebA/CelebA_pixelated/154918.jpg\n",
      "File not found: ./datasets/CelebA/CelebA_original/154991.jpg\n",
      "File not found: ./datasets/CelebA/CelebA_masked/154991.jpg\n",
      "File not found: ./datasets/CelebA/CelebA_pixelated/154991.jpg\n"
     ]
    },
    {
     "name": "stderr",
     "output_type": "stream",
     "text": [
      "Sorting images:  77%|███████▋  | 155283/202599 [04:05<01:04, 734.39it/s]"
     ]
    },
    {
     "name": "stdout",
     "output_type": "stream",
     "text": [
      "File not found: ./datasets/CelebA/CelebA_original/155172.jpg\n",
      "File not found: ./datasets/CelebA/CelebA_masked/155172.jpg\n",
      "File not found: ./datasets/CelebA/CelebA_pixelated/155172.jpg\n",
      "File not found: ./datasets/CelebA/CelebA_original/155206.jpg\n",
      "File not found: ./datasets/CelebA/CelebA_masked/155206.jpg\n",
      "File not found: ./datasets/CelebA/CelebA_pixelated/155206.jpg\n",
      "File not found: ./datasets/CelebA/CelebA_original/155229.jpg\n",
      "File not found: ./datasets/CelebA/CelebA_masked/155229.jpg\n",
      "File not found: ./datasets/CelebA/CelebA_pixelated/155229.jpg\n",
      "File not found: ./datasets/CelebA/CelebA_original/155259.jpg\n",
      "File not found: ./datasets/CelebA/CelebA_masked/155259.jpg\n",
      "File not found: ./datasets/CelebA/CelebA_pixelated/155259.jpg\n",
      "File not found: ./datasets/CelebA/CelebA_original/155297.jpg\n",
      "File not found: ./datasets/CelebA/CelebA_masked/155297.jpg\n",
      "File not found: ./datasets/CelebA/CelebA_pixelated/155297.jpg\n",
      "File not found: ./datasets/CelebA/CelebA_original/155305.jpg\n",
      "File not found: ./datasets/CelebA/CelebA_masked/155305.jpg\n",
      "File not found: ./datasets/CelebA/CelebA_pixelated/155305.jpg\n"
     ]
    },
    {
     "name": "stderr",
     "output_type": "stream",
     "text": [
      "Sorting images:  77%|███████▋  | 155671/202599 [04:06<01:04, 729.78it/s]"
     ]
    },
    {
     "name": "stdout",
     "output_type": "stream",
     "text": [
      "File not found: ./datasets/CelebA/CelebA_original/155579.jpg\n",
      "File not found: ./datasets/CelebA/CelebA_masked/155579.jpg\n",
      "File not found: ./datasets/CelebA/CelebA_pixelated/155579.jpg\n"
     ]
    },
    {
     "name": "stderr",
     "output_type": "stream",
     "text": [
      "Sorting images:  77%|███████▋  | 155975/202599 [04:06<01:02, 743.40it/s]"
     ]
    },
    {
     "name": "stdout",
     "output_type": "stream",
     "text": [
      "File not found: ./datasets/CelebA/CelebA_original/155843.jpg\n",
      "File not found: ./datasets/CelebA/CelebA_masked/155843.jpg\n",
      "File not found: ./datasets/CelebA/CelebA_pixelated/155843.jpg\n",
      "File not found: ./datasets/CelebA/CelebA_original/155885.jpg\n",
      "File not found: ./datasets/CelebA/CelebA_masked/155885.jpg\n",
      "File not found: ./datasets/CelebA/CelebA_pixelated/155885.jpg\n"
     ]
    },
    {
     "name": "stderr",
     "output_type": "stream",
     "text": [
      "Sorting images:  77%|███████▋  | 156285/202599 [04:06<01:00, 765.40it/s]"
     ]
    },
    {
     "name": "stdout",
     "output_type": "stream",
     "text": [
      "File not found: ./datasets/CelebA/CelebA_original/156200.jpg\n",
      "File not found: ./datasets/CelebA/CelebA_masked/156200.jpg\n",
      "File not found: ./datasets/CelebA/CelebA_pixelated/156200.jpg\n",
      "File not found: ./datasets/CelebA/CelebA_original/156357.jpg\n",
      "File not found: ./datasets/CelebA/CelebA_masked/156357.jpg\n",
      "File not found: ./datasets/CelebA/CelebA_pixelated/156357.jpg\n"
     ]
    },
    {
     "name": "stderr",
     "output_type": "stream",
     "text": [
      "Sorting images:  77%|███████▋  | 156915/202599 [04:07<00:58, 784.02it/s]"
     ]
    },
    {
     "name": "stdout",
     "output_type": "stream",
     "text": [
      "File not found: ./datasets/CelebA/CelebA_original/156788.jpg\n",
      "File not found: ./datasets/CelebA/CelebA_masked/156788.jpg\n",
      "File not found: ./datasets/CelebA/CelebA_pixelated/156788.jpg\n"
     ]
    },
    {
     "name": "stderr",
     "output_type": "stream",
     "text": [
      "Sorting images:  78%|███████▊  | 157301/202599 [04:08<01:01, 731.16it/s]"
     ]
    },
    {
     "name": "stdout",
     "output_type": "stream",
     "text": [
      "File not found: ./datasets/CelebA/CelebA_original/157192.jpg\n",
      "File not found: ./datasets/CelebA/CelebA_masked/157192.jpg\n",
      "File not found: ./datasets/CelebA/CelebA_pixelated/157192.jpg\n",
      "File not found: ./datasets/CelebA/CelebA_original/157280.jpg\n",
      "File not found: ./datasets/CelebA/CelebA_masked/157280.jpg\n",
      "File not found: ./datasets/CelebA/CelebA_pixelated/157280.jpg\n",
      "File not found: ./datasets/CelebA/CelebA_original/157304.jpg\n",
      "File not found: ./datasets/CelebA/CelebA_masked/157304.jpg\n",
      "File not found: ./datasets/CelebA/CelebA_pixelated/157304.jpg\n"
     ]
    },
    {
     "name": "stderr",
     "output_type": "stream",
     "text": [
      "Sorting images:  78%|███████▊  | 157745/202599 [04:08<01:02, 719.76it/s]"
     ]
    },
    {
     "name": "stdout",
     "output_type": "stream",
     "text": [
      "File not found: ./datasets/CelebA/CelebA_original/157632.jpg\n",
      "File not found: ./datasets/CelebA/CelebA_masked/157632.jpg\n",
      "File not found: ./datasets/CelebA/CelebA_pixelated/157632.jpg\n",
      "File not found: ./datasets/CelebA/CelebA_original/157701.jpg\n",
      "File not found: ./datasets/CelebA/CelebA_masked/157701.jpg\n",
      "File not found: ./datasets/CelebA/CelebA_pixelated/157701.jpg\n"
     ]
    },
    {
     "name": "stderr",
     "output_type": "stream",
     "text": [
      "Sorting images:  78%|███████▊  | 157892/202599 [04:09<01:04, 696.23it/s]"
     ]
    },
    {
     "name": "stdout",
     "output_type": "stream",
     "text": [
      "File not found: ./datasets/CelebA/CelebA_original/157798.jpg\n",
      "File not found: ./datasets/CelebA/CelebA_masked/157798.jpg\n",
      "File not found: ./datasets/CelebA/CelebA_pixelated/157798.jpg\n",
      "File not found: ./datasets/CelebA/CelebA_original/157900.jpg\n",
      "File not found: ./datasets/CelebA/CelebA_masked/157900.jpg\n",
      "File not found: ./datasets/CelebA/CelebA_pixelated/157900.jpg\n"
     ]
    },
    {
     "name": "stderr",
     "output_type": "stream",
     "text": [
      "Sorting images:  78%|███████▊  | 158115/202599 [04:09<01:01, 723.87it/s]"
     ]
    },
    {
     "name": "stdout",
     "output_type": "stream",
     "text": [
      "File not found: ./datasets/CelebA/CelebA_original/157989.jpg\n",
      "File not found: ./datasets/CelebA/CelebA_masked/157989.jpg\n",
      "File not found: ./datasets/CelebA/CelebA_pixelated/157989.jpg\n"
     ]
    },
    {
     "name": "stderr",
     "output_type": "stream",
     "text": [
      "Sorting images:  78%|███████▊  | 158502/202599 [04:09<00:57, 772.31it/s]"
     ]
    },
    {
     "name": "stdout",
     "output_type": "stream",
     "text": [
      "File not found: ./datasets/CelebA/CelebA_original/158345.jpg\n",
      "File not found: ./datasets/CelebA/CelebA_masked/158345.jpg\n",
      "File not found: ./datasets/CelebA/CelebA_pixelated/158345.jpg\n",
      "File not found: ./datasets/CelebA/CelebA_original/158487.jpg\n",
      "File not found: ./datasets/CelebA/CelebA_masked/158487.jpg\n",
      "File not found: ./datasets/CelebA/CelebA_pixelated/158487.jpg\n"
     ]
    },
    {
     "name": "stderr",
     "output_type": "stream",
     "text": [
      "Sorting images:  78%|███████▊  | 158965/202599 [04:10<00:57, 765.44it/s]"
     ]
    },
    {
     "name": "stdout",
     "output_type": "stream",
     "text": [
      "File not found: ./datasets/CelebA/CelebA_original/158820.jpg\n",
      "File not found: ./datasets/CelebA/CelebA_masked/158820.jpg\n",
      "File not found: ./datasets/CelebA/CelebA_pixelated/158820.jpg\n"
     ]
    },
    {
     "name": "stderr",
     "output_type": "stream",
     "text": [
      "Sorting images:  79%|███████▊  | 159281/202599 [04:10<00:57, 759.62it/s]"
     ]
    },
    {
     "name": "stdout",
     "output_type": "stream",
     "text": [
      "File not found: ./datasets/CelebA/CelebA_original/159217.jpg\n",
      "File not found: ./datasets/CelebA/CelebA_masked/159217.jpg\n",
      "File not found: ./datasets/CelebA/CelebA_pixelated/159217.jpg\n",
      "File not found: ./datasets/CelebA/CelebA_original/159327.jpg\n",
      "File not found: ./datasets/CelebA/CelebA_masked/159327.jpg\n",
      "File not found: ./datasets/CelebA/CelebA_pixelated/159327.jpg\n"
     ]
    },
    {
     "name": "stderr",
     "output_type": "stream",
     "text": [
      "Sorting images:  79%|███████▊  | 159497/202599 [04:11<01:06, 651.76it/s]"
     ]
    },
    {
     "name": "stdout",
     "output_type": "stream",
     "text": [
      "File not found: ./datasets/CelebA/CelebA_original/159400.jpg\n",
      "File not found: ./datasets/CelebA/CelebA_masked/159400.jpg\n",
      "File not found: ./datasets/CelebA/CelebA_pixelated/159400.jpg\n"
     ]
    },
    {
     "name": "stderr",
     "output_type": "stream",
     "text": [
      "Sorting images:  79%|███████▉  | 159786/202599 [04:11<01:02, 689.34it/s]"
     ]
    },
    {
     "name": "stdout",
     "output_type": "stream",
     "text": [
      "File not found: ./datasets/CelebA/CelebA_original/159646.jpg\n",
      "File not found: ./datasets/CelebA/CelebA_masked/159646.jpg\n",
      "File not found: ./datasets/CelebA/CelebA_pixelated/159646.jpg\n"
     ]
    },
    {
     "name": "stderr",
     "output_type": "stream",
     "text": [
      "Sorting images:  79%|███████▉  | 160012/202599 [04:11<00:58, 729.29it/s]"
     ]
    },
    {
     "name": "stdout",
     "output_type": "stream",
     "text": [
      "File not found: ./datasets/CelebA/CelebA_original/159886.jpg\n",
      "File not found: ./datasets/CelebA/CelebA_masked/159886.jpg\n",
      "File not found: ./datasets/CelebA/CelebA_pixelated/159886.jpg\n",
      "File not found: ./datasets/CelebA/CelebA_original/159954.jpg\n",
      "File not found: ./datasets/CelebA/CelebA_masked/159954.jpg\n",
      "File not found: ./datasets/CelebA/CelebA_pixelated/159954.jpg\n"
     ]
    },
    {
     "name": "stderr",
     "output_type": "stream",
     "text": [
      "Sorting images:  79%|███████▉  | 160932/202599 [04:13<00:55, 748.50it/s]"
     ]
    },
    {
     "name": "stdout",
     "output_type": "stream",
     "text": [
      "File not found: ./datasets/CelebA/CelebA_original/160824.jpg\n",
      "File not found: ./datasets/CelebA/CelebA_masked/160824.jpg\n",
      "File not found: ./datasets/CelebA/CelebA_pixelated/160824.jpg\n"
     ]
    },
    {
     "name": "stderr",
     "output_type": "stream",
     "text": [
      "Sorting images:  80%|███████▉  | 161083/202599 [04:13<00:58, 714.49it/s]"
     ]
    },
    {
     "name": "stdout",
     "output_type": "stream",
     "text": [
      "File not found: ./datasets/CelebA/CelebA_original/161016.jpg\n",
      "File not found: ./datasets/CelebA/CelebA_masked/161016.jpg\n",
      "File not found: ./datasets/CelebA/CelebA_pixelated/161016.jpg\n"
     ]
    },
    {
     "name": "stderr",
     "output_type": "stream",
     "text": [
      "Sorting images:  80%|███████▉  | 161364/202599 [04:13<01:01, 675.56it/s]"
     ]
    },
    {
     "name": "stdout",
     "output_type": "stream",
     "text": [
      "File not found: ./datasets/CelebA/CelebA_original/161266.jpg\n",
      "File not found: ./datasets/CelebA/CelebA_masked/161266.jpg\n",
      "File not found: ./datasets/CelebA/CelebA_pixelated/161266.jpg\n"
     ]
    },
    {
     "name": "stderr",
     "output_type": "stream",
     "text": [
      "Sorting images:  80%|███████▉  | 161645/202599 [04:14<00:59, 689.78it/s]"
     ]
    },
    {
     "name": "stdout",
     "output_type": "stream",
     "text": [
      "File not found: ./datasets/CelebA/CelebA_original/161567.jpg\n",
      "File not found: ./datasets/CelebA/CelebA_masked/161567.jpg\n",
      "File not found: ./datasets/CelebA/CelebA_pixelated/161567.jpg\n",
      "File not found: ./datasets/CelebA/CelebA_original/161589.jpg\n",
      "File not found: ./datasets/CelebA/CelebA_masked/161589.jpg\n",
      "File not found: ./datasets/CelebA/CelebA_pixelated/161589.jpg\n",
      "File not found: ./datasets/CelebA/CelebA_original/161591.jpg\n",
      "File not found: ./datasets/CelebA/CelebA_masked/161591.jpg\n",
      "File not found: ./datasets/CelebA/CelebA_pixelated/161591.jpg\n",
      "File not found: ./datasets/CelebA/CelebA_original/161660.jpg\n",
      "File not found: ./datasets/CelebA/CelebA_masked/161660.jpg\n",
      "File not found: ./datasets/CelebA/CelebA_pixelated/161660.jpg\n"
     ]
    },
    {
     "name": "stderr",
     "output_type": "stream",
     "text": [
      "Sorting images:  80%|███████▉  | 162045/202599 [04:14<01:03, 635.88it/s]"
     ]
    },
    {
     "name": "stdout",
     "output_type": "stream",
     "text": [
      "File not found: ./datasets/CelebA/CelebA_original/161940.jpg\n",
      "File not found: ./datasets/CelebA/CelebA_masked/161940.jpg\n",
      "File not found: ./datasets/CelebA/CelebA_pixelated/161940.jpg\n",
      "File not found: ./datasets/CelebA/CelebA_original/162023.jpg\n",
      "File not found: ./datasets/CelebA/CelebA_masked/162023.jpg\n",
      "File not found: ./datasets/CelebA/CelebA_pixelated/162023.jpg\n"
     ]
    },
    {
     "name": "stderr",
     "output_type": "stream",
     "text": [
      "Sorting images:  80%|████████  | 162722/202599 [04:16<01:11, 561.26it/s]"
     ]
    },
    {
     "name": "stdout",
     "output_type": "stream",
     "text": [
      "File not found: ./datasets/CelebA/CelebA_original/162622.jpg\n",
      "File not found: ./datasets/CelebA/CelebA_masked/162622.jpg\n",
      "File not found: ./datasets/CelebA/CelebA_pixelated/162622.jpg\n"
     ]
    },
    {
     "name": "stderr",
     "output_type": "stream",
     "text": [
      "Sorting images:  80%|████████  | 162889/202599 [04:16<01:14, 536.05it/s]"
     ]
    },
    {
     "name": "stdout",
     "output_type": "stream",
     "text": [
      "File not found: ./datasets/CelebA/CelebA_original/162833.jpg\n",
      "File not found: ./datasets/CelebA/CelebA_masked/162833.jpg\n",
      "File not found: ./datasets/CelebA/CelebA_pixelated/162833.jpg\n",
      "File not found: ./datasets/CelebA/CelebA_original/162903.jpg\n",
      "File not found: ./datasets/CelebA/CelebA_masked/162903.jpg\n",
      "File not found: ./datasets/CelebA/CelebA_pixelated/162903.jpg\n"
     ]
    },
    {
     "name": "stderr",
     "output_type": "stream",
     "text": [
      "Sorting images:  80%|████████  | 162997/202599 [04:16<01:14, 529.47it/s]"
     ]
    },
    {
     "name": "stdout",
     "output_type": "stream",
     "text": [
      "File not found: ./datasets/CelebA/CelebA_original/162943.jpg\n",
      "File not found: ./datasets/CelebA/CelebA_masked/162943.jpg\n",
      "File not found: ./datasets/CelebA/CelebA_pixelated/162943.jpg\n"
     ]
    },
    {
     "name": "stderr",
     "output_type": "stream",
     "text": [
      "Sorting images:  81%|████████  | 163306/202599 [04:17<01:20, 487.70it/s]"
     ]
    },
    {
     "name": "stdout",
     "output_type": "stream",
     "text": [
      "File not found: ./datasets/CelebA/CelebA_original/163242.jpg\n",
      "File not found: ./datasets/CelebA/CelebA_masked/163242.jpg\n",
      "File not found: ./datasets/CelebA/CelebA_pixelated/163242.jpg\n"
     ]
    },
    {
     "name": "stderr",
     "output_type": "stream",
     "text": [
      "Sorting images:  81%|████████  | 163619/202599 [04:17<01:15, 518.54it/s]"
     ]
    },
    {
     "name": "stdout",
     "output_type": "stream",
     "text": [
      "File not found: ./datasets/CelebA/CelebA_original/163559.jpg\n",
      "File not found: ./datasets/CelebA/CelebA_masked/163559.jpg\n",
      "File not found: ./datasets/CelebA/CelebA_pixelated/163559.jpg\n"
     ]
    },
    {
     "name": "stderr",
     "output_type": "stream",
     "text": [
      "Sorting images:  81%|████████  | 163831/202599 [04:18<01:16, 506.04it/s]"
     ]
    },
    {
     "name": "stdout",
     "output_type": "stream",
     "text": [
      "File not found: ./datasets/CelebA/CelebA_original/163756.jpg\n",
      "File not found: ./datasets/CelebA/CelebA_masked/163756.jpg\n",
      "File not found: ./datasets/CelebA/CelebA_pixelated/163756.jpg\n"
     ]
    },
    {
     "name": "stderr",
     "output_type": "stream",
     "text": [
      "Sorting images:  81%|████████  | 163962/202599 [04:18<01:07, 575.89it/s]"
     ]
    },
    {
     "name": "stdout",
     "output_type": "stream",
     "text": [
      "File not found: ./datasets/CelebA/CelebA_original/163875.jpg\n",
      "File not found: ./datasets/CelebA/CelebA_masked/163875.jpg\n",
      "File not found: ./datasets/CelebA/CelebA_pixelated/163875.jpg\n",
      "File not found: ./datasets/CelebA/CelebA_original/163881.jpg\n",
      "File not found: ./datasets/CelebA/CelebA_masked/163881.jpg\n",
      "File not found: ./datasets/CelebA/CelebA_pixelated/163881.jpg\n",
      "File not found: ./datasets/CelebA/CelebA_original/163890.jpg\n",
      "File not found: ./datasets/CelebA/CelebA_masked/163890.jpg\n",
      "File not found: ./datasets/CelebA/CelebA_pixelated/163890.jpg\n",
      "File not found: ./datasets/CelebA/CelebA_original/163906.jpg\n",
      "File not found: ./datasets/CelebA/CelebA_masked/163906.jpg\n",
      "File not found: ./datasets/CelebA/CelebA_pixelated/163906.jpg\n"
     ]
    },
    {
     "name": "stderr",
     "output_type": "stream",
     "text": [
      "Sorting images:  81%|████████  | 164168/202599 [04:18<00:59, 641.00it/s]"
     ]
    },
    {
     "name": "stdout",
     "output_type": "stream",
     "text": [
      "File not found: ./datasets/CelebA/CelebA_original/164073.jpg\n",
      "File not found: ./datasets/CelebA/CelebA_masked/164073.jpg\n",
      "File not found: ./datasets/CelebA/CelebA_pixelated/164073.jpg\n"
     ]
    },
    {
     "name": "stderr",
     "output_type": "stream",
     "text": [
      "Sorting images:  81%|████████  | 164374/202599 [04:19<00:58, 651.89it/s]"
     ]
    },
    {
     "name": "stdout",
     "output_type": "stream",
     "text": [
      "File not found: ./datasets/CelebA/CelebA_original/164273.jpg\n",
      "File not found: ./datasets/CelebA/CelebA_masked/164273.jpg\n",
      "File not found: ./datasets/CelebA/CelebA_pixelated/164273.jpg\n",
      "File not found: ./datasets/CelebA/CelebA_original/164319.jpg\n",
      "File not found: ./datasets/CelebA/CelebA_masked/164319.jpg\n",
      "File not found: ./datasets/CelebA/CelebA_pixelated/164319.jpg\n"
     ]
    },
    {
     "name": "stderr",
     "output_type": "stream",
     "text": [
      "Sorting images:  81%|████████  | 164578/202599 [04:19<00:57, 666.39it/s]"
     ]
    },
    {
     "name": "stdout",
     "output_type": "stream",
     "text": [
      "File not found: ./datasets/CelebA/CelebA_original/164481.jpg\n",
      "File not found: ./datasets/CelebA/CelebA_masked/164481.jpg\n",
      "File not found: ./datasets/CelebA/CelebA_pixelated/164481.jpg\n"
     ]
    },
    {
     "name": "stderr",
     "output_type": "stream",
     "text": [
      "Sorting images:  81%|████████▏ | 164970/202599 [04:19<00:59, 633.20it/s]"
     ]
    },
    {
     "name": "stdout",
     "output_type": "stream",
     "text": [
      "File not found: ./datasets/CelebA/CelebA_original/164900.jpg\n",
      "File not found: ./datasets/CelebA/CelebA_masked/164900.jpg\n",
      "File not found: ./datasets/CelebA/CelebA_pixelated/164900.jpg\n",
      "File not found: ./datasets/CelebA/CelebA_original/165005.jpg\n",
      "File not found: ./datasets/CelebA/CelebA_masked/165005.jpg\n",
      "File not found: ./datasets/CelebA/CelebA_pixelated/165005.jpg\n",
      "File not found: ./datasets/CelebA/CelebA_original/165014.jpg\n",
      "File not found: ./datasets/CelebA/CelebA_masked/165014.jpg\n",
      "File not found: ./datasets/CelebA/CelebA_pixelated/165014.jpg\n"
     ]
    },
    {
     "name": "stderr",
     "output_type": "stream",
     "text": [
      "Sorting images:  82%|████████▏ | 165233/202599 [04:20<00:57, 645.97it/s]"
     ]
    },
    {
     "name": "stdout",
     "output_type": "stream",
     "text": [
      "File not found: ./datasets/CelebA/CelebA_original/165149.jpg\n",
      "File not found: ./datasets/CelebA/CelebA_masked/165149.jpg\n",
      "File not found: ./datasets/CelebA/CelebA_pixelated/165149.jpg\n"
     ]
    },
    {
     "name": "stderr",
     "output_type": "stream",
     "text": [
      "Sorting images:  82%|████████▏ | 165933/202599 [04:21<00:59, 618.09it/s]"
     ]
    },
    {
     "name": "stdout",
     "output_type": "stream",
     "text": [
      "File not found: ./datasets/CelebA/CelebA_original/165868.jpg\n",
      "File not found: ./datasets/CelebA/CelebA_masked/165868.jpg\n",
      "File not found: ./datasets/CelebA/CelebA_pixelated/165868.jpg\n",
      "File not found: ./datasets/CelebA/CelebA_original/165870.jpg\n",
      "File not found: ./datasets/CelebA/CelebA_masked/165870.jpg\n",
      "File not found: ./datasets/CelebA/CelebA_pixelated/165870.jpg\n"
     ]
    },
    {
     "name": "stderr",
     "output_type": "stream",
     "text": [
      "Sorting images:  82%|████████▏ | 166253/202599 [04:22<00:57, 633.39it/s]"
     ]
    },
    {
     "name": "stdout",
     "output_type": "stream",
     "text": [
      "File not found: ./datasets/CelebA/CelebA_original/166188.jpg\n",
      "File not found: ./datasets/CelebA/CelebA_masked/166188.jpg\n",
      "File not found: ./datasets/CelebA/CelebA_pixelated/166188.jpg\n",
      "File not found: ./datasets/CelebA/CelebA_original/166285.jpg\n",
      "File not found: ./datasets/CelebA/CelebA_masked/166285.jpg\n",
      "File not found: ./datasets/CelebA/CelebA_pixelated/166285.jpg\n"
     ]
    },
    {
     "name": "stderr",
     "output_type": "stream",
     "text": [
      "Sorting images:  82%|████████▏ | 167004/202599 [04:23<01:00, 590.62it/s]"
     ]
    },
    {
     "name": "stdout",
     "output_type": "stream",
     "text": [
      "File not found: ./datasets/CelebA/CelebA_original/166920.jpg\n",
      "File not found: ./datasets/CelebA/CelebA_masked/166920.jpg\n",
      "File not found: ./datasets/CelebA/CelebA_pixelated/166920.jpg\n",
      "File not found: ./datasets/CelebA/CelebA_original/166922.jpg\n",
      "File not found: ./datasets/CelebA/CelebA_masked/166922.jpg\n",
      "File not found: ./datasets/CelebA/CelebA_pixelated/166922.jpg\n",
      "File not found: ./datasets/CelebA/CelebA_original/166927.jpg\n",
      "File not found: ./datasets/CelebA/CelebA_masked/166927.jpg\n",
      "File not found: ./datasets/CelebA/CelebA_pixelated/166927.jpg\n"
     ]
    },
    {
     "name": "stderr",
     "output_type": "stream",
     "text": [
      "Sorting images:  82%|████████▏ | 167136/202599 [04:23<00:56, 624.33it/s]"
     ]
    },
    {
     "name": "stdout",
     "output_type": "stream",
     "text": [
      "File not found: ./datasets/CelebA/CelebA_original/167060.jpg\n",
      "File not found: ./datasets/CelebA/CelebA_masked/167060.jpg\n",
      "File not found: ./datasets/CelebA/CelebA_pixelated/167060.jpg\n"
     ]
    },
    {
     "name": "stderr",
     "output_type": "stream",
     "text": [
      "Sorting images:  83%|████████▎ | 167356/202599 [04:23<00:50, 698.26it/s]"
     ]
    },
    {
     "name": "stdout",
     "output_type": "stream",
     "text": [
      "File not found: ./datasets/CelebA/CelebA_original/167217.jpg\n",
      "File not found: ./datasets/CelebA/CelebA_masked/167217.jpg\n",
      "File not found: ./datasets/CelebA/CelebA_pixelated/167217.jpg\n"
     ]
    },
    {
     "name": "stderr",
     "output_type": "stream",
     "text": [
      "Sorting images:  83%|████████▎ | 167645/202599 [04:24<00:50, 691.39it/s]"
     ]
    },
    {
     "name": "stdout",
     "output_type": "stream",
     "text": [
      "File not found: ./datasets/CelebA/CelebA_original/167571.jpg\n",
      "File not found: ./datasets/CelebA/CelebA_masked/167571.jpg\n",
      "File not found: ./datasets/CelebA/CelebA_pixelated/167571.jpg\n"
     ]
    },
    {
     "name": "stderr",
     "output_type": "stream",
     "text": [
      "Sorting images:  83%|████████▎ | 168323/202599 [04:25<00:46, 736.18it/s]"
     ]
    },
    {
     "name": "stdout",
     "output_type": "stream",
     "text": [
      "File not found: ./datasets/CelebA/CelebA_original/168217.jpg\n",
      "File not found: ./datasets/CelebA/CelebA_masked/168217.jpg\n",
      "File not found: ./datasets/CelebA/CelebA_pixelated/168217.jpg\n"
     ]
    },
    {
     "name": "stderr",
     "output_type": "stream",
     "text": [
      "Sorting images:  84%|████████▎ | 169343/202599 [04:26<00:45, 727.64it/s]"
     ]
    },
    {
     "name": "stdout",
     "output_type": "stream",
     "text": [
      "File not found: ./datasets/CelebA/CelebA_original/169204.jpg\n",
      "File not found: ./datasets/CelebA/CelebA_masked/169204.jpg\n",
      "File not found: ./datasets/CelebA/CelebA_pixelated/169204.jpg\n"
     ]
    },
    {
     "name": "stderr",
     "output_type": "stream",
     "text": [
      "Sorting images:  84%|████████▍ | 169705/202599 [04:27<00:46, 705.19it/s]"
     ]
    },
    {
     "name": "stdout",
     "output_type": "stream",
     "text": [
      "File not found: ./datasets/CelebA/CelebA_original/169576.jpg\n",
      "File not found: ./datasets/CelebA/CelebA_masked/169576.jpg\n",
      "File not found: ./datasets/CelebA/CelebA_pixelated/169576.jpg\n"
     ]
    },
    {
     "name": "stderr",
     "output_type": "stream",
     "text": [
      "Sorting images:  84%|████████▍ | 170215/202599 [04:27<00:44, 727.20it/s]"
     ]
    },
    {
     "name": "stdout",
     "output_type": "stream",
     "text": [
      "File not found: ./datasets/CelebA/CelebA_original/170120.jpg\n",
      "File not found: ./datasets/CelebA/CelebA_masked/170120.jpg\n",
      "File not found: ./datasets/CelebA/CelebA_pixelated/170120.jpg\n"
     ]
    },
    {
     "name": "stderr",
     "output_type": "stream",
     "text": [
      "Sorting images:  84%|████████▍ | 170953/202599 [04:28<00:42, 737.07it/s]"
     ]
    },
    {
     "name": "stdout",
     "output_type": "stream",
     "text": [
      "File not found: ./datasets/CelebA/CelebA_original/170863.jpg\n",
      "File not found: ./datasets/CelebA/CelebA_masked/170863.jpg\n",
      "File not found: ./datasets/CelebA/CelebA_pixelated/170863.jpg\n",
      "File not found: ./datasets/CelebA/CelebA_original/170895.jpg\n",
      "File not found: ./datasets/CelebA/CelebA_masked/170895.jpg\n",
      "File not found: ./datasets/CelebA/CelebA_pixelated/170895.jpg\n"
     ]
    },
    {
     "name": "stderr",
     "output_type": "stream",
     "text": [
      "Sorting images:  85%|████████▍ | 171537/202599 [04:29<00:42, 727.82it/s]"
     ]
    },
    {
     "name": "stdout",
     "output_type": "stream",
     "text": [
      "File not found: ./datasets/CelebA/CelebA_original/171394.jpg\n",
      "File not found: ./datasets/CelebA/CelebA_masked/171394.jpg\n",
      "File not found: ./datasets/CelebA/CelebA_pixelated/171394.jpg\n"
     ]
    },
    {
     "name": "stderr",
     "output_type": "stream",
     "text": [
      "Sorting images:  85%|████████▍ | 171683/202599 [04:29<00:43, 718.70it/s]"
     ]
    },
    {
     "name": "stdout",
     "output_type": "stream",
     "text": [
      "File not found: ./datasets/CelebA/CelebA_original/171573.jpg\n",
      "File not found: ./datasets/CelebA/CelebA_masked/171573.jpg\n",
      "File not found: ./datasets/CelebA/CelebA_pixelated/171573.jpg\n"
     ]
    },
    {
     "name": "stderr",
     "output_type": "stream",
     "text": [
      "Sorting images:  85%|████████▍ | 171908/202599 [04:30<00:42, 722.70it/s]"
     ]
    },
    {
     "name": "stdout",
     "output_type": "stream",
     "text": [
      "File not found: ./datasets/CelebA/CelebA_original/171787.jpg\n",
      "File not found: ./datasets/CelebA/CelebA_masked/171787.jpg\n",
      "File not found: ./datasets/CelebA/CelebA_pixelated/171787.jpg\n"
     ]
    },
    {
     "name": "stderr",
     "output_type": "stream",
     "text": [
      "Sorting images:  85%|████████▌ | 172279/202599 [04:30<00:41, 731.40it/s]"
     ]
    },
    {
     "name": "stdout",
     "output_type": "stream",
     "text": [
      "File not found: ./datasets/CelebA/CelebA_original/172136.jpg\n",
      "File not found: ./datasets/CelebA/CelebA_masked/172136.jpg\n",
      "File not found: ./datasets/CelebA/CelebA_pixelated/172136.jpg\n",
      "File not found: ./datasets/CelebA/CelebA_original/172189.jpg\n",
      "File not found: ./datasets/CelebA/CelebA_masked/172189.jpg\n",
      "File not found: ./datasets/CelebA/CelebA_pixelated/172189.jpg\n"
     ]
    },
    {
     "name": "stderr",
     "output_type": "stream",
     "text": [
      "Sorting images:  85%|████████▌ | 172718/202599 [04:31<00:41, 724.07it/s]"
     ]
    },
    {
     "name": "stdout",
     "output_type": "stream",
     "text": [
      "File not found: ./datasets/CelebA/CelebA_original/172637.jpg\n",
      "File not found: ./datasets/CelebA/CelebA_masked/172637.jpg\n",
      "File not found: ./datasets/CelebA/CelebA_pixelated/172637.jpg\n"
     ]
    },
    {
     "name": "stderr",
     "output_type": "stream",
     "text": [
      "Sorting images:  86%|████████▌ | 173298/202599 [04:32<00:40, 714.87it/s]"
     ]
    },
    {
     "name": "stdout",
     "output_type": "stream",
     "text": [
      "File not found: ./datasets/CelebA/CelebA_original/173158.jpg\n",
      "File not found: ./datasets/CelebA/CelebA_masked/173158.jpg\n",
      "File not found: ./datasets/CelebA/CelebA_pixelated/173158.jpg\n"
     ]
    },
    {
     "name": "stderr",
     "output_type": "stream",
     "text": [
      "Sorting images:  86%|████████▌ | 173506/202599 [04:32<00:46, 620.27it/s]"
     ]
    },
    {
     "name": "stdout",
     "output_type": "stream",
     "text": [
      "File not found: ./datasets/CelebA/CelebA_original/173399.jpg\n",
      "File not found: ./datasets/CelebA/CelebA_masked/173399.jpg\n",
      "File not found: ./datasets/CelebA/CelebA_pixelated/173399.jpg\n"
     ]
    },
    {
     "name": "stderr",
     "output_type": "stream",
     "text": [
      "Sorting images:  86%|████████▌ | 174302/202599 [04:33<00:37, 748.66it/s]"
     ]
    },
    {
     "name": "stdout",
     "output_type": "stream",
     "text": [
      "File not found: ./datasets/CelebA/CelebA_original/174200.jpg\n",
      "File not found: ./datasets/CelebA/CelebA_masked/174200.jpg\n",
      "File not found: ./datasets/CelebA/CelebA_pixelated/174200.jpg\n",
      "File not found: ./datasets/CelebA/CelebA_original/174224.jpg\n",
      "File not found: ./datasets/CelebA/CelebA_masked/174224.jpg\n",
      "File not found: ./datasets/CelebA/CelebA_pixelated/174224.jpg\n"
     ]
    },
    {
     "name": "stderr",
     "output_type": "stream",
     "text": [
      "Sorting images:  86%|████████▌ | 174607/202599 [04:34<00:38, 732.11it/s]"
     ]
    },
    {
     "name": "stdout",
     "output_type": "stream",
     "text": [
      "File not found: ./datasets/CelebA/CelebA_original/174474.jpg\n",
      "File not found: ./datasets/CelebA/CelebA_masked/174474.jpg\n",
      "File not found: ./datasets/CelebA/CelebA_pixelated/174474.jpg\n"
     ]
    },
    {
     "name": "stderr",
     "output_type": "stream",
     "text": [
      "Sorting images:  86%|████████▋ | 174834/202599 [04:34<00:37, 736.85it/s]"
     ]
    },
    {
     "name": "stdout",
     "output_type": "stream",
     "text": [
      "File not found: ./datasets/CelebA/CelebA_original/174699.jpg\n",
      "File not found: ./datasets/CelebA/CelebA_masked/174699.jpg\n",
      "File not found: ./datasets/CelebA/CelebA_pixelated/174699.jpg\n"
     ]
    },
    {
     "name": "stderr",
     "output_type": "stream",
     "text": [
      "Sorting images:  86%|████████▋ | 175062/202599 [04:34<00:36, 746.86it/s]"
     ]
    },
    {
     "name": "stdout",
     "output_type": "stream",
     "text": [
      "File not found: ./datasets/CelebA/CelebA_original/174980.jpg\n",
      "File not found: ./datasets/CelebA/CelebA_masked/174980.jpg\n",
      "File not found: ./datasets/CelebA/CelebA_pixelated/174980.jpg\n"
     ]
    },
    {
     "name": "stderr",
     "output_type": "stream",
     "text": [
      "Sorting images:  87%|████████▋ | 175841/202599 [04:35<00:37, 707.66it/s]"
     ]
    },
    {
     "name": "stdout",
     "output_type": "stream",
     "text": [
      "File not found: ./datasets/CelebA/CelebA_original/175717.jpg\n",
      "File not found: ./datasets/CelebA/CelebA_masked/175717.jpg\n",
      "File not found: ./datasets/CelebA/CelebA_pixelated/175717.jpg\n",
      "File not found: ./datasets/CelebA/CelebA_original/175791.jpg\n",
      "File not found: ./datasets/CelebA/CelebA_masked/175791.jpg\n",
      "File not found: ./datasets/CelebA/CelebA_pixelated/175791.jpg\n",
      "File not found: ./datasets/CelebA/CelebA_original/175832.jpg\n",
      "File not found: ./datasets/CelebA/CelebA_masked/175832.jpg\n",
      "File not found: ./datasets/CelebA/CelebA_pixelated/175832.jpg\n"
     ]
    },
    {
     "name": "stderr",
     "output_type": "stream",
     "text": [
      "Sorting images:  87%|████████▋ | 175992/202599 [04:36<00:37, 712.19it/s]"
     ]
    },
    {
     "name": "stdout",
     "output_type": "stream",
     "text": [
      "File not found: ./datasets/CelebA/CelebA_original/175918.jpg\n",
      "File not found: ./datasets/CelebA/CelebA_masked/175918.jpg\n",
      "File not found: ./datasets/CelebA/CelebA_pixelated/175918.jpg\n",
      "File not found: ./datasets/CelebA/CelebA_original/176000.jpg\n",
      "File not found: ./datasets/CelebA/CelebA_masked/176000.jpg\n",
      "File not found: ./datasets/CelebA/CelebA_pixelated/176000.jpg\n"
     ]
    },
    {
     "name": "stderr",
     "output_type": "stream",
     "text": [
      "Sorting images:  87%|████████▋ | 176536/202599 [04:36<00:37, 693.74it/s]"
     ]
    },
    {
     "name": "stdout",
     "output_type": "stream",
     "text": [
      "File not found: ./datasets/CelebA/CelebA_original/176407.jpg\n",
      "File not found: ./datasets/CelebA/CelebA_masked/176407.jpg\n",
      "File not found: ./datasets/CelebA/CelebA_pixelated/176407.jpg\n",
      "File not found: ./datasets/CelebA/CelebA_original/176493.jpg\n",
      "File not found: ./datasets/CelebA/CelebA_masked/176493.jpg\n",
      "File not found: ./datasets/CelebA/CelebA_pixelated/176493.jpg\n"
     ]
    },
    {
     "name": "stderr",
     "output_type": "stream",
     "text": [
      "Sorting images:  87%|████████▋ | 176892/202599 [04:37<00:37, 694.45it/s]"
     ]
    },
    {
     "name": "stdout",
     "output_type": "stream",
     "text": [
      "File not found: ./datasets/CelebA/CelebA_original/176766.jpg\n",
      "File not found: ./datasets/CelebA/CelebA_masked/176766.jpg\n",
      "File not found: ./datasets/CelebA/CelebA_pixelated/176766.jpg\n",
      "File not found: ./datasets/CelebA/CelebA_original/176893.jpg\n",
      "File not found: ./datasets/CelebA/CelebA_masked/176893.jpg\n",
      "File not found: ./datasets/CelebA/CelebA_pixelated/176893.jpg\n"
     ]
    },
    {
     "name": "stderr",
     "output_type": "stream",
     "text": [
      "Sorting images:  88%|████████▊ | 177999/202599 [04:38<00:32, 763.75it/s]"
     ]
    },
    {
     "name": "stdout",
     "output_type": "stream",
     "text": [
      "File not found: ./datasets/CelebA/CelebA_original/177913.jpg\n",
      "File not found: ./datasets/CelebA/CelebA_masked/177913.jpg\n",
      "File not found: ./datasets/CelebA/CelebA_pixelated/177913.jpg\n",
      "File not found: ./datasets/CelebA/CelebA_original/177948.jpg\n",
      "File not found: ./datasets/CelebA/CelebA_masked/177948.jpg\n",
      "File not found: ./datasets/CelebA/CelebA_pixelated/177948.jpg\n"
     ]
    },
    {
     "name": "stderr",
     "output_type": "stream",
     "text": [
      "Sorting images:  88%|████████▊ | 178370/202599 [04:39<00:34, 706.90it/s]"
     ]
    },
    {
     "name": "stdout",
     "output_type": "stream",
     "text": [
      "File not found: ./datasets/CelebA/CelebA_original/178261.jpg\n",
      "File not found: ./datasets/CelebA/CelebA_masked/178261.jpg\n",
      "File not found: ./datasets/CelebA/CelebA_pixelated/178261.jpg\n"
     ]
    },
    {
     "name": "stderr",
     "output_type": "stream",
     "text": [
      "Sorting images:  88%|████████▊ | 179103/202599 [04:40<00:31, 735.51it/s]"
     ]
    },
    {
     "name": "stdout",
     "output_type": "stream",
     "text": [
      "File not found: ./datasets/CelebA/CelebA_original/178957.jpg\n",
      "File not found: ./datasets/CelebA/CelebA_masked/178957.jpg\n",
      "File not found: ./datasets/CelebA/CelebA_pixelated/178957.jpg\n"
     ]
    },
    {
     "name": "stderr",
     "output_type": "stream",
     "text": [
      "Sorting images:  89%|████████▊ | 179632/202599 [04:41<00:30, 753.79it/s]"
     ]
    },
    {
     "name": "stdout",
     "output_type": "stream",
     "text": [
      "File not found: ./datasets/CelebA/CelebA_original/179577.jpg\n",
      "File not found: ./datasets/CelebA/CelebA_masked/179577.jpg\n",
      "File not found: ./datasets/CelebA/CelebA_pixelated/179577.jpg\n",
      "File not found: ./datasets/CelebA/CelebA_original/179621.jpg\n",
      "File not found: ./datasets/CelebA/CelebA_masked/179621.jpg\n",
      "File not found: ./datasets/CelebA/CelebA_pixelated/179621.jpg\n"
     ]
    },
    {
     "name": "stderr",
     "output_type": "stream",
     "text": [
      "Sorting images:  89%|████████▉ | 180061/202599 [04:41<00:32, 694.55it/s]"
     ]
    },
    {
     "name": "stdout",
     "output_type": "stream",
     "text": [
      "File not found: ./datasets/CelebA/CelebA_original/179985.jpg\n",
      "File not found: ./datasets/CelebA/CelebA_masked/179985.jpg\n",
      "File not found: ./datasets/CelebA/CelebA_pixelated/179985.jpg\n",
      "File not found: ./datasets/CelebA/CelebA_original/180020.jpg\n",
      "File not found: ./datasets/CelebA/CelebA_masked/180020.jpg\n",
      "File not found: ./datasets/CelebA/CelebA_pixelated/180020.jpg\n"
     ]
    },
    {
     "name": "stderr",
     "output_type": "stream",
     "text": [
      "Sorting images:  89%|████████▉ | 180283/202599 [04:42<00:30, 723.50it/s]"
     ]
    },
    {
     "name": "stdout",
     "output_type": "stream",
     "text": [
      "File not found: ./datasets/CelebA/CelebA_original/180211.jpg\n",
      "File not found: ./datasets/CelebA/CelebA_masked/180211.jpg\n",
      "File not found: ./datasets/CelebA/CelebA_pixelated/180211.jpg\n",
      "File not found: ./datasets/CelebA/CelebA_original/180322.jpg\n",
      "File not found: ./datasets/CelebA/CelebA_masked/180322.jpg\n",
      "File not found: ./datasets/CelebA/CelebA_pixelated/180322.jpg\n"
     ]
    },
    {
     "name": "stderr",
     "output_type": "stream",
     "text": [
      "Sorting images:  89%|████████▉ | 180948/202599 [04:43<00:29, 743.06it/s]"
     ]
    },
    {
     "name": "stdout",
     "output_type": "stream",
     "text": [
      "File not found: ./datasets/CelebA/CelebA_original/180858.jpg\n",
      "File not found: ./datasets/CelebA/CelebA_masked/180858.jpg\n",
      "File not found: ./datasets/CelebA/CelebA_pixelated/180858.jpg\n"
     ]
    },
    {
     "name": "stderr",
     "output_type": "stream",
     "text": [
      "Sorting images:  89%|████████▉ | 181255/202599 [04:43<00:28, 748.94it/s]"
     ]
    },
    {
     "name": "stdout",
     "output_type": "stream",
     "text": [
      "File not found: ./datasets/CelebA/CelebA_original/181166.jpg\n",
      "File not found: ./datasets/CelebA/CelebA_masked/181166.jpg\n",
      "File not found: ./datasets/CelebA/CelebA_pixelated/181166.jpg\n",
      "File not found: ./datasets/CelebA/CelebA_original/181210.jpg\n",
      "File not found: ./datasets/CelebA/CelebA_masked/181210.jpg\n",
      "File not found: ./datasets/CelebA/CelebA_pixelated/181210.jpg\n"
     ]
    },
    {
     "name": "stderr",
     "output_type": "stream",
     "text": [
      "Sorting images:  90%|████████▉ | 181636/202599 [04:44<00:28, 738.96it/s]"
     ]
    },
    {
     "name": "stdout",
     "output_type": "stream",
     "text": [
      "File not found: ./datasets/CelebA/CelebA_original/181505.jpg\n",
      "File not found: ./datasets/CelebA/CelebA_masked/181505.jpg\n",
      "File not found: ./datasets/CelebA/CelebA_pixelated/181505.jpg\n"
     ]
    },
    {
     "name": "stderr",
     "output_type": "stream",
     "text": [
      "Sorting images:  90%|████████▉ | 181785/202599 [04:44<00:28, 735.88it/s]"
     ]
    },
    {
     "name": "stdout",
     "output_type": "stream",
     "text": [
      "File not found: ./datasets/CelebA/CelebA_original/181658.jpg\n",
      "File not found: ./datasets/CelebA/CelebA_masked/181658.jpg\n",
      "File not found: ./datasets/CelebA/CelebA_pixelated/181658.jpg\n"
     ]
    },
    {
     "name": "stderr",
     "output_type": "stream",
     "text": [
      "Sorting images:  90%|████████▉ | 182013/202599 [04:44<00:28, 720.17it/s]"
     ]
    },
    {
     "name": "stdout",
     "output_type": "stream",
     "text": [
      "File not found: ./datasets/CelebA/CelebA_original/181885.jpg\n",
      "File not found: ./datasets/CelebA/CelebA_masked/181885.jpg\n",
      "File not found: ./datasets/CelebA/CelebA_pixelated/181885.jpg\n",
      "File not found: ./datasets/CelebA/CelebA_original/182021.jpg\n",
      "File not found: ./datasets/CelebA/CelebA_masked/182021.jpg\n",
      "File not found: ./datasets/CelebA/CelebA_pixelated/182021.jpg\n"
     ]
    },
    {
     "name": "stderr",
     "output_type": "stream",
     "text": [
      "Sorting images:  90%|████████▉ | 182157/202599 [04:44<00:29, 681.54it/s]"
     ]
    },
    {
     "name": "stdout",
     "output_type": "stream",
     "text": [
      "File not found: ./datasets/CelebA/CelebA_original/182040.jpg\n",
      "File not found: ./datasets/CelebA/CelebA_masked/182040.jpg\n",
      "File not found: ./datasets/CelebA/CelebA_pixelated/182040.jpg\n",
      "File not found: ./datasets/CelebA/CelebA_original/182123.jpg\n",
      "File not found: ./datasets/CelebA/CelebA_masked/182123.jpg\n",
      "File not found: ./datasets/CelebA/CelebA_pixelated/182123.jpg\n"
     ]
    },
    {
     "name": "stderr",
     "output_type": "stream",
     "text": [
      "Sorting images:  90%|█████████ | 182912/202599 [04:45<00:25, 759.77it/s]"
     ]
    },
    {
     "name": "stdout",
     "output_type": "stream",
     "text": [
      "File not found: ./datasets/CelebA/CelebA_original/182770.jpg\n",
      "File not found: ./datasets/CelebA/CelebA_masked/182770.jpg\n",
      "File not found: ./datasets/CelebA/CelebA_pixelated/182770.jpg\n"
     ]
    },
    {
     "name": "stderr",
     "output_type": "stream",
     "text": [
      "Sorting images:  91%|█████████ | 183512/202599 [04:46<00:26, 728.62it/s]"
     ]
    },
    {
     "name": "stdout",
     "output_type": "stream",
     "text": [
      "File not found: ./datasets/CelebA/CelebA_original/183430.jpg\n",
      "File not found: ./datasets/CelebA/CelebA_masked/183430.jpg\n",
      "File not found: ./datasets/CelebA/CelebA_pixelated/183430.jpg\n"
     ]
    },
    {
     "name": "stderr",
     "output_type": "stream",
     "text": [
      "Sorting images:  91%|█████████ | 184023/202599 [04:47<00:28, 644.68it/s]"
     ]
    },
    {
     "name": "stdout",
     "output_type": "stream",
     "text": [
      "File not found: ./datasets/CelebA/CelebA_original/183917.jpg\n",
      "File not found: ./datasets/CelebA/CelebA_masked/183917.jpg\n",
      "File not found: ./datasets/CelebA/CelebA_pixelated/183917.jpg\n"
     ]
    },
    {
     "name": "stderr",
     "output_type": "stream",
     "text": [
      "Sorting images:  91%|█████████ | 184159/202599 [04:47<00:28, 652.31it/s]"
     ]
    },
    {
     "name": "stdout",
     "output_type": "stream",
     "text": [
      "File not found: ./datasets/CelebA/CelebA_original/184032.jpg\n",
      "File not found: ./datasets/CelebA/CelebA_masked/184032.jpg\n",
      "File not found: ./datasets/CelebA/CelebA_pixelated/184032.jpg\n"
     ]
    },
    {
     "name": "stderr",
     "output_type": "stream",
     "text": [
      "Sorting images:  91%|█████████▏| 184962/202599 [04:48<00:24, 719.03it/s]"
     ]
    },
    {
     "name": "stdout",
     "output_type": "stream",
     "text": [
      "File not found: ./datasets/CelebA/CelebA_original/184887.jpg\n",
      "File not found: ./datasets/CelebA/CelebA_masked/184887.jpg\n",
      "File not found: ./datasets/CelebA/CelebA_pixelated/184887.jpg\n"
     ]
    },
    {
     "name": "stderr",
     "output_type": "stream",
     "text": [
      "Sorting images:  91%|█████████▏| 185176/202599 [04:49<00:26, 654.83it/s]"
     ]
    },
    {
     "name": "stdout",
     "output_type": "stream",
     "text": [
      "File not found: ./datasets/CelebA/CelebA_original/185100.jpg\n",
      "File not found: ./datasets/CelebA/CelebA_masked/185100.jpg\n",
      "File not found: ./datasets/CelebA/CelebA_pixelated/185100.jpg\n"
     ]
    },
    {
     "name": "stderr",
     "output_type": "stream",
     "text": [
      "Sorting images:  92%|█████████▏| 185612/202599 [04:49<00:28, 586.75it/s]"
     ]
    },
    {
     "name": "stdout",
     "output_type": "stream",
     "text": [
      "File not found: ./datasets/CelebA/CelebA_original/185510.jpg\n",
      "File not found: ./datasets/CelebA/CelebA_masked/185510.jpg\n",
      "File not found: ./datasets/CelebA/CelebA_pixelated/185510.jpg\n"
     ]
    },
    {
     "name": "stderr",
     "output_type": "stream",
     "text": [
      "Sorting images:  92%|█████████▏| 186193/202599 [04:50<00:23, 700.64it/s]"
     ]
    },
    {
     "name": "stdout",
     "output_type": "stream",
     "text": [
      "File not found: ./datasets/CelebA/CelebA_original/186068.jpg\n",
      "File not found: ./datasets/CelebA/CelebA_masked/186068.jpg\n",
      "File not found: ./datasets/CelebA/CelebA_pixelated/186068.jpg\n"
     ]
    },
    {
     "name": "stderr",
     "output_type": "stream",
     "text": [
      "Sorting images:  92%|█████████▏| 186804/202599 [04:51<00:25, 614.54it/s]"
     ]
    },
    {
     "name": "stdout",
     "output_type": "stream",
     "text": [
      "File not found: ./datasets/CelebA/CelebA_original/186733.jpg\n",
      "File not found: ./datasets/CelebA/CelebA_masked/186733.jpg\n",
      "File not found: ./datasets/CelebA/CelebA_pixelated/186733.jpg\n"
     ]
    },
    {
     "name": "stderr",
     "output_type": "stream",
     "text": [
      "Sorting images:  92%|█████████▏| 186988/202599 [04:52<00:26, 579.80it/s]"
     ]
    },
    {
     "name": "stdout",
     "output_type": "stream",
     "text": [
      "File not found: ./datasets/CelebA/CelebA_original/186925.jpg\n",
      "File not found: ./datasets/CelebA/CelebA_masked/186925.jpg\n",
      "File not found: ./datasets/CelebA/CelebA_pixelated/186925.jpg\n",
      "File not found: ./datasets/CelebA/CelebA_original/186958.jpg\n",
      "File not found: ./datasets/CelebA/CelebA_masked/186958.jpg\n",
      "File not found: ./datasets/CelebA/CelebA_pixelated/186958.jpg\n"
     ]
    },
    {
     "name": "stderr",
     "output_type": "stream",
     "text": [
      "Sorting images:  92%|█████████▏| 187404/202599 [04:52<00:25, 588.53it/s]"
     ]
    },
    {
     "name": "stdout",
     "output_type": "stream",
     "text": [
      "File not found: ./datasets/CelebA/CelebA_original/187303.jpg\n",
      "File not found: ./datasets/CelebA/CelebA_masked/187303.jpg\n",
      "File not found: ./datasets/CelebA/CelebA_pixelated/187303.jpg\n"
     ]
    },
    {
     "name": "stderr",
     "output_type": "stream",
     "text": [
      "Sorting images:  93%|█████████▎| 187812/202599 [04:53<00:26, 561.67it/s]"
     ]
    },
    {
     "name": "stdout",
     "output_type": "stream",
     "text": [
      "File not found: ./datasets/CelebA/CelebA_original/187721.jpg\n",
      "File not found: ./datasets/CelebA/CelebA_masked/187721.jpg\n",
      "File not found: ./datasets/CelebA/CelebA_pixelated/187721.jpg\n"
     ]
    },
    {
     "name": "stderr",
     "output_type": "stream",
     "text": [
      "Sorting images:  93%|█████████▎| 188434/202599 [04:54<00:23, 613.62it/s]"
     ]
    },
    {
     "name": "stdout",
     "output_type": "stream",
     "text": [
      "File not found: ./datasets/CelebA/CelebA_original/188349.jpg\n",
      "File not found: ./datasets/CelebA/CelebA_masked/188349.jpg\n",
      "File not found: ./datasets/CelebA/CelebA_pixelated/188349.jpg\n",
      "File not found: ./datasets/CelebA/CelebA_original/188457.jpg\n",
      "File not found: ./datasets/CelebA/CelebA_masked/188457.jpg\n",
      "File not found: ./datasets/CelebA/CelebA_pixelated/188457.jpg\n"
     ]
    },
    {
     "name": "stderr",
     "output_type": "stream",
     "text": [
      "Sorting images:  93%|█████████▎| 188807/202599 [04:55<00:23, 592.26it/s]"
     ]
    },
    {
     "name": "stdout",
     "output_type": "stream",
     "text": [
      "File not found: ./datasets/CelebA/CelebA_original/188706.jpg\n",
      "File not found: ./datasets/CelebA/CelebA_masked/188706.jpg\n",
      "File not found: ./datasets/CelebA/CelebA_pixelated/188706.jpg\n"
     ]
    },
    {
     "name": "stderr",
     "output_type": "stream",
     "text": [
      "Sorting images:  94%|█████████▍| 189969/202599 [04:56<00:17, 722.64it/s]"
     ]
    },
    {
     "name": "stdout",
     "output_type": "stream",
     "text": [
      "File not found: ./datasets/CelebA/CelebA_original/189864.jpg\n",
      "File not found: ./datasets/CelebA/CelebA_masked/189864.jpg\n",
      "File not found: ./datasets/CelebA/CelebA_pixelated/189864.jpg\n"
     ]
    },
    {
     "name": "stderr",
     "output_type": "stream",
     "text": [
      "Sorting images:  94%|█████████▍| 190260/202599 [04:57<00:18, 661.43it/s]"
     ]
    },
    {
     "name": "stdout",
     "output_type": "stream",
     "text": [
      "File not found: ./datasets/CelebA/CelebA_original/190178.jpg\n",
      "File not found: ./datasets/CelebA/CelebA_masked/190178.jpg\n",
      "File not found: ./datasets/CelebA/CelebA_pixelated/190178.jpg\n"
     ]
    },
    {
     "name": "stderr",
     "output_type": "stream",
     "text": [
      "Sorting images:  94%|█████████▍| 190393/202599 [04:57<00:19, 625.32it/s]"
     ]
    },
    {
     "name": "stdout",
     "output_type": "stream",
     "text": [
      "File not found: ./datasets/CelebA/CelebA_original/190326.jpg\n",
      "File not found: ./datasets/CelebA/CelebA_masked/190326.jpg\n",
      "File not found: ./datasets/CelebA/CelebA_pixelated/190326.jpg\n"
     ]
    },
    {
     "name": "stderr",
     "output_type": "stream",
     "text": [
      "Sorting images:  94%|█████████▍| 190587/202599 [04:57<00:19, 614.94it/s]"
     ]
    },
    {
     "name": "stdout",
     "output_type": "stream",
     "text": [
      "File not found: ./datasets/CelebA/CelebA_original/190490.jpg\n",
      "File not found: ./datasets/CelebA/CelebA_masked/190490.jpg\n",
      "File not found: ./datasets/CelebA/CelebA_pixelated/190490.jpg\n",
      "File not found: ./datasets/CelebA/CelebA_original/190491.jpg\n",
      "File not found: ./datasets/CelebA/CelebA_masked/190491.jpg\n",
      "File not found: ./datasets/CelebA/CelebA_pixelated/190491.jpg\n"
     ]
    },
    {
     "name": "stderr",
     "output_type": "stream",
     "text": [
      "Sorting images:  94%|█████████▍| 190838/202599 [04:58<00:19, 612.36it/s]"
     ]
    },
    {
     "name": "stdout",
     "output_type": "stream",
     "text": [
      "File not found: ./datasets/CelebA/CelebA_original/190717.jpg\n",
      "File not found: ./datasets/CelebA/CelebA_masked/190717.jpg\n",
      "File not found: ./datasets/CelebA/CelebA_pixelated/190717.jpg\n",
      "File not found: ./datasets/CelebA/CelebA_original/190721.jpg\n",
      "File not found: ./datasets/CelebA/CelebA_masked/190721.jpg\n",
      "File not found: ./datasets/CelebA/CelebA_pixelated/190721.jpg\n",
      "File not found: ./datasets/CelebA/CelebA_original/190753.jpg\n",
      "File not found: ./datasets/CelebA/CelebA_masked/190753.jpg\n",
      "File not found: ./datasets/CelebA/CelebA_pixelated/190753.jpg\n"
     ]
    },
    {
     "name": "stderr",
     "output_type": "stream",
     "text": [
      "Sorting images:  94%|█████████▍| 190904/202599 [04:58<00:18, 624.69it/s]"
     ]
    },
    {
     "name": "stdout",
     "output_type": "stream",
     "text": [
      "File not found: ./datasets/CelebA/CelebA_original/190847.jpg\n",
      "File not found: ./datasets/CelebA/CelebA_masked/190847.jpg\n",
      "File not found: ./datasets/CelebA/CelebA_pixelated/190847.jpg\n"
     ]
    },
    {
     "name": "stderr",
     "output_type": "stream",
     "text": [
      "Sorting images:  94%|█████████▍| 191189/202599 [04:59<00:23, 481.99it/s]"
     ]
    },
    {
     "name": "stdout",
     "output_type": "stream",
     "text": [
      "File not found: ./datasets/CelebA/CelebA_original/191103.jpg\n",
      "File not found: ./datasets/CelebA/CelebA_masked/191103.jpg\n",
      "File not found: ./datasets/CelebA/CelebA_pixelated/191103.jpg\n",
      "File not found: ./datasets/CelebA/CelebA_original/191114.jpg\n",
      "File not found: ./datasets/CelebA/CelebA_masked/191114.jpg\n",
      "File not found: ./datasets/CelebA/CelebA_pixelated/191114.jpg\n"
     ]
    },
    {
     "name": "stderr",
     "output_type": "stream",
     "text": [
      "Sorting images:  94%|█████████▍| 191382/202599 [04:59<00:20, 537.65it/s]"
     ]
    },
    {
     "name": "stdout",
     "output_type": "stream",
     "text": [
      "File not found: ./datasets/CelebA/CelebA_original/191321.jpg\n",
      "File not found: ./datasets/CelebA/CelebA_masked/191321.jpg\n",
      "File not found: ./datasets/CelebA/CelebA_pixelated/191321.jpg\n",
      "File not found: ./datasets/CelebA/CelebA_original/191365.jpg\n",
      "File not found: ./datasets/CelebA/CelebA_masked/191365.jpg\n",
      "File not found: ./datasets/CelebA/CelebA_pixelated/191365.jpg\n"
     ]
    },
    {
     "name": "stderr",
     "output_type": "stream",
     "text": [
      "Sorting images:  95%|█████████▍| 191768/202599 [05:00<00:16, 642.08it/s]"
     ]
    },
    {
     "name": "stdout",
     "output_type": "stream",
     "text": [
      "File not found: ./datasets/CelebA/CelebA_original/191674.jpg\n",
      "File not found: ./datasets/CelebA/CelebA_masked/191674.jpg\n",
      "File not found: ./datasets/CelebA/CelebA_pixelated/191674.jpg\n"
     ]
    },
    {
     "name": "stderr",
     "output_type": "stream",
     "text": [
      "Sorting images:  95%|█████████▌| 192560/202599 [05:01<00:16, 623.03it/s]"
     ]
    },
    {
     "name": "stdout",
     "output_type": "stream",
     "text": [
      "File not found: ./datasets/CelebA/CelebA_original/192489.jpg\n",
      "File not found: ./datasets/CelebA/CelebA_masked/192489.jpg\n",
      "File not found: ./datasets/CelebA/CelebA_pixelated/192489.jpg\n"
     ]
    },
    {
     "name": "stderr",
     "output_type": "stream",
     "text": [
      "Sorting images:  95%|█████████▌| 193476/202599 [05:02<00:14, 627.58it/s]"
     ]
    },
    {
     "name": "stdout",
     "output_type": "stream",
     "text": [
      "File not found: ./datasets/CelebA/CelebA_original/193355.jpg\n",
      "File not found: ./datasets/CelebA/CelebA_masked/193355.jpg\n",
      "File not found: ./datasets/CelebA/CelebA_pixelated/193355.jpg\n",
      "File not found: ./datasets/CelebA/CelebA_original/193381.jpg\n",
      "File not found: ./datasets/CelebA/CelebA_masked/193381.jpg\n",
      "File not found: ./datasets/CelebA/CelebA_pixelated/193381.jpg\n"
     ]
    },
    {
     "name": "stderr",
     "output_type": "stream",
     "text": [
      "Sorting images:  96%|█████████▌| 193598/202599 [05:02<00:16, 552.18it/s]"
     ]
    },
    {
     "name": "stdout",
     "output_type": "stream",
     "text": [
      "File not found: ./datasets/CelebA/CelebA_original/193524.jpg\n",
      "File not found: ./datasets/CelebA/CelebA_masked/193524.jpg\n",
      "File not found: ./datasets/CelebA/CelebA_pixelated/193524.jpg\n"
     ]
    },
    {
     "name": "stderr",
     "output_type": "stream",
     "text": [
      "Sorting images:  96%|█████████▌| 193771/202599 [05:03<00:15, 558.00it/s]"
     ]
    },
    {
     "name": "stdout",
     "output_type": "stream",
     "text": [
      "File not found: ./datasets/CelebA/CelebA_original/193709.jpg\n",
      "File not found: ./datasets/CelebA/CelebA_masked/193709.jpg\n",
      "File not found: ./datasets/CelebA/CelebA_pixelated/193709.jpg\n"
     ]
    },
    {
     "name": "stderr",
     "output_type": "stream",
     "text": [
      "Sorting images:  96%|█████████▌| 193889/202599 [05:03<00:15, 568.98it/s]"
     ]
    },
    {
     "name": "stdout",
     "output_type": "stream",
     "text": [
      "File not found: ./datasets/CelebA/CelebA_original/193827.jpg\n",
      "File not found: ./datasets/CelebA/CelebA_masked/193827.jpg\n",
      "File not found: ./datasets/CelebA/CelebA_pixelated/193827.jpg\n"
     ]
    },
    {
     "name": "stderr",
     "output_type": "stream",
     "text": [
      "Sorting images:  96%|█████████▌| 194587/202599 [05:04<00:11, 689.58it/s]"
     ]
    },
    {
     "name": "stdout",
     "output_type": "stream",
     "text": [
      "File not found: ./datasets/CelebA/CelebA_original/194470.jpg\n",
      "File not found: ./datasets/CelebA/CelebA_masked/194470.jpg\n",
      "File not found: ./datasets/CelebA/CelebA_pixelated/194470.jpg\n"
     ]
    },
    {
     "name": "stderr",
     "output_type": "stream",
     "text": [
      "Sorting images:  96%|█████████▌| 194737/202599 [05:04<00:11, 690.08it/s]"
     ]
    },
    {
     "name": "stdout",
     "output_type": "stream",
     "text": [
      "File not found: ./datasets/CelebA/CelebA_original/194630.jpg\n",
      "File not found: ./datasets/CelebA/CelebA_masked/194630.jpg\n",
      "File not found: ./datasets/CelebA/CelebA_pixelated/194630.jpg\n"
     ]
    },
    {
     "name": "stderr",
     "output_type": "stream",
     "text": [
      "Sorting images:  96%|█████████▌| 194953/202599 [05:05<00:11, 693.93it/s]"
     ]
    },
    {
     "name": "stdout",
     "output_type": "stream",
     "text": [
      "File not found: ./datasets/CelebA/CelebA_original/194863.jpg\n",
      "File not found: ./datasets/CelebA/CelebA_masked/194863.jpg\n",
      "File not found: ./datasets/CelebA/CelebA_pixelated/194863.jpg\n",
      "File not found: ./datasets/CelebA/CelebA_original/194874.jpg\n",
      "File not found: ./datasets/CelebA/CelebA_masked/194874.jpg\n",
      "File not found: ./datasets/CelebA/CelebA_pixelated/194874.jpg\n",
      "File not found: ./datasets/CelebA/CelebA_original/194887.jpg\n",
      "File not found: ./datasets/CelebA/CelebA_masked/194887.jpg\n",
      "File not found: ./datasets/CelebA/CelebA_pixelated/194887.jpg\n"
     ]
    },
    {
     "name": "stderr",
     "output_type": "stream",
     "text": [
      "Sorting images:  97%|█████████▋| 195525/202599 [05:05<00:09, 722.17it/s]"
     ]
    },
    {
     "name": "stdout",
     "output_type": "stream",
     "text": [
      "File not found: ./datasets/CelebA/CelebA_original/195434.jpg\n",
      "File not found: ./datasets/CelebA/CelebA_masked/195434.jpg\n",
      "File not found: ./datasets/CelebA/CelebA_pixelated/195434.jpg\n"
     ]
    },
    {
     "name": "stderr",
     "output_type": "stream",
     "text": [
      "Sorting images:  97%|█████████▋| 196149/202599 [05:06<00:08, 784.58it/s]"
     ]
    },
    {
     "name": "stdout",
     "output_type": "stream",
     "text": [
      "File not found: ./datasets/CelebA/CelebA_original/195995.jpg\n",
      "File not found: ./datasets/CelebA/CelebA_masked/195995.jpg\n",
      "File not found: ./datasets/CelebA/CelebA_pixelated/195995.jpg\n"
     ]
    },
    {
     "name": "stderr",
     "output_type": "stream",
     "text": [
      "Sorting images:  97%|█████████▋| 196849/202599 [05:07<00:07, 740.32it/s]"
     ]
    },
    {
     "name": "stdout",
     "output_type": "stream",
     "text": [
      "File not found: ./datasets/CelebA/CelebA_original/196706.jpg\n",
      "File not found: ./datasets/CelebA/CelebA_masked/196706.jpg\n",
      "File not found: ./datasets/CelebA/CelebA_pixelated/196706.jpg\n"
     ]
    },
    {
     "name": "stderr",
     "output_type": "stream",
     "text": [
      "Sorting images:  97%|█████████▋| 197144/202599 [05:08<00:07, 712.24it/s]"
     ]
    },
    {
     "name": "stdout",
     "output_type": "stream",
     "text": [
      "File not found: ./datasets/CelebA/CelebA_original/197019.jpg\n",
      "File not found: ./datasets/CelebA/CelebA_masked/197019.jpg\n",
      "File not found: ./datasets/CelebA/CelebA_pixelated/197019.jpg\n",
      "File not found: ./datasets/CelebA/CelebA_original/197056.jpg\n",
      "File not found: ./datasets/CelebA/CelebA_masked/197056.jpg\n",
      "File not found: ./datasets/CelebA/CelebA_pixelated/197056.jpg\n",
      "File not found: ./datasets/CelebA/CelebA_original/197109.jpg\n",
      "File not found: ./datasets/CelebA/CelebA_masked/197109.jpg\n",
      "File not found: ./datasets/CelebA/CelebA_pixelated/197109.jpg\n"
     ]
    },
    {
     "name": "stderr",
     "output_type": "stream",
     "text": [
      "Sorting images:  97%|█████████▋| 197292/202599 [05:08<00:07, 708.60it/s]"
     ]
    },
    {
     "name": "stdout",
     "output_type": "stream",
     "text": [
      "File not found: ./datasets/CelebA/CelebA_original/197194.jpg\n",
      "File not found: ./datasets/CelebA/CelebA_masked/197194.jpg\n",
      "File not found: ./datasets/CelebA/CelebA_pixelated/197194.jpg\n",
      "File not found: ./datasets/CelebA/CelebA_original/197273.jpg\n",
      "File not found: ./datasets/CelebA/CelebA_masked/197273.jpg\n",
      "File not found: ./datasets/CelebA/CelebA_pixelated/197273.jpg\n"
     ]
    },
    {
     "name": "stderr",
     "output_type": "stream",
     "text": [
      "Sorting images:  98%|█████████▊| 197586/202599 [05:08<00:07, 693.10it/s]"
     ]
    },
    {
     "name": "stdout",
     "output_type": "stream",
     "text": [
      "File not found: ./datasets/CelebA/CelebA_original/197494.jpg\n",
      "File not found: ./datasets/CelebA/CelebA_masked/197494.jpg\n",
      "File not found: ./datasets/CelebA/CelebA_pixelated/197494.jpg\n"
     ]
    },
    {
     "name": "stderr",
     "output_type": "stream",
     "text": [
      "Sorting images:  98%|█████████▊| 198254/202599 [05:09<00:05, 747.28it/s]"
     ]
    },
    {
     "name": "stdout",
     "output_type": "stream",
     "text": [
      "File not found: ./datasets/CelebA/CelebA_original/198134.jpg\n",
      "File not found: ./datasets/CelebA/CelebA_masked/198134.jpg\n",
      "File not found: ./datasets/CelebA/CelebA_pixelated/198134.jpg\n"
     ]
    },
    {
     "name": "stderr",
     "output_type": "stream",
     "text": [
      "Sorting images:  98%|█████████▊| 198478/202599 [05:09<00:05, 713.79it/s]"
     ]
    },
    {
     "name": "stdout",
     "output_type": "stream",
     "text": [
      "File not found: ./datasets/CelebA/CelebA_original/198363.jpg\n",
      "File not found: ./datasets/CelebA/CelebA_masked/198363.jpg\n",
      "File not found: ./datasets/CelebA/CelebA_pixelated/198363.jpg\n",
      "File not found: ./datasets/CelebA/CelebA_original/198400.jpg\n",
      "File not found: ./datasets/CelebA/CelebA_masked/198400.jpg\n",
      "File not found: ./datasets/CelebA/CelebA_pixelated/198400.jpg\n"
     ]
    },
    {
     "name": "stderr",
     "output_type": "stream",
     "text": [
      "Sorting images:  98%|█████████▊| 198623/202599 [05:10<00:05, 697.39it/s]"
     ]
    },
    {
     "name": "stdout",
     "output_type": "stream",
     "text": [
      "File not found: ./datasets/CelebA/CelebA_original/198520.jpg\n",
      "File not found: ./datasets/CelebA/CelebA_masked/198520.jpg\n",
      "File not found: ./datasets/CelebA/CelebA_pixelated/198520.jpg\n",
      "File not found: ./datasets/CelebA/CelebA_original/198603.jpg\n",
      "File not found: ./datasets/CelebA/CelebA_masked/198603.jpg\n",
      "File not found: ./datasets/CelebA/CelebA_pixelated/198603.jpg\n",
      "File not found: ./datasets/CelebA/CelebA_original/198648.jpg\n",
      "File not found: ./datasets/CelebA/CelebA_masked/198648.jpg\n",
      "File not found: ./datasets/CelebA/CelebA_pixelated/198648.jpg\n"
     ]
    },
    {
     "name": "stderr",
     "output_type": "stream",
     "text": [
      "Sorting images:  99%|█████████▊| 199567/202599 [05:11<00:04, 636.21it/s]"
     ]
    },
    {
     "name": "stdout",
     "output_type": "stream",
     "text": [
      "File not found: ./datasets/CelebA/CelebA_original/199447.jpg\n",
      "File not found: ./datasets/CelebA/CelebA_masked/199447.jpg\n",
      "File not found: ./datasets/CelebA/CelebA_pixelated/199447.jpg\n"
     ]
    },
    {
     "name": "stderr",
     "output_type": "stream",
     "text": [
      "Sorting images:  99%|█████████▊| 199955/202599 [05:12<00:04, 626.34it/s]"
     ]
    },
    {
     "name": "stdout",
     "output_type": "stream",
     "text": [
      "File not found: ./datasets/CelebA/CelebA_original/199832.jpg\n",
      "File not found: ./datasets/CelebA/CelebA_masked/199832.jpg\n",
      "File not found: ./datasets/CelebA/CelebA_pixelated/199832.jpg\n"
     ]
    },
    {
     "name": "stderr",
     "output_type": "stream",
     "text": [
      "Sorting images:  99%|█████████▉| 200587/202599 [05:13<00:03, 629.45it/s]"
     ]
    },
    {
     "name": "stdout",
     "output_type": "stream",
     "text": [
      "File not found: ./datasets/CelebA/CelebA_original/200472.jpg\n",
      "File not found: ./datasets/CelebA/CelebA_masked/200472.jpg\n",
      "File not found: ./datasets/CelebA/CelebA_pixelated/200472.jpg\n",
      "File not found: ./datasets/CelebA/CelebA_original/200571.jpg\n",
      "File not found: ./datasets/CelebA/CelebA_masked/200571.jpg\n",
      "File not found: ./datasets/CelebA/CelebA_pixelated/200571.jpg\n"
     ]
    },
    {
     "name": "stderr",
     "output_type": "stream",
     "text": [
      "Sorting images:  99%|█████████▉| 200777/202599 [05:13<00:02, 611.20it/s]"
     ]
    },
    {
     "name": "stdout",
     "output_type": "stream",
     "text": [
      "File not found: ./datasets/CelebA/CelebA_original/200684.jpg\n",
      "File not found: ./datasets/CelebA/CelebA_masked/200684.jpg\n",
      "File not found: ./datasets/CelebA/CelebA_pixelated/200684.jpg\n",
      "File not found: ./datasets/CelebA/CelebA_original/200729.jpg\n",
      "File not found: ./datasets/CelebA/CelebA_masked/200729.jpg\n",
      "File not found: ./datasets/CelebA/CelebA_pixelated/200729.jpg\n"
     ]
    },
    {
     "name": "stderr",
     "output_type": "stream",
     "text": [
      "Sorting images: 100%|█████████▉| 201786/202599 [05:15<00:01, 685.49it/s]"
     ]
    },
    {
     "name": "stdout",
     "output_type": "stream",
     "text": [
      "File not found: ./datasets/CelebA/CelebA_original/201700.jpg\n",
      "File not found: ./datasets/CelebA/CelebA_masked/201700.jpg\n",
      "File not found: ./datasets/CelebA/CelebA_pixelated/201700.jpg\n"
     ]
    },
    {
     "name": "stderr",
     "output_type": "stream",
     "text": [
      "Sorting images: 100%|██████████| 202599/202599 [05:16<00:00, 640.58it/s]"
     ]
    },
    {
     "name": "stdout",
     "output_type": "stream",
     "text": [
      "File not found: ./datasets/CelebA/CelebA_original/202565.jpg\n",
      "File not found: ./datasets/CelebA/CelebA_masked/202565.jpg\n",
      "File not found: ./datasets/CelebA/CelebA_pixelated/202565.jpg\n"
     ]
    },
    {
     "name": "stderr",
     "output_type": "stream",
     "text": [
      "\n"
     ]
    }
   ],
   "source": [
    "for _, row in tqdm(partitions.iterrows(), desc=\"Sorting images\", total=len(partitions)):\n",
    "    image_id = row[\"image_id\"]\n",
    "    partition = row[\"partition\"]\n",
    "\n",
    "    partition_folder = \"train\" if partition == 0 else \"val\" if partition == 1 else \"test\"\n",
    "\n",
    "    for base_path in [CELEB_A_ORIGINAL_PATH, CELEB_A_MASKED_PATH, CELEB_A_PIXELATED_PATH]:\n",
    "        src_path = os.path.join(base_path, image_id)\n",
    "        dest_path = os.path.join(base_path, partition_folder, image_id)\n",
    "\n",
    "        if os.path.exists(src_path):\n",
    "            try:\n",
    "                shutil.move(src_path, dest_path)\n",
    "            except Exception as e:\n",
    "                print(f\"Error moving {image_id} from {base_path}: {e}\")\n",
    "        else:\n",
    "            print(f\"File not found: {src_path}\")"
   ]
  },
  {
   "cell_type": "code",
   "execution_count": 7,
   "metadata": {},
   "outputs": [],
   "source": [
    "def check_consistency(base_paths=[CELEB_A_ORIGINAL_PATH, CELEB_A_MASKED_PATH, CELEB_A_PIXELATED_PATH], partitions=(\"train\", \"val\", \"test\")):\n",
    "    all_consistent = True\n",
    "    \n",
    "    for partition in partitions:\n",
    "        print(f\"Checking consistency for partition: {partition}\")\n",
    "        \n",
    "        reference_path = os.path.join(base_paths[0], partition)\n",
    "        reference_files = set(os.listdir(reference_path))\n",
    "        \n",
    "        for base_path in base_paths[1:]:\n",
    "            compare_path = os.path.join(base_path, partition)\n",
    "            compare_files = set(os.listdir(compare_path))\n",
    "            \n",
    "            missing_files = reference_files - compare_files\n",
    "            extra_files = compare_files - reference_files\n",
    "            \n",
    "            if missing_files or extra_files:\n",
    "                all_consistent = False\n",
    "                print(f\"Issue in {base_path}/{partition}:\")\n",
    "                if missing_files:\n",
    "                    print(f\"  Missing files: {missing_files}\")\n",
    "                if extra_files:\n",
    "                    print(f\"  Extra files: {extra_files}\")\n",
    "            else:\n",
    "                print(f\"{base_path}/{partition} is consistent.\")\n",
    "    \n",
    "    if all_consistent:\n",
    "        print(\"All folders are consistent!\")\n",
    "    else:\n",
    "        print(\"Inconsistencies found across folders.\")"
   ]
  },
  {
   "cell_type": "code",
   "execution_count": 8,
   "metadata": {},
   "outputs": [
    {
     "name": "stdout",
     "output_type": "stream",
     "text": [
      "Checking consistency for partition: train\n",
      "./datasets/CelebA/CelebA_masked//train is consistent.\n",
      "./datasets/CelebA/CelebA_pixelated//train is consistent.\n",
      "Checking consistency for partition: val\n",
      "./datasets/CelebA/CelebA_masked//val is consistent.\n",
      "./datasets/CelebA/CelebA_pixelated//val is consistent.\n",
      "Checking consistency for partition: test\n",
      "./datasets/CelebA/CelebA_masked//test is consistent.\n",
      "./datasets/CelebA/CelebA_pixelated//test is consistent.\n",
      "All folders are consistent!\n"
     ]
    }
   ],
   "source": [
    "check_consistency()"
   ]
  }
 ],
 "metadata": {
  "kernelspec": {
   "display_name": "pia11",
   "language": "python",
   "name": "python3"
  },
  "language_info": {
   "codemirror_mode": {
    "name": "ipython",
    "version": 3
   },
   "file_extension": ".py",
   "mimetype": "text/x-python",
   "name": "python",
   "nbconvert_exporter": "python",
   "pygments_lexer": "ipython3",
   "version": "3.11.9"
  }
 },
 "nbformat": 4,
 "nbformat_minor": 2
}
